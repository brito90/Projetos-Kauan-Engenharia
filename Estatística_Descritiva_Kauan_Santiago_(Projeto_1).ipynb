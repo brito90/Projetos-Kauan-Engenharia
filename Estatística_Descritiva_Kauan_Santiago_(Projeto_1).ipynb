{
  "nbformat": 4,
  "nbformat_minor": 0,
  "metadata": {
    "colab": {
      "provenance": []
    },
    "kernelspec": {
      "name": "python3",
      "display_name": "Python 3"
    }
  },
  "cells": [
    {
      "cell_type": "markdown",
      "metadata": {
        "id": "_KJSn9as96pO"
      },
      "source": [
        "### Estatística Descritiva (Kauan Santiago Ferreira)\n",
        " Engenheiro de Dados\n",
        "\n",
        "---\n",
        "\n",
        "\n",
        "\n"
      ]
    },
    {
      "cell_type": "markdown",
      "metadata": {
        "id": "Wxow8PtQDf7R"
      },
      "source": [
        "A Estatística é um ramo da Matemática voltado à análise dados. Ela se encontra na base do método científico, pois os dados obtidos em experimentos científicos devem ser analisados rigorosamente através de métodos da Estatística.\n",
        "\n",
        "A estatística descritiva, tem por objetivo sintetizar, ou seja, resumir uma série de valores de mesma natureza, permitindo dessa forma que se tenha uma visão global da variação desses valores. A estatística descritiva organiza e descreve os dados de três maneiras: por meio de tabelas, de gráficos e de\n",
        "medidas descritivas.\n",
        "\n",
        "Como **medidas descritivas** podemos citar as medidas de tendência central, as  medidas de dispersão e as medidas de distribuição.\n"
      ]
    },
    {
      "cell_type": "markdown",
      "metadata": {
        "id": "PN2Pr4wt3ZCy"
      },
      "source": [
        "## Base de dados de Pacientes"
      ]
    },
    {
      "cell_type": "markdown",
      "metadata": {
        "id": "-kRhoDH99IKP"
      },
      "source": [
        "Antes de conhecer as funções da linguagem python para obtenção das medidas descritivas precisamos carregar e explorar a base de dados que vamos utilizar para os cálculos."
      ]
    },
    {
      "cell_type": "markdown",
      "metadata": {
        "id": "TB0Ld77v9m_R"
      },
      "source": [
        "As instruções a seguir carregam uma base de dados de PACIENTES contendo informações como Identificação, Altura, Peso, Pulsação (batimentos por minuto), Pressão sistólica e diastólica, taxa de colesterol e Índice de Massa Corporal (IMC)."
      ]
    },
    {
      "cell_type": "code",
      "metadata": {
        "id": "LGv_wDpYDizP",
        "colab": {
          "base_uri": "https://localhost:8080/",
          "height": 206
        },
        "outputId": "1aa53174-ebeb-4a00-ba6e-d7c6e07731eb"
      },
      "source": [
        "import pandas as pd\n",
        "#https://drive.google.com/file/d/1foZsAIE3sSoFf53ENs9QCQ29ZqcMOxac/view?usp=sharing\n",
        "codigo = \"1foZsAIE3sSoFf53ENs9QCQ29ZqcMOxac\"\n",
        "file = \"https://drive.google.com/u/3/uc?id=\" + codigo + \"&export=download\"\n",
        "# Base de Dados de Pacientes\n",
        "# Note a especificação de SEPARADOR (ponto e vírgula)\n",
        "# Note a especificação de VÍRGULA DECIMAL\n",
        "pacientes = pd.read_csv(file, sep = \";\",decimal=\",\")\n",
        "#df = pd.read_csv(file)\n",
        "pacientes.head()"
      ],
      "execution_count": null,
      "outputs": [
        {
          "output_type": "execute_result",
          "data": {
            "text/plain": [
              "   Ident  Idade  Altura  Peso  Pulsacao  Sistolica  Diastolica  Colesterol  \\\n",
              "0      1     58    1.80  76.1        68        125          78         522   \n",
              "1      2     22    1.68  64.9        64        107          54         127   \n",
              "2      3     32    1.82  80.7        88        126          81         740   \n",
              "3      4     31    1.74  79.1        72        110          68          49   \n",
              "4      5     28    1.72  68.7        64        110          66         230   \n",
              "\n",
              "    IMC  \n",
              "0  23.5  \n",
              "1  23.0  \n",
              "2  24.3  \n",
              "3  26.0  \n",
              "4  23.3  "
            ],
            "text/html": [
              "\n",
              "  <div id=\"df-2fcc9690-497c-4cf9-b4df-ee247f3cdfdd\" class=\"colab-df-container\">\n",
              "    <div>\n",
              "<style scoped>\n",
              "    .dataframe tbody tr th:only-of-type {\n",
              "        vertical-align: middle;\n",
              "    }\n",
              "\n",
              "    .dataframe tbody tr th {\n",
              "        vertical-align: top;\n",
              "    }\n",
              "\n",
              "    .dataframe thead th {\n",
              "        text-align: right;\n",
              "    }\n",
              "</style>\n",
              "<table border=\"1\" class=\"dataframe\">\n",
              "  <thead>\n",
              "    <tr style=\"text-align: right;\">\n",
              "      <th></th>\n",
              "      <th>Ident</th>\n",
              "      <th>Idade</th>\n",
              "      <th>Altura</th>\n",
              "      <th>Peso</th>\n",
              "      <th>Pulsacao</th>\n",
              "      <th>Sistolica</th>\n",
              "      <th>Diastolica</th>\n",
              "      <th>Colesterol</th>\n",
              "      <th>IMC</th>\n",
              "    </tr>\n",
              "  </thead>\n",
              "  <tbody>\n",
              "    <tr>\n",
              "      <th>0</th>\n",
              "      <td>1</td>\n",
              "      <td>58</td>\n",
              "      <td>1.80</td>\n",
              "      <td>76.1</td>\n",
              "      <td>68</td>\n",
              "      <td>125</td>\n",
              "      <td>78</td>\n",
              "      <td>522</td>\n",
              "      <td>23.5</td>\n",
              "    </tr>\n",
              "    <tr>\n",
              "      <th>1</th>\n",
              "      <td>2</td>\n",
              "      <td>22</td>\n",
              "      <td>1.68</td>\n",
              "      <td>64.9</td>\n",
              "      <td>64</td>\n",
              "      <td>107</td>\n",
              "      <td>54</td>\n",
              "      <td>127</td>\n",
              "      <td>23.0</td>\n",
              "    </tr>\n",
              "    <tr>\n",
              "      <th>2</th>\n",
              "      <td>3</td>\n",
              "      <td>32</td>\n",
              "      <td>1.82</td>\n",
              "      <td>80.7</td>\n",
              "      <td>88</td>\n",
              "      <td>126</td>\n",
              "      <td>81</td>\n",
              "      <td>740</td>\n",
              "      <td>24.3</td>\n",
              "    </tr>\n",
              "    <tr>\n",
              "      <th>3</th>\n",
              "      <td>4</td>\n",
              "      <td>31</td>\n",
              "      <td>1.74</td>\n",
              "      <td>79.1</td>\n",
              "      <td>72</td>\n",
              "      <td>110</td>\n",
              "      <td>68</td>\n",
              "      <td>49</td>\n",
              "      <td>26.0</td>\n",
              "    </tr>\n",
              "    <tr>\n",
              "      <th>4</th>\n",
              "      <td>5</td>\n",
              "      <td>28</td>\n",
              "      <td>1.72</td>\n",
              "      <td>68.7</td>\n",
              "      <td>64</td>\n",
              "      <td>110</td>\n",
              "      <td>66</td>\n",
              "      <td>230</td>\n",
              "      <td>23.3</td>\n",
              "    </tr>\n",
              "  </tbody>\n",
              "</table>\n",
              "</div>\n",
              "    <div class=\"colab-df-buttons\">\n",
              "\n",
              "  <div class=\"colab-df-container\">\n",
              "    <button class=\"colab-df-convert\" onclick=\"convertToInteractive('df-2fcc9690-497c-4cf9-b4df-ee247f3cdfdd')\"\n",
              "            title=\"Convert this dataframe to an interactive table.\"\n",
              "            style=\"display:none;\">\n",
              "\n",
              "  <svg xmlns=\"http://www.w3.org/2000/svg\" height=\"24px\" viewBox=\"0 -960 960 960\">\n",
              "    <path d=\"M120-120v-720h720v720H120Zm60-500h600v-160H180v160Zm220 220h160v-160H400v160Zm0 220h160v-160H400v160ZM180-400h160v-160H180v160Zm440 0h160v-160H620v160ZM180-180h160v-160H180v160Zm440 0h160v-160H620v160Z\"/>\n",
              "  </svg>\n",
              "    </button>\n",
              "\n",
              "  <style>\n",
              "    .colab-df-container {\n",
              "      display:flex;\n",
              "      gap: 12px;\n",
              "    }\n",
              "\n",
              "    .colab-df-convert {\n",
              "      background-color: #E8F0FE;\n",
              "      border: none;\n",
              "      border-radius: 50%;\n",
              "      cursor: pointer;\n",
              "      display: none;\n",
              "      fill: #1967D2;\n",
              "      height: 32px;\n",
              "      padding: 0 0 0 0;\n",
              "      width: 32px;\n",
              "    }\n",
              "\n",
              "    .colab-df-convert:hover {\n",
              "      background-color: #E2EBFA;\n",
              "      box-shadow: 0px 1px 2px rgba(60, 64, 67, 0.3), 0px 1px 3px 1px rgba(60, 64, 67, 0.15);\n",
              "      fill: #174EA6;\n",
              "    }\n",
              "\n",
              "    .colab-df-buttons div {\n",
              "      margin-bottom: 4px;\n",
              "    }\n",
              "\n",
              "    [theme=dark] .colab-df-convert {\n",
              "      background-color: #3B4455;\n",
              "      fill: #D2E3FC;\n",
              "    }\n",
              "\n",
              "    [theme=dark] .colab-df-convert:hover {\n",
              "      background-color: #434B5C;\n",
              "      box-shadow: 0px 1px 3px 1px rgba(0, 0, 0, 0.15);\n",
              "      filter: drop-shadow(0px 1px 2px rgba(0, 0, 0, 0.3));\n",
              "      fill: #FFFFFF;\n",
              "    }\n",
              "  </style>\n",
              "\n",
              "    <script>\n",
              "      const buttonEl =\n",
              "        document.querySelector('#df-2fcc9690-497c-4cf9-b4df-ee247f3cdfdd button.colab-df-convert');\n",
              "      buttonEl.style.display =\n",
              "        google.colab.kernel.accessAllowed ? 'block' : 'none';\n",
              "\n",
              "      async function convertToInteractive(key) {\n",
              "        const element = document.querySelector('#df-2fcc9690-497c-4cf9-b4df-ee247f3cdfdd');\n",
              "        const dataTable =\n",
              "          await google.colab.kernel.invokeFunction('convertToInteractive',\n",
              "                                                    [key], {});\n",
              "        if (!dataTable) return;\n",
              "\n",
              "        const docLinkHtml = 'Like what you see? Visit the ' +\n",
              "          '<a target=\"_blank\" href=https://colab.research.google.com/notebooks/data_table.ipynb>data table notebook</a>'\n",
              "          + ' to learn more about interactive tables.';\n",
              "        element.innerHTML = '';\n",
              "        dataTable['output_type'] = 'display_data';\n",
              "        await google.colab.output.renderOutput(dataTable, element);\n",
              "        const docLink = document.createElement('div');\n",
              "        docLink.innerHTML = docLinkHtml;\n",
              "        element.appendChild(docLink);\n",
              "      }\n",
              "    </script>\n",
              "  </div>\n",
              "\n",
              "\n",
              "    <div id=\"df-201723f5-ee2c-4e7e-b259-c76c4b491e33\">\n",
              "      <button class=\"colab-df-quickchart\" onclick=\"quickchart('df-201723f5-ee2c-4e7e-b259-c76c4b491e33')\"\n",
              "                title=\"Suggest charts\"\n",
              "                style=\"display:none;\">\n",
              "\n",
              "<svg xmlns=\"http://www.w3.org/2000/svg\" height=\"24px\"viewBox=\"0 0 24 24\"\n",
              "     width=\"24px\">\n",
              "    <g>\n",
              "        <path d=\"M19 3H5c-1.1 0-2 .9-2 2v14c0 1.1.9 2 2 2h14c1.1 0 2-.9 2-2V5c0-1.1-.9-2-2-2zM9 17H7v-7h2v7zm4 0h-2V7h2v10zm4 0h-2v-4h2v4z\"/>\n",
              "    </g>\n",
              "</svg>\n",
              "      </button>\n",
              "\n",
              "<style>\n",
              "  .colab-df-quickchart {\n",
              "      --bg-color: #E8F0FE;\n",
              "      --fill-color: #1967D2;\n",
              "      --hover-bg-color: #E2EBFA;\n",
              "      --hover-fill-color: #174EA6;\n",
              "      --disabled-fill-color: #AAA;\n",
              "      --disabled-bg-color: #DDD;\n",
              "  }\n",
              "\n",
              "  [theme=dark] .colab-df-quickchart {\n",
              "      --bg-color: #3B4455;\n",
              "      --fill-color: #D2E3FC;\n",
              "      --hover-bg-color: #434B5C;\n",
              "      --hover-fill-color: #FFFFFF;\n",
              "      --disabled-bg-color: #3B4455;\n",
              "      --disabled-fill-color: #666;\n",
              "  }\n",
              "\n",
              "  .colab-df-quickchart {\n",
              "    background-color: var(--bg-color);\n",
              "    border: none;\n",
              "    border-radius: 50%;\n",
              "    cursor: pointer;\n",
              "    display: none;\n",
              "    fill: var(--fill-color);\n",
              "    height: 32px;\n",
              "    padding: 0;\n",
              "    width: 32px;\n",
              "  }\n",
              "\n",
              "  .colab-df-quickchart:hover {\n",
              "    background-color: var(--hover-bg-color);\n",
              "    box-shadow: 0 1px 2px rgba(60, 64, 67, 0.3), 0 1px 3px 1px rgba(60, 64, 67, 0.15);\n",
              "    fill: var(--button-hover-fill-color);\n",
              "  }\n",
              "\n",
              "  .colab-df-quickchart-complete:disabled,\n",
              "  .colab-df-quickchart-complete:disabled:hover {\n",
              "    background-color: var(--disabled-bg-color);\n",
              "    fill: var(--disabled-fill-color);\n",
              "    box-shadow: none;\n",
              "  }\n",
              "\n",
              "  .colab-df-spinner {\n",
              "    border: 2px solid var(--fill-color);\n",
              "    border-color: transparent;\n",
              "    border-bottom-color: var(--fill-color);\n",
              "    animation:\n",
              "      spin 1s steps(1) infinite;\n",
              "  }\n",
              "\n",
              "  @keyframes spin {\n",
              "    0% {\n",
              "      border-color: transparent;\n",
              "      border-bottom-color: var(--fill-color);\n",
              "      border-left-color: var(--fill-color);\n",
              "    }\n",
              "    20% {\n",
              "      border-color: transparent;\n",
              "      border-left-color: var(--fill-color);\n",
              "      border-top-color: var(--fill-color);\n",
              "    }\n",
              "    30% {\n",
              "      border-color: transparent;\n",
              "      border-left-color: var(--fill-color);\n",
              "      border-top-color: var(--fill-color);\n",
              "      border-right-color: var(--fill-color);\n",
              "    }\n",
              "    40% {\n",
              "      border-color: transparent;\n",
              "      border-right-color: var(--fill-color);\n",
              "      border-top-color: var(--fill-color);\n",
              "    }\n",
              "    60% {\n",
              "      border-color: transparent;\n",
              "      border-right-color: var(--fill-color);\n",
              "    }\n",
              "    80% {\n",
              "      border-color: transparent;\n",
              "      border-right-color: var(--fill-color);\n",
              "      border-bottom-color: var(--fill-color);\n",
              "    }\n",
              "    90% {\n",
              "      border-color: transparent;\n",
              "      border-bottom-color: var(--fill-color);\n",
              "    }\n",
              "  }\n",
              "</style>\n",
              "\n",
              "      <script>\n",
              "        async function quickchart(key) {\n",
              "          const quickchartButtonEl =\n",
              "            document.querySelector('#' + key + ' button');\n",
              "          quickchartButtonEl.disabled = true;  // To prevent multiple clicks.\n",
              "          quickchartButtonEl.classList.add('colab-df-spinner');\n",
              "          try {\n",
              "            const charts = await google.colab.kernel.invokeFunction(\n",
              "                'suggestCharts', [key], {});\n",
              "          } catch (error) {\n",
              "            console.error('Error during call to suggestCharts:', error);\n",
              "          }\n",
              "          quickchartButtonEl.classList.remove('colab-df-spinner');\n",
              "          quickchartButtonEl.classList.add('colab-df-quickchart-complete');\n",
              "        }\n",
              "        (() => {\n",
              "          let quickchartButtonEl =\n",
              "            document.querySelector('#df-201723f5-ee2c-4e7e-b259-c76c4b491e33 button');\n",
              "          quickchartButtonEl.style.display =\n",
              "            google.colab.kernel.accessAllowed ? 'block' : 'none';\n",
              "        })();\n",
              "      </script>\n",
              "    </div>\n",
              "\n",
              "    </div>\n",
              "  </div>\n"
            ],
            "application/vnd.google.colaboratory.intrinsic+json": {
              "type": "dataframe",
              "variable_name": "pacientes",
              "summary": "{\n  \"name\": \"pacientes\",\n  \"rows\": 21,\n  \"fields\": [\n    {\n      \"column\": \"Ident\",\n      \"properties\": {\n        \"dtype\": \"number\",\n        \"std\": 6,\n        \"min\": 1,\n        \"max\": 21,\n        \"num_unique_values\": 21,\n        \"samples\": [\n          1,\n          18,\n          16\n        ],\n        \"semantic_type\": \"\",\n        \"description\": \"\"\n      }\n    },\n    {\n      \"column\": \"Idade\",\n      \"properties\": {\n        \"dtype\": \"number\",\n        \"std\": 16,\n        \"min\": 17,\n        \"max\": 73,\n        \"num_unique_values\": 15,\n        \"samples\": [\n          54,\n          73,\n          58\n        ],\n        \"semantic_type\": \"\",\n        \"description\": \"\"\n      }\n    },\n    {\n      \"column\": \"Altura\",\n      \"properties\": {\n        \"dtype\": \"number\",\n        \"std\": 0.08453514343863432,\n        \"min\": 1.56,\n        \"max\": 1.94,\n        \"num_unique_values\": 16,\n        \"samples\": [\n          1.8,\n          1.68,\n          1.76\n        ],\n        \"semantic_type\": \"\",\n        \"description\": \"\"\n      }\n    },\n    {\n      \"column\": \"Peso\",\n      \"properties\": {\n        \"dtype\": \"number\",\n        \"std\": 12.375115199079005,\n        \"min\": 60.8,\n        \"max\": 106.7,\n        \"num_unique_values\": 21,\n        \"samples\": [\n          76.1,\n          99.3,\n          106.7\n        ],\n        \"semantic_type\": \"\",\n        \"description\": \"\"\n      }\n    },\n    {\n      \"column\": \"Pulsacao\",\n      \"properties\": {\n        \"dtype\": \"number\",\n        \"std\": 11,\n        \"min\": 56,\n        \"max\": 96,\n        \"num_unique_values\": 9,\n        \"samples\": [\n          56,\n          64,\n          76\n        ],\n        \"semantic_type\": \"\",\n        \"description\": \"\"\n      }\n    },\n    {\n      \"column\": \"Sistolica\",\n      \"properties\": {\n        \"dtype\": \"number\",\n        \"std\": 11,\n        \"min\": 107,\n        \"max\": 153,\n        \"num_unique_values\": 13,\n        \"samples\": [\n          121,\n          119,\n          125\n        ],\n        \"semantic_type\": \"\",\n        \"description\": \"\"\n      }\n    },\n    {\n      \"column\": \"Diastolica\",\n      \"properties\": {\n        \"dtype\": \"number\",\n        \"std\": 10,\n        \"min\": 44,\n        \"max\": 87,\n        \"num_unique_values\": 17,\n        \"samples\": [\n          78,\n          54,\n          83\n        ],\n        \"semantic_type\": \"\",\n        \"description\": \"\"\n      }\n    },\n    {\n      \"column\": \"Colesterol\",\n      \"properties\": {\n        \"dtype\": \"number\",\n        \"std\": 250,\n        \"min\": 49,\n        \"max\": 972,\n        \"num_unique_values\": 20,\n        \"samples\": [\n          522,\n          138,\n          972\n        ],\n        \"semantic_type\": \"\",\n        \"description\": \"\"\n      }\n    },\n    {\n      \"column\": \"IMC\",\n      \"properties\": {\n        \"dtype\": \"number\",\n        \"std\": 3.6657747833036276,\n        \"min\": 19.7,\n        \"max\": 32.8,\n        \"num_unique_values\": 19,\n        \"samples\": [\n          23.5,\n          21.3,\n          24.9\n        ],\n        \"semantic_type\": \"\",\n        \"description\": \"\"\n      }\n    }\n  ]\n}"
            }
          },
          "metadata": {},
          "execution_count": 1
        }
      ]
    },
    {
      "cell_type": "code",
      "metadata": {
        "id": "WLnGnhW2G55q",
        "colab": {
          "base_uri": "https://localhost:8080/"
        },
        "outputId": "be80df5f-6d74-48ef-e56b-cb45dbee5242"
      },
      "source": [
        "# Note a coluna Dtype que mostra os tipos de dados (int64 - inteiro; float64 - real)\n",
        "pacientes.info()"
      ],
      "execution_count": null,
      "outputs": [
        {
          "output_type": "stream",
          "name": "stdout",
          "text": [
            "<class 'pandas.core.frame.DataFrame'>\n",
            "RangeIndex: 21 entries, 0 to 20\n",
            "Data columns (total 9 columns):\n",
            " #   Column      Non-Null Count  Dtype  \n",
            "---  ------      --------------  -----  \n",
            " 0   Ident       21 non-null     int64  \n",
            " 1   Idade       21 non-null     int64  \n",
            " 2   Altura      21 non-null     float64\n",
            " 3   Peso        21 non-null     float64\n",
            " 4   Pulsacao    21 non-null     int64  \n",
            " 5   Sistolica   21 non-null     int64  \n",
            " 6   Diastolica  21 non-null     int64  \n",
            " 7   Colesterol  21 non-null     int64  \n",
            " 8   IMC         21 non-null     float64\n",
            "dtypes: float64(3), int64(6)\n",
            "memory usage: 1.6 KB\n"
          ]
        }
      ]
    },
    {
      "cell_type": "markdown",
      "metadata": {
        "id": "qrQ5YhV8gOmX"
      },
      "source": [
        "## Medidas de Tendência Central\n",
        "A partir dos dados dos pacientes podemos querer saber como vai a saúde deste grupo. Se a lista for muito grande, torna-se complicado analisar um a um. Um primeiro passo é analisar informações que sumarizam (resumem) os dados e então verificar se é possível tirar conclusões. Em geral, podemos ter uma boa ideia disso analisando a tendência central.\n",
        "\n",
        "Uma **tendência central** (ou, normalmente, uma medida de tendência central) é um valor central ou valor típico para um certo atributo. As medidas  de tendência central mais comuns são:\n",
        "\n",
        "- **Média aritmética** (ou simplesmente, média) - obtida pela soma de todas as medições divididas pelo número de observações no conjunto de dados.\n",
        "- **Mediana** - obtida a partir dos dados ordenados, encontrando-se o valor (pertencente ou não à amostra) que a divide ao meio, isto é, 50% dos elementos da amostra são menores ou iguais à mediana e os outros 50% são maiores ou iguais à mediana.\n",
        "- **Moda** -  valor que aparece com maior frequência no conjunto de dados.\n",
        "\n",
        "O Pandas tem funções pré-definidas que calculam essas medidas de tendência central:"
      ]
    },
    {
      "cell_type": "markdown",
      "metadata": {
        "id": "ZlMdvKC-k5cR"
      },
      "source": [
        "### Média\n",
        "\n",
        "Por exemplo, para calcular a média das avaliações, podemos usar a função `mean`, que calcula a média de cada coluna da base de dados."
      ]
    },
    {
      "cell_type": "code",
      "metadata": {
        "id": "jNoSbTpReeib",
        "colab": {
          "base_uri": "https://localhost:8080/",
          "height": 366
        },
        "outputId": "d0667e99-1b88-4d15-d9d9-0a1f56c317ff"
      },
      "source": [
        "##  média aritimética\n",
        "pacientes.mean()"
      ],
      "execution_count": null,
      "outputs": [
        {
          "output_type": "execute_result",
          "data": {
            "text/plain": [
              "Ident          11.000000\n",
              "Idade          36.476190\n",
              "Altura          1.731905\n",
              "Peso           77.904762\n",
              "Pulsacao       72.761905\n",
              "Sistolica     119.952381\n",
              "Diastolica     73.428571\n",
              "Colesterol    338.285714\n",
              "IMC            25.976190\n",
              "dtype: float64"
            ],
            "text/html": [
              "<div>\n",
              "<style scoped>\n",
              "    .dataframe tbody tr th:only-of-type {\n",
              "        vertical-align: middle;\n",
              "    }\n",
              "\n",
              "    .dataframe tbody tr th {\n",
              "        vertical-align: top;\n",
              "    }\n",
              "\n",
              "    .dataframe thead th {\n",
              "        text-align: right;\n",
              "    }\n",
              "</style>\n",
              "<table border=\"1\" class=\"dataframe\">\n",
              "  <thead>\n",
              "    <tr style=\"text-align: right;\">\n",
              "      <th></th>\n",
              "      <th>0</th>\n",
              "    </tr>\n",
              "  </thead>\n",
              "  <tbody>\n",
              "    <tr>\n",
              "      <th>Ident</th>\n",
              "      <td>11.000000</td>\n",
              "    </tr>\n",
              "    <tr>\n",
              "      <th>Idade</th>\n",
              "      <td>36.476190</td>\n",
              "    </tr>\n",
              "    <tr>\n",
              "      <th>Altura</th>\n",
              "      <td>1.731905</td>\n",
              "    </tr>\n",
              "    <tr>\n",
              "      <th>Peso</th>\n",
              "      <td>77.904762</td>\n",
              "    </tr>\n",
              "    <tr>\n",
              "      <th>Pulsacao</th>\n",
              "      <td>72.761905</td>\n",
              "    </tr>\n",
              "    <tr>\n",
              "      <th>Sistolica</th>\n",
              "      <td>119.952381</td>\n",
              "    </tr>\n",
              "    <tr>\n",
              "      <th>Diastolica</th>\n",
              "      <td>73.428571</td>\n",
              "    </tr>\n",
              "    <tr>\n",
              "      <th>Colesterol</th>\n",
              "      <td>338.285714</td>\n",
              "    </tr>\n",
              "    <tr>\n",
              "      <th>IMC</th>\n",
              "      <td>25.976190</td>\n",
              "    </tr>\n",
              "  </tbody>\n",
              "</table>\n",
              "</div><br><label><b>dtype:</b> float64</label>"
            ]
          },
          "metadata": {},
          "execution_count": 2
        }
      ]
    },
    {
      "cell_type": "markdown",
      "metadata": {
        "id": "Gx0QuEN6lFaF"
      },
      "source": [
        "A instrução acima, aplicada ao `dataframe` mostra a média de todos os atributos. Mas por exemplo, não faz sentido calcular a média do atributo \"Ident\" (código do paciente).\n",
        "\n",
        "Além disso, normalmente queremos analisar a média de um determinado atributo que queremos investigar.\n",
        "\n"
      ]
    },
    {
      "cell_type": "markdown",
      "metadata": {
        "id": "tnWUGJd5b5NB"
      },
      "source": [
        "#### Média especificando o atributo\n",
        "\n",
        "Para calcular a média de um atributo específico, como a pressão sistólica, devemos especificar o nome do atributo.\n",
        "\n",
        "Pode-se usar essa notação a seguir, com o atributo entre colchetes: **`[Sistolica]`**"
      ]
    },
    {
      "cell_type": "code",
      "metadata": {
        "id": "nSBXLZRNb-9l",
        "colab": {
          "base_uri": "https://localhost:8080/"
        },
        "outputId": "a19b677c-8f2c-47b8-ecee-361598f32360"
      },
      "source": [
        "#média da pressão sistólica\n",
        "pacientes[\"Sistolica\"].mean()\n"
      ],
      "execution_count": null,
      "outputs": [
        {
          "output_type": "execute_result",
          "data": {
            "text/plain": [
              "np.float64(119.95238095238095)"
            ]
          },
          "metadata": {},
          "execution_count": 3
        }
      ]
    },
    {
      "cell_type": "markdown",
      "metadata": {
        "id": "aq2mJxvRBcwp"
      },
      "source": [
        "Outra notação, um pouco mais simples é usar o nome do atributo direto (sem os colchetes, mas com um ponto extra): **`.Sistolica`**"
      ]
    },
    {
      "cell_type": "code",
      "metadata": {
        "id": "Geq-izIoTj2Y",
        "colab": {
          "base_uri": "https://localhost:8080/"
        },
        "outputId": "b0c783aa-c406-495e-9242-bf3fd05dbf37"
      },
      "source": [
        "# Outra possibilidade de obtenção da média de um determinado atributo\n",
        "pacientes.Sistolica.mean()"
      ],
      "execution_count": null,
      "outputs": [
        {
          "output_type": "execute_result",
          "data": {
            "text/plain": [
              "np.float64(119.95238095238095)"
            ]
          },
          "metadata": {},
          "execution_count": 4
        }
      ]
    },
    {
      "cell_type": "markdown",
      "metadata": {
        "id": "Hyq03z6TuVrO"
      },
      "source": [
        "O Python permite-nos restringir o número de casas decimais, usando o print com formatação. Veja o exemplo a seguir:\n",
        "* \"%.2f\" (entre aspas) indica que são 2 casas decimais\n",
        "* Note que há % entre o formato (\"%.2f\") e o que será exibido (pacientes.Sistolica.mean()) no respectivo formato."
      ]
    },
    {
      "cell_type": "code",
      "metadata": {
        "id": "jG4s2dTruHdz",
        "colab": {
          "base_uri": "https://localhost:8080/"
        },
        "outputId": "9c270c43-2ded-44f1-d2b3-870191d12f4a"
      },
      "source": [
        "# imprimindo com 2 casas decimais: .2\n",
        "print(\"%.2f\" % pacientes.Sistolica.mean())"
      ],
      "execution_count": null,
      "outputs": [
        {
          "output_type": "stream",
          "name": "stdout",
          "text": [
            "119.95\n"
          ]
        }
      ]
    },
    {
      "cell_type": "markdown",
      "metadata": {
        "id": "F6HyGJoFv1NY"
      },
      "source": [
        "Outra possibilidade é atribuir o resultado para uma variável (por exemplo, media) antes de mostrar na tela (com o `print`)"
      ]
    },
    {
      "cell_type": "code",
      "metadata": {
        "id": "lZ6SoV6lwCzD",
        "colab": {
          "base_uri": "https://localhost:8080/"
        },
        "outputId": "9ef98768-d759-426e-be99-5c640bde8418"
      },
      "source": [
        "# atribuindo a média para uma variável\n",
        "media = pacientes.Sistolica.mean()\n",
        "# imprimindo com 2 casas decimais: .2\n",
        "print(\"%.2f\" % media)"
      ],
      "execution_count": null,
      "outputs": [
        {
          "output_type": "stream",
          "name": "stdout",
          "text": [
            "119.95\n"
          ]
        }
      ]
    },
    {
      "cell_type": "markdown",
      "metadata": {
        "id": "QZ0fcVkqYiyS"
      },
      "source": [
        "Para tentar analisar o significado dessa média, podemos verificar os valores extremos de `Sistolica `(maior e menor)."
      ]
    },
    {
      "cell_type": "code",
      "metadata": {
        "id": "B0wLr6AZYNuI",
        "colab": {
          "base_uri": "https://localhost:8080/"
        },
        "outputId": "8e1cdba1-d199-4a4b-9740-1fb0e080f95c"
      },
      "source": [
        "# Maior Valor de Pressão Sistólica\n",
        "pacientes.Sistolica.max()"
      ],
      "execution_count": null,
      "outputs": [
        {
          "output_type": "execute_result",
          "data": {
            "text/plain": [
              "153"
            ]
          },
          "metadata": {},
          "execution_count": 7
        }
      ]
    },
    {
      "cell_type": "code",
      "metadata": {
        "id": "XUADVExgYvvL",
        "colab": {
          "base_uri": "https://localhost:8080/"
        },
        "outputId": "9a12d43b-eef8-455c-ef8c-8ee9f45b32de"
      },
      "source": [
        "# Menor Valor de Pressão Sistólica\n",
        "pacientes.Sistolica.min()"
      ],
      "execution_count": null,
      "outputs": [
        {
          "output_type": "execute_result",
          "data": {
            "text/plain": [
              "107"
            ]
          },
          "metadata": {},
          "execution_count": 8
        }
      ]
    },
    {
      "cell_type": "markdown",
      "metadata": {
        "id": "pYbYdl3qY1P7"
      },
      "source": [
        "Nota-se uma variação razoável entre a média `mean()` (119.95) , a maior `max()`pressão sistólica (153) e a menor `min()` pressão sistólica (107). Poderemos entender melhor esta variação, mais adiante, com as medidas de dispersão. Mas antes disso, vamos ver as outras medidas de tendência central."
      ]
    },
    {
      "cell_type": "markdown",
      "metadata": {
        "id": "ouEm0eQ5cCQ-"
      },
      "source": [
        "### Mediana\n",
        "\n",
        "A mediana pode ser calculada usando a função `median`:"
      ]
    },
    {
      "cell_type": "code",
      "metadata": {
        "id": "_3AW3ND2fnQZ",
        "colab": {
          "base_uri": "https://localhost:8080/",
          "height": 366
        },
        "outputId": "612c5085-2cb4-44ff-878a-e28493ed4b59"
      },
      "source": [
        "# mediana\n",
        "pacientes.median()"
      ],
      "execution_count": null,
      "outputs": [
        {
          "output_type": "execute_result",
          "data": {
            "text/plain": [
              "Ident          11.00\n",
              "Idade          32.00\n",
              "Altura          1.73\n",
              "Peso           76.10\n",
              "Pulsacao       72.00\n",
              "Sistolica     119.00\n",
              "Diastolica     76.00\n",
              "Colesterol    265.00\n",
              "IMC            26.00\n",
              "dtype: float64"
            ],
            "text/html": [
              "<div>\n",
              "<style scoped>\n",
              "    .dataframe tbody tr th:only-of-type {\n",
              "        vertical-align: middle;\n",
              "    }\n",
              "\n",
              "    .dataframe tbody tr th {\n",
              "        vertical-align: top;\n",
              "    }\n",
              "\n",
              "    .dataframe thead th {\n",
              "        text-align: right;\n",
              "    }\n",
              "</style>\n",
              "<table border=\"1\" class=\"dataframe\">\n",
              "  <thead>\n",
              "    <tr style=\"text-align: right;\">\n",
              "      <th></th>\n",
              "      <th>0</th>\n",
              "    </tr>\n",
              "  </thead>\n",
              "  <tbody>\n",
              "    <tr>\n",
              "      <th>Ident</th>\n",
              "      <td>11.00</td>\n",
              "    </tr>\n",
              "    <tr>\n",
              "      <th>Idade</th>\n",
              "      <td>32.00</td>\n",
              "    </tr>\n",
              "    <tr>\n",
              "      <th>Altura</th>\n",
              "      <td>1.73</td>\n",
              "    </tr>\n",
              "    <tr>\n",
              "      <th>Peso</th>\n",
              "      <td>76.10</td>\n",
              "    </tr>\n",
              "    <tr>\n",
              "      <th>Pulsacao</th>\n",
              "      <td>72.00</td>\n",
              "    </tr>\n",
              "    <tr>\n",
              "      <th>Sistolica</th>\n",
              "      <td>119.00</td>\n",
              "    </tr>\n",
              "    <tr>\n",
              "      <th>Diastolica</th>\n",
              "      <td>76.00</td>\n",
              "    </tr>\n",
              "    <tr>\n",
              "      <th>Colesterol</th>\n",
              "      <td>265.00</td>\n",
              "    </tr>\n",
              "    <tr>\n",
              "      <th>IMC</th>\n",
              "      <td>26.00</td>\n",
              "    </tr>\n",
              "  </tbody>\n",
              "</table>\n",
              "</div><br><label><b>dtype:</b> float64</label>"
            ]
          },
          "metadata": {},
          "execution_count": 9
        }
      ]
    },
    {
      "cell_type": "markdown",
      "metadata": {
        "id": "Hzdo1N7MXzgs"
      },
      "source": [
        "#### Mediana especificando o atributo\n",
        "Calculando a mediana somente do atributo `Idade`"
      ]
    },
    {
      "cell_type": "code",
      "metadata": {
        "id": "7FaXpfkfX5y8",
        "colab": {
          "base_uri": "https://localhost:8080/"
        },
        "outputId": "24a71938-187a-4143-c9b1-364741bd3750"
      },
      "source": [
        "pacientes.Sistolica.median()"
      ],
      "execution_count": null,
      "outputs": [
        {
          "output_type": "execute_result",
          "data": {
            "text/plain": [
              "119.0"
            ]
          },
          "metadata": {},
          "execution_count": 10
        }
      ]
    },
    {
      "cell_type": "markdown",
      "metadata": {
        "id": "UOd2sDYVowjn"
      },
      "source": [
        "Nesse caso, os valores da média e da mediana não diferem muito (respectivamente 119.95 e 119), e ambos poderiam ser usados como um representante da tendência central do atributo `Sistólica`.  Vale lembrar, que mesmo havendo valores extremos de `Sistolica` (mínimo = 107 e máximo = 153) razoavelmente distantes da Média (119.95), ainda assim a Média e Mediana são valores próximos.\n",
        "\n",
        "Na presença de valores extremos, a mediana pode ser uma medida **menos sensível** a presença desses valores.\n",
        "\n"
      ]
    },
    {
      "cell_type": "markdown",
      "metadata": {
        "id": "HLS4F9mGcHZ1"
      },
      "source": [
        "### Moda\n",
        "\n",
        "A moda representa o valor que mais ocorre na base de dados. A moda pode **não** existir ou pode não ser única."
      ]
    },
    {
      "cell_type": "markdown",
      "metadata": {
        "id": "DV6ITz4FELAY"
      },
      "source": [
        "Uma maneira de obter esse valor seria calcular a frequência de cada valor, agrupando os dados.\n",
        "\n",
        "Por exemplo, para contar a frequência de cada valor de **pressão Sistólica** poderíamos usar a seguinte instrução:"
      ]
    },
    {
      "cell_type": "code",
      "metadata": {
        "id": "tDKHaozCE4qq",
        "colab": {
          "base_uri": "https://localhost:8080/",
          "height": 523
        },
        "outputId": "4338b28c-f204-43e5-9f2c-0cc2023811ca"
      },
      "source": [
        "# Agrupando por Sistolica e contando pelo atributo Sistolica\n",
        "pacientes.groupby(\"Sistolica\")[\"Sistolica\"].count()"
      ],
      "execution_count": null,
      "outputs": [
        {
          "output_type": "execute_result",
          "data": {
            "text/plain": [
              "Sistolica\n",
              "107    2\n",
              "109    1\n",
              "110    3\n",
              "112    2\n",
              "113    2\n",
              "119    1\n",
              "121    2\n",
              "125    2\n",
              "126    2\n",
              "131    1\n",
              "132    1\n",
              "137    1\n",
              "153    1\n",
              "Name: Sistolica, dtype: int64"
            ],
            "text/html": [
              "<div>\n",
              "<style scoped>\n",
              "    .dataframe tbody tr th:only-of-type {\n",
              "        vertical-align: middle;\n",
              "    }\n",
              "\n",
              "    .dataframe tbody tr th {\n",
              "        vertical-align: top;\n",
              "    }\n",
              "\n",
              "    .dataframe thead th {\n",
              "        text-align: right;\n",
              "    }\n",
              "</style>\n",
              "<table border=\"1\" class=\"dataframe\">\n",
              "  <thead>\n",
              "    <tr style=\"text-align: right;\">\n",
              "      <th></th>\n",
              "      <th>Sistolica</th>\n",
              "    </tr>\n",
              "    <tr>\n",
              "      <th>Sistolica</th>\n",
              "      <th></th>\n",
              "    </tr>\n",
              "  </thead>\n",
              "  <tbody>\n",
              "    <tr>\n",
              "      <th>107</th>\n",
              "      <td>2</td>\n",
              "    </tr>\n",
              "    <tr>\n",
              "      <th>109</th>\n",
              "      <td>1</td>\n",
              "    </tr>\n",
              "    <tr>\n",
              "      <th>110</th>\n",
              "      <td>3</td>\n",
              "    </tr>\n",
              "    <tr>\n",
              "      <th>112</th>\n",
              "      <td>2</td>\n",
              "    </tr>\n",
              "    <tr>\n",
              "      <th>113</th>\n",
              "      <td>2</td>\n",
              "    </tr>\n",
              "    <tr>\n",
              "      <th>119</th>\n",
              "      <td>1</td>\n",
              "    </tr>\n",
              "    <tr>\n",
              "      <th>121</th>\n",
              "      <td>2</td>\n",
              "    </tr>\n",
              "    <tr>\n",
              "      <th>125</th>\n",
              "      <td>2</td>\n",
              "    </tr>\n",
              "    <tr>\n",
              "      <th>126</th>\n",
              "      <td>2</td>\n",
              "    </tr>\n",
              "    <tr>\n",
              "      <th>131</th>\n",
              "      <td>1</td>\n",
              "    </tr>\n",
              "    <tr>\n",
              "      <th>132</th>\n",
              "      <td>1</td>\n",
              "    </tr>\n",
              "    <tr>\n",
              "      <th>137</th>\n",
              "      <td>1</td>\n",
              "    </tr>\n",
              "    <tr>\n",
              "      <th>153</th>\n",
              "      <td>1</td>\n",
              "    </tr>\n",
              "  </tbody>\n",
              "</table>\n",
              "</div><br><label><b>dtype:</b> int64</label>"
            ]
          },
          "metadata": {},
          "execution_count": 11
        }
      ]
    },
    {
      "cell_type": "markdown",
      "metadata": {
        "id": "oLffXN58FFST"
      },
      "source": [
        "Note acima que, **Sistolica = 110** é o valor que ocorre mais vezes (3 vezes). Então, neste caso a moda é 110."
      ]
    },
    {
      "cell_type": "markdown",
      "metadata": {
        "id": "xhQPa3zcFeqD"
      },
      "source": [
        "Mas o Pandas, possui a função `mode` para calcular a moda:"
      ]
    },
    {
      "cell_type": "code",
      "metadata": {
        "id": "NfJBPAVojpoB",
        "colab": {
          "base_uri": "https://localhost:8080/",
          "height": 708
        },
        "outputId": "e068f71c-078c-4feb-ed68-557bc45ccb2f"
      },
      "source": [
        "# moda\n",
        "pacientes.mode()"
      ],
      "execution_count": null,
      "outputs": [
        {
          "output_type": "execute_result",
          "data": {
            "text/plain": [
              "    Ident  Idade  Altura   Peso  Pulsacao  Sistolica  Diastolica  Colesterol  \\\n",
              "0       1   20.0    1.73   60.8      64.0      110.0        81.0       265.0   \n",
              "1       2    NaN     NaN   61.8      72.0        NaN         NaN         NaN   \n",
              "2       3    NaN     NaN   62.6       NaN        NaN         NaN         NaN   \n",
              "3       4    NaN     NaN   64.9       NaN        NaN         NaN         NaN   \n",
              "4       5    NaN     NaN   68.1       NaN        NaN         NaN         NaN   \n",
              "5       6    NaN     NaN   68.7       NaN        NaN         NaN         NaN   \n",
              "6       7    NaN     NaN   70.3       NaN        NaN         NaN         NaN   \n",
              "7       8    NaN     NaN   73.9       NaN        NaN         NaN         NaN   \n",
              "8       9    NaN     NaN   74.7       NaN        NaN         NaN         NaN   \n",
              "9      10    NaN     NaN   75.1       NaN        NaN         NaN         NaN   \n",
              "10     11    NaN     NaN   76.1       NaN        NaN         NaN         NaN   \n",
              "11     12    NaN     NaN   78.8       NaN        NaN         NaN         NaN   \n",
              "12     13    NaN     NaN   79.1       NaN        NaN         NaN         NaN   \n",
              "13     14    NaN     NaN   79.5       NaN        NaN         NaN         NaN   \n",
              "14     15    NaN     NaN   80.7       NaN        NaN         NaN         NaN   \n",
              "15     16    NaN     NaN   84.0       NaN        NaN         NaN         NaN   \n",
              "16     17    NaN     NaN   86.0       NaN        NaN         NaN         NaN   \n",
              "17     18    NaN     NaN   90.7       NaN        NaN         NaN         NaN   \n",
              "18     19    NaN     NaN   94.2       NaN        NaN         NaN         NaN   \n",
              "19     20    NaN     NaN   99.3       NaN        NaN         NaN         NaN   \n",
              "20     21    NaN     NaN  106.7       NaN        NaN         NaN         NaN   \n",
              "\n",
              "     IMC  \n",
              "0   24.3  \n",
              "1   32.8  \n",
              "2    NaN  \n",
              "3    NaN  \n",
              "4    NaN  \n",
              "5    NaN  \n",
              "6    NaN  \n",
              "7    NaN  \n",
              "8    NaN  \n",
              "9    NaN  \n",
              "10   NaN  \n",
              "11   NaN  \n",
              "12   NaN  \n",
              "13   NaN  \n",
              "14   NaN  \n",
              "15   NaN  \n",
              "16   NaN  \n",
              "17   NaN  \n",
              "18   NaN  \n",
              "19   NaN  \n",
              "20   NaN  "
            ],
            "text/html": [
              "\n",
              "  <div id=\"df-a176fb1d-be15-4488-81e1-9988ab549dcf\" class=\"colab-df-container\">\n",
              "    <div>\n",
              "<style scoped>\n",
              "    .dataframe tbody tr th:only-of-type {\n",
              "        vertical-align: middle;\n",
              "    }\n",
              "\n",
              "    .dataframe tbody tr th {\n",
              "        vertical-align: top;\n",
              "    }\n",
              "\n",
              "    .dataframe thead th {\n",
              "        text-align: right;\n",
              "    }\n",
              "</style>\n",
              "<table border=\"1\" class=\"dataframe\">\n",
              "  <thead>\n",
              "    <tr style=\"text-align: right;\">\n",
              "      <th></th>\n",
              "      <th>Ident</th>\n",
              "      <th>Idade</th>\n",
              "      <th>Altura</th>\n",
              "      <th>Peso</th>\n",
              "      <th>Pulsacao</th>\n",
              "      <th>Sistolica</th>\n",
              "      <th>Diastolica</th>\n",
              "      <th>Colesterol</th>\n",
              "      <th>IMC</th>\n",
              "    </tr>\n",
              "  </thead>\n",
              "  <tbody>\n",
              "    <tr>\n",
              "      <th>0</th>\n",
              "      <td>1</td>\n",
              "      <td>20.0</td>\n",
              "      <td>1.73</td>\n",
              "      <td>60.8</td>\n",
              "      <td>64.0</td>\n",
              "      <td>110.0</td>\n",
              "      <td>81.0</td>\n",
              "      <td>265.0</td>\n",
              "      <td>24.3</td>\n",
              "    </tr>\n",
              "    <tr>\n",
              "      <th>1</th>\n",
              "      <td>2</td>\n",
              "      <td>NaN</td>\n",
              "      <td>NaN</td>\n",
              "      <td>61.8</td>\n",
              "      <td>72.0</td>\n",
              "      <td>NaN</td>\n",
              "      <td>NaN</td>\n",
              "      <td>NaN</td>\n",
              "      <td>32.8</td>\n",
              "    </tr>\n",
              "    <tr>\n",
              "      <th>2</th>\n",
              "      <td>3</td>\n",
              "      <td>NaN</td>\n",
              "      <td>NaN</td>\n",
              "      <td>62.6</td>\n",
              "      <td>NaN</td>\n",
              "      <td>NaN</td>\n",
              "      <td>NaN</td>\n",
              "      <td>NaN</td>\n",
              "      <td>NaN</td>\n",
              "    </tr>\n",
              "    <tr>\n",
              "      <th>3</th>\n",
              "      <td>4</td>\n",
              "      <td>NaN</td>\n",
              "      <td>NaN</td>\n",
              "      <td>64.9</td>\n",
              "      <td>NaN</td>\n",
              "      <td>NaN</td>\n",
              "      <td>NaN</td>\n",
              "      <td>NaN</td>\n",
              "      <td>NaN</td>\n",
              "    </tr>\n",
              "    <tr>\n",
              "      <th>4</th>\n",
              "      <td>5</td>\n",
              "      <td>NaN</td>\n",
              "      <td>NaN</td>\n",
              "      <td>68.1</td>\n",
              "      <td>NaN</td>\n",
              "      <td>NaN</td>\n",
              "      <td>NaN</td>\n",
              "      <td>NaN</td>\n",
              "      <td>NaN</td>\n",
              "    </tr>\n",
              "    <tr>\n",
              "      <th>5</th>\n",
              "      <td>6</td>\n",
              "      <td>NaN</td>\n",
              "      <td>NaN</td>\n",
              "      <td>68.7</td>\n",
              "      <td>NaN</td>\n",
              "      <td>NaN</td>\n",
              "      <td>NaN</td>\n",
              "      <td>NaN</td>\n",
              "      <td>NaN</td>\n",
              "    </tr>\n",
              "    <tr>\n",
              "      <th>6</th>\n",
              "      <td>7</td>\n",
              "      <td>NaN</td>\n",
              "      <td>NaN</td>\n",
              "      <td>70.3</td>\n",
              "      <td>NaN</td>\n",
              "      <td>NaN</td>\n",
              "      <td>NaN</td>\n",
              "      <td>NaN</td>\n",
              "      <td>NaN</td>\n",
              "    </tr>\n",
              "    <tr>\n",
              "      <th>7</th>\n",
              "      <td>8</td>\n",
              "      <td>NaN</td>\n",
              "      <td>NaN</td>\n",
              "      <td>73.9</td>\n",
              "      <td>NaN</td>\n",
              "      <td>NaN</td>\n",
              "      <td>NaN</td>\n",
              "      <td>NaN</td>\n",
              "      <td>NaN</td>\n",
              "    </tr>\n",
              "    <tr>\n",
              "      <th>8</th>\n",
              "      <td>9</td>\n",
              "      <td>NaN</td>\n",
              "      <td>NaN</td>\n",
              "      <td>74.7</td>\n",
              "      <td>NaN</td>\n",
              "      <td>NaN</td>\n",
              "      <td>NaN</td>\n",
              "      <td>NaN</td>\n",
              "      <td>NaN</td>\n",
              "    </tr>\n",
              "    <tr>\n",
              "      <th>9</th>\n",
              "      <td>10</td>\n",
              "      <td>NaN</td>\n",
              "      <td>NaN</td>\n",
              "      <td>75.1</td>\n",
              "      <td>NaN</td>\n",
              "      <td>NaN</td>\n",
              "      <td>NaN</td>\n",
              "      <td>NaN</td>\n",
              "      <td>NaN</td>\n",
              "    </tr>\n",
              "    <tr>\n",
              "      <th>10</th>\n",
              "      <td>11</td>\n",
              "      <td>NaN</td>\n",
              "      <td>NaN</td>\n",
              "      <td>76.1</td>\n",
              "      <td>NaN</td>\n",
              "      <td>NaN</td>\n",
              "      <td>NaN</td>\n",
              "      <td>NaN</td>\n",
              "      <td>NaN</td>\n",
              "    </tr>\n",
              "    <tr>\n",
              "      <th>11</th>\n",
              "      <td>12</td>\n",
              "      <td>NaN</td>\n",
              "      <td>NaN</td>\n",
              "      <td>78.8</td>\n",
              "      <td>NaN</td>\n",
              "      <td>NaN</td>\n",
              "      <td>NaN</td>\n",
              "      <td>NaN</td>\n",
              "      <td>NaN</td>\n",
              "    </tr>\n",
              "    <tr>\n",
              "      <th>12</th>\n",
              "      <td>13</td>\n",
              "      <td>NaN</td>\n",
              "      <td>NaN</td>\n",
              "      <td>79.1</td>\n",
              "      <td>NaN</td>\n",
              "      <td>NaN</td>\n",
              "      <td>NaN</td>\n",
              "      <td>NaN</td>\n",
              "      <td>NaN</td>\n",
              "    </tr>\n",
              "    <tr>\n",
              "      <th>13</th>\n",
              "      <td>14</td>\n",
              "      <td>NaN</td>\n",
              "      <td>NaN</td>\n",
              "      <td>79.5</td>\n",
              "      <td>NaN</td>\n",
              "      <td>NaN</td>\n",
              "      <td>NaN</td>\n",
              "      <td>NaN</td>\n",
              "      <td>NaN</td>\n",
              "    </tr>\n",
              "    <tr>\n",
              "      <th>14</th>\n",
              "      <td>15</td>\n",
              "      <td>NaN</td>\n",
              "      <td>NaN</td>\n",
              "      <td>80.7</td>\n",
              "      <td>NaN</td>\n",
              "      <td>NaN</td>\n",
              "      <td>NaN</td>\n",
              "      <td>NaN</td>\n",
              "      <td>NaN</td>\n",
              "    </tr>\n",
              "    <tr>\n",
              "      <th>15</th>\n",
              "      <td>16</td>\n",
              "      <td>NaN</td>\n",
              "      <td>NaN</td>\n",
              "      <td>84.0</td>\n",
              "      <td>NaN</td>\n",
              "      <td>NaN</td>\n",
              "      <td>NaN</td>\n",
              "      <td>NaN</td>\n",
              "      <td>NaN</td>\n",
              "    </tr>\n",
              "    <tr>\n",
              "      <th>16</th>\n",
              "      <td>17</td>\n",
              "      <td>NaN</td>\n",
              "      <td>NaN</td>\n",
              "      <td>86.0</td>\n",
              "      <td>NaN</td>\n",
              "      <td>NaN</td>\n",
              "      <td>NaN</td>\n",
              "      <td>NaN</td>\n",
              "      <td>NaN</td>\n",
              "    </tr>\n",
              "    <tr>\n",
              "      <th>17</th>\n",
              "      <td>18</td>\n",
              "      <td>NaN</td>\n",
              "      <td>NaN</td>\n",
              "      <td>90.7</td>\n",
              "      <td>NaN</td>\n",
              "      <td>NaN</td>\n",
              "      <td>NaN</td>\n",
              "      <td>NaN</td>\n",
              "      <td>NaN</td>\n",
              "    </tr>\n",
              "    <tr>\n",
              "      <th>18</th>\n",
              "      <td>19</td>\n",
              "      <td>NaN</td>\n",
              "      <td>NaN</td>\n",
              "      <td>94.2</td>\n",
              "      <td>NaN</td>\n",
              "      <td>NaN</td>\n",
              "      <td>NaN</td>\n",
              "      <td>NaN</td>\n",
              "      <td>NaN</td>\n",
              "    </tr>\n",
              "    <tr>\n",
              "      <th>19</th>\n",
              "      <td>20</td>\n",
              "      <td>NaN</td>\n",
              "      <td>NaN</td>\n",
              "      <td>99.3</td>\n",
              "      <td>NaN</td>\n",
              "      <td>NaN</td>\n",
              "      <td>NaN</td>\n",
              "      <td>NaN</td>\n",
              "      <td>NaN</td>\n",
              "    </tr>\n",
              "    <tr>\n",
              "      <th>20</th>\n",
              "      <td>21</td>\n",
              "      <td>NaN</td>\n",
              "      <td>NaN</td>\n",
              "      <td>106.7</td>\n",
              "      <td>NaN</td>\n",
              "      <td>NaN</td>\n",
              "      <td>NaN</td>\n",
              "      <td>NaN</td>\n",
              "      <td>NaN</td>\n",
              "    </tr>\n",
              "  </tbody>\n",
              "</table>\n",
              "</div>\n",
              "    <div class=\"colab-df-buttons\">\n",
              "\n",
              "  <div class=\"colab-df-container\">\n",
              "    <button class=\"colab-df-convert\" onclick=\"convertToInteractive('df-a176fb1d-be15-4488-81e1-9988ab549dcf')\"\n",
              "            title=\"Convert this dataframe to an interactive table.\"\n",
              "            style=\"display:none;\">\n",
              "\n",
              "  <svg xmlns=\"http://www.w3.org/2000/svg\" height=\"24px\" viewBox=\"0 -960 960 960\">\n",
              "    <path d=\"M120-120v-720h720v720H120Zm60-500h600v-160H180v160Zm220 220h160v-160H400v160Zm0 220h160v-160H400v160ZM180-400h160v-160H180v160Zm440 0h160v-160H620v160ZM180-180h160v-160H180v160Zm440 0h160v-160H620v160Z\"/>\n",
              "  </svg>\n",
              "    </button>\n",
              "\n",
              "  <style>\n",
              "    .colab-df-container {\n",
              "      display:flex;\n",
              "      gap: 12px;\n",
              "    }\n",
              "\n",
              "    .colab-df-convert {\n",
              "      background-color: #E8F0FE;\n",
              "      border: none;\n",
              "      border-radius: 50%;\n",
              "      cursor: pointer;\n",
              "      display: none;\n",
              "      fill: #1967D2;\n",
              "      height: 32px;\n",
              "      padding: 0 0 0 0;\n",
              "      width: 32px;\n",
              "    }\n",
              "\n",
              "    .colab-df-convert:hover {\n",
              "      background-color: #E2EBFA;\n",
              "      box-shadow: 0px 1px 2px rgba(60, 64, 67, 0.3), 0px 1px 3px 1px rgba(60, 64, 67, 0.15);\n",
              "      fill: #174EA6;\n",
              "    }\n",
              "\n",
              "    .colab-df-buttons div {\n",
              "      margin-bottom: 4px;\n",
              "    }\n",
              "\n",
              "    [theme=dark] .colab-df-convert {\n",
              "      background-color: #3B4455;\n",
              "      fill: #D2E3FC;\n",
              "    }\n",
              "\n",
              "    [theme=dark] .colab-df-convert:hover {\n",
              "      background-color: #434B5C;\n",
              "      box-shadow: 0px 1px 3px 1px rgba(0, 0, 0, 0.15);\n",
              "      filter: drop-shadow(0px 1px 2px rgba(0, 0, 0, 0.3));\n",
              "      fill: #FFFFFF;\n",
              "    }\n",
              "  </style>\n",
              "\n",
              "    <script>\n",
              "      const buttonEl =\n",
              "        document.querySelector('#df-a176fb1d-be15-4488-81e1-9988ab549dcf button.colab-df-convert');\n",
              "      buttonEl.style.display =\n",
              "        google.colab.kernel.accessAllowed ? 'block' : 'none';\n",
              "\n",
              "      async function convertToInteractive(key) {\n",
              "        const element = document.querySelector('#df-a176fb1d-be15-4488-81e1-9988ab549dcf');\n",
              "        const dataTable =\n",
              "          await google.colab.kernel.invokeFunction('convertToInteractive',\n",
              "                                                    [key], {});\n",
              "        if (!dataTable) return;\n",
              "\n",
              "        const docLinkHtml = 'Like what you see? Visit the ' +\n",
              "          '<a target=\"_blank\" href=https://colab.research.google.com/notebooks/data_table.ipynb>data table notebook</a>'\n",
              "          + ' to learn more about interactive tables.';\n",
              "        element.innerHTML = '';\n",
              "        dataTable['output_type'] = 'display_data';\n",
              "        await google.colab.output.renderOutput(dataTable, element);\n",
              "        const docLink = document.createElement('div');\n",
              "        docLink.innerHTML = docLinkHtml;\n",
              "        element.appendChild(docLink);\n",
              "      }\n",
              "    </script>\n",
              "  </div>\n",
              "\n",
              "\n",
              "    <div id=\"df-a6604de8-81c0-4910-ac37-88b52adecd66\">\n",
              "      <button class=\"colab-df-quickchart\" onclick=\"quickchart('df-a6604de8-81c0-4910-ac37-88b52adecd66')\"\n",
              "                title=\"Suggest charts\"\n",
              "                style=\"display:none;\">\n",
              "\n",
              "<svg xmlns=\"http://www.w3.org/2000/svg\" height=\"24px\"viewBox=\"0 0 24 24\"\n",
              "     width=\"24px\">\n",
              "    <g>\n",
              "        <path d=\"M19 3H5c-1.1 0-2 .9-2 2v14c0 1.1.9 2 2 2h14c1.1 0 2-.9 2-2V5c0-1.1-.9-2-2-2zM9 17H7v-7h2v7zm4 0h-2V7h2v10zm4 0h-2v-4h2v4z\"/>\n",
              "    </g>\n",
              "</svg>\n",
              "      </button>\n",
              "\n",
              "<style>\n",
              "  .colab-df-quickchart {\n",
              "      --bg-color: #E8F0FE;\n",
              "      --fill-color: #1967D2;\n",
              "      --hover-bg-color: #E2EBFA;\n",
              "      --hover-fill-color: #174EA6;\n",
              "      --disabled-fill-color: #AAA;\n",
              "      --disabled-bg-color: #DDD;\n",
              "  }\n",
              "\n",
              "  [theme=dark] .colab-df-quickchart {\n",
              "      --bg-color: #3B4455;\n",
              "      --fill-color: #D2E3FC;\n",
              "      --hover-bg-color: #434B5C;\n",
              "      --hover-fill-color: #FFFFFF;\n",
              "      --disabled-bg-color: #3B4455;\n",
              "      --disabled-fill-color: #666;\n",
              "  }\n",
              "\n",
              "  .colab-df-quickchart {\n",
              "    background-color: var(--bg-color);\n",
              "    border: none;\n",
              "    border-radius: 50%;\n",
              "    cursor: pointer;\n",
              "    display: none;\n",
              "    fill: var(--fill-color);\n",
              "    height: 32px;\n",
              "    padding: 0;\n",
              "    width: 32px;\n",
              "  }\n",
              "\n",
              "  .colab-df-quickchart:hover {\n",
              "    background-color: var(--hover-bg-color);\n",
              "    box-shadow: 0 1px 2px rgba(60, 64, 67, 0.3), 0 1px 3px 1px rgba(60, 64, 67, 0.15);\n",
              "    fill: var(--button-hover-fill-color);\n",
              "  }\n",
              "\n",
              "  .colab-df-quickchart-complete:disabled,\n",
              "  .colab-df-quickchart-complete:disabled:hover {\n",
              "    background-color: var(--disabled-bg-color);\n",
              "    fill: var(--disabled-fill-color);\n",
              "    box-shadow: none;\n",
              "  }\n",
              "\n",
              "  .colab-df-spinner {\n",
              "    border: 2px solid var(--fill-color);\n",
              "    border-color: transparent;\n",
              "    border-bottom-color: var(--fill-color);\n",
              "    animation:\n",
              "      spin 1s steps(1) infinite;\n",
              "  }\n",
              "\n",
              "  @keyframes spin {\n",
              "    0% {\n",
              "      border-color: transparent;\n",
              "      border-bottom-color: var(--fill-color);\n",
              "      border-left-color: var(--fill-color);\n",
              "    }\n",
              "    20% {\n",
              "      border-color: transparent;\n",
              "      border-left-color: var(--fill-color);\n",
              "      border-top-color: var(--fill-color);\n",
              "    }\n",
              "    30% {\n",
              "      border-color: transparent;\n",
              "      border-left-color: var(--fill-color);\n",
              "      border-top-color: var(--fill-color);\n",
              "      border-right-color: var(--fill-color);\n",
              "    }\n",
              "    40% {\n",
              "      border-color: transparent;\n",
              "      border-right-color: var(--fill-color);\n",
              "      border-top-color: var(--fill-color);\n",
              "    }\n",
              "    60% {\n",
              "      border-color: transparent;\n",
              "      border-right-color: var(--fill-color);\n",
              "    }\n",
              "    80% {\n",
              "      border-color: transparent;\n",
              "      border-right-color: var(--fill-color);\n",
              "      border-bottom-color: var(--fill-color);\n",
              "    }\n",
              "    90% {\n",
              "      border-color: transparent;\n",
              "      border-bottom-color: var(--fill-color);\n",
              "    }\n",
              "  }\n",
              "</style>\n",
              "\n",
              "      <script>\n",
              "        async function quickchart(key) {\n",
              "          const quickchartButtonEl =\n",
              "            document.querySelector('#' + key + ' button');\n",
              "          quickchartButtonEl.disabled = true;  // To prevent multiple clicks.\n",
              "          quickchartButtonEl.classList.add('colab-df-spinner');\n",
              "          try {\n",
              "            const charts = await google.colab.kernel.invokeFunction(\n",
              "                'suggestCharts', [key], {});\n",
              "          } catch (error) {\n",
              "            console.error('Error during call to suggestCharts:', error);\n",
              "          }\n",
              "          quickchartButtonEl.classList.remove('colab-df-spinner');\n",
              "          quickchartButtonEl.classList.add('colab-df-quickchart-complete');\n",
              "        }\n",
              "        (() => {\n",
              "          let quickchartButtonEl =\n",
              "            document.querySelector('#df-a6604de8-81c0-4910-ac37-88b52adecd66 button');\n",
              "          quickchartButtonEl.style.display =\n",
              "            google.colab.kernel.accessAllowed ? 'block' : 'none';\n",
              "        })();\n",
              "      </script>\n",
              "    </div>\n",
              "\n",
              "    </div>\n",
              "  </div>\n"
            ],
            "application/vnd.google.colaboratory.intrinsic+json": {
              "type": "dataframe",
              "summary": "{\n  \"name\": \"pacientes\",\n  \"rows\": 21,\n  \"fields\": [\n    {\n      \"column\": \"Ident\",\n      \"properties\": {\n        \"dtype\": \"number\",\n        \"std\": 6,\n        \"min\": 1,\n        \"max\": 21,\n        \"num_unique_values\": 21,\n        \"samples\": [\n          1,\n          18,\n          16\n        ],\n        \"semantic_type\": \"\",\n        \"description\": \"\"\n      }\n    },\n    {\n      \"column\": \"Idade\",\n      \"properties\": {\n        \"dtype\": \"number\",\n        \"std\": null,\n        \"min\": 20.0,\n        \"max\": 20.0,\n        \"num_unique_values\": 1,\n        \"samples\": [\n          20.0\n        ],\n        \"semantic_type\": \"\",\n        \"description\": \"\"\n      }\n    },\n    {\n      \"column\": \"Altura\",\n      \"properties\": {\n        \"dtype\": \"number\",\n        \"std\": null,\n        \"min\": 1.73,\n        \"max\": 1.73,\n        \"num_unique_values\": 1,\n        \"samples\": [\n          1.73\n        ],\n        \"semantic_type\": \"\",\n        \"description\": \"\"\n      }\n    },\n    {\n      \"column\": \"Peso\",\n      \"properties\": {\n        \"dtype\": \"number\",\n        \"std\": 12.375115199079005,\n        \"min\": 60.8,\n        \"max\": 106.7,\n        \"num_unique_values\": 21,\n        \"samples\": [\n          60.8\n        ],\n        \"semantic_type\": \"\",\n        \"description\": \"\"\n      }\n    },\n    {\n      \"column\": \"Pulsacao\",\n      \"properties\": {\n        \"dtype\": \"number\",\n        \"std\": 5.656854249492381,\n        \"min\": 64.0,\n        \"max\": 72.0,\n        \"num_unique_values\": 2,\n        \"samples\": [\n          72.0\n        ],\n        \"semantic_type\": \"\",\n        \"description\": \"\"\n      }\n    },\n    {\n      \"column\": \"Sistolica\",\n      \"properties\": {\n        \"dtype\": \"number\",\n        \"std\": null,\n        \"min\": 110.0,\n        \"max\": 110.0,\n        \"num_unique_values\": 1,\n        \"samples\": [\n          110.0\n        ],\n        \"semantic_type\": \"\",\n        \"description\": \"\"\n      }\n    },\n    {\n      \"column\": \"Diastolica\",\n      \"properties\": {\n        \"dtype\": \"number\",\n        \"std\": null,\n        \"min\": 81.0,\n        \"max\": 81.0,\n        \"num_unique_values\": 1,\n        \"samples\": [\n          81.0\n        ],\n        \"semantic_type\": \"\",\n        \"description\": \"\"\n      }\n    },\n    {\n      \"column\": \"Colesterol\",\n      \"properties\": {\n        \"dtype\": \"number\",\n        \"std\": null,\n        \"min\": 265.0,\n        \"max\": 265.0,\n        \"num_unique_values\": 1,\n        \"samples\": [\n          265.0\n        ],\n        \"semantic_type\": \"\",\n        \"description\": \"\"\n      }\n    },\n    {\n      \"column\": \"IMC\",\n      \"properties\": {\n        \"dtype\": \"number\",\n        \"std\": 6.010407640085652,\n        \"min\": 24.3,\n        \"max\": 32.8,\n        \"num_unique_values\": 2,\n        \"samples\": [\n          32.8\n        ],\n        \"semantic_type\": \"\",\n        \"description\": \"\"\n      }\n    }\n  ]\n}"
            }
          },
          "metadata": {},
          "execution_count": 12
        }
      ]
    },
    {
      "cell_type": "markdown",
      "metadata": {
        "id": "riaPePnaFnnf"
      },
      "source": [
        "A instrução acima, mostrou a moda de todos os atributos. A moda de cada atributo, quando é única, aparece na `linha [0]` (linha zero). Note que para alguns atributos, como `Peso` por exemplo, aparece valor de moda em mais de uma linha. Isso ocorre porque todos os valores de Peso são diferentes. **Neste caso dizemos que a moda não existe.**\n",
        "\n",
        "A instrução a seguir mostra a frequência do atributo `Peso`. Note que a frequência é igual a 1 para todos os pesos.\n"
      ]
    },
    {
      "cell_type": "code",
      "metadata": {
        "id": "Abw7wplOHXiK",
        "colab": {
          "base_uri": "https://localhost:8080/",
          "height": 774
        },
        "outputId": "780c9b58-55c1-4848-9f81-458735306f3c"
      },
      "source": [
        "# Agrupando por Peso e contando pelo atributo Peso\n",
        "pacientes.groupby(\"Peso\")[\"Peso\"].count()"
      ],
      "execution_count": null,
      "outputs": [
        {
          "output_type": "execute_result",
          "data": {
            "text/plain": [
              "Peso\n",
              "60.8     1\n",
              "61.8     1\n",
              "62.6     1\n",
              "64.9     1\n",
              "68.1     1\n",
              "68.7     1\n",
              "70.3     1\n",
              "73.9     1\n",
              "74.7     1\n",
              "75.1     1\n",
              "76.1     1\n",
              "78.8     1\n",
              "79.1     1\n",
              "79.5     1\n",
              "80.7     1\n",
              "84.0     1\n",
              "86.0     1\n",
              "90.7     1\n",
              "94.2     1\n",
              "99.3     1\n",
              "106.7    1\n",
              "Name: Peso, dtype: int64"
            ],
            "text/html": [
              "<div>\n",
              "<style scoped>\n",
              "    .dataframe tbody tr th:only-of-type {\n",
              "        vertical-align: middle;\n",
              "    }\n",
              "\n",
              "    .dataframe tbody tr th {\n",
              "        vertical-align: top;\n",
              "    }\n",
              "\n",
              "    .dataframe thead th {\n",
              "        text-align: right;\n",
              "    }\n",
              "</style>\n",
              "<table border=\"1\" class=\"dataframe\">\n",
              "  <thead>\n",
              "    <tr style=\"text-align: right;\">\n",
              "      <th></th>\n",
              "      <th>Peso</th>\n",
              "    </tr>\n",
              "    <tr>\n",
              "      <th>Peso</th>\n",
              "      <th></th>\n",
              "    </tr>\n",
              "  </thead>\n",
              "  <tbody>\n",
              "    <tr>\n",
              "      <th>60.8</th>\n",
              "      <td>1</td>\n",
              "    </tr>\n",
              "    <tr>\n",
              "      <th>61.8</th>\n",
              "      <td>1</td>\n",
              "    </tr>\n",
              "    <tr>\n",
              "      <th>62.6</th>\n",
              "      <td>1</td>\n",
              "    </tr>\n",
              "    <tr>\n",
              "      <th>64.9</th>\n",
              "      <td>1</td>\n",
              "    </tr>\n",
              "    <tr>\n",
              "      <th>68.1</th>\n",
              "      <td>1</td>\n",
              "    </tr>\n",
              "    <tr>\n",
              "      <th>68.7</th>\n",
              "      <td>1</td>\n",
              "    </tr>\n",
              "    <tr>\n",
              "      <th>70.3</th>\n",
              "      <td>1</td>\n",
              "    </tr>\n",
              "    <tr>\n",
              "      <th>73.9</th>\n",
              "      <td>1</td>\n",
              "    </tr>\n",
              "    <tr>\n",
              "      <th>74.7</th>\n",
              "      <td>1</td>\n",
              "    </tr>\n",
              "    <tr>\n",
              "      <th>75.1</th>\n",
              "      <td>1</td>\n",
              "    </tr>\n",
              "    <tr>\n",
              "      <th>76.1</th>\n",
              "      <td>1</td>\n",
              "    </tr>\n",
              "    <tr>\n",
              "      <th>78.8</th>\n",
              "      <td>1</td>\n",
              "    </tr>\n",
              "    <tr>\n",
              "      <th>79.1</th>\n",
              "      <td>1</td>\n",
              "    </tr>\n",
              "    <tr>\n",
              "      <th>79.5</th>\n",
              "      <td>1</td>\n",
              "    </tr>\n",
              "    <tr>\n",
              "      <th>80.7</th>\n",
              "      <td>1</td>\n",
              "    </tr>\n",
              "    <tr>\n",
              "      <th>84.0</th>\n",
              "      <td>1</td>\n",
              "    </tr>\n",
              "    <tr>\n",
              "      <th>86.0</th>\n",
              "      <td>1</td>\n",
              "    </tr>\n",
              "    <tr>\n",
              "      <th>90.7</th>\n",
              "      <td>1</td>\n",
              "    </tr>\n",
              "    <tr>\n",
              "      <th>94.2</th>\n",
              "      <td>1</td>\n",
              "    </tr>\n",
              "    <tr>\n",
              "      <th>99.3</th>\n",
              "      <td>1</td>\n",
              "    </tr>\n",
              "    <tr>\n",
              "      <th>106.7</th>\n",
              "      <td>1</td>\n",
              "    </tr>\n",
              "  </tbody>\n",
              "</table>\n",
              "</div><br><label><b>dtype:</b> int64</label>"
            ]
          },
          "metadata": {},
          "execution_count": 13
        }
      ]
    },
    {
      "cell_type": "markdown",
      "metadata": {
        "id": "IHRsSDKSGxj1"
      },
      "source": [
        "Uma forma de listar apenas a **\"primeira moda\"** é conforme abaixo, usando a notação `loc[0]`."
      ]
    },
    {
      "cell_type": "code",
      "metadata": {
        "id": "3432ZFgzcug6",
        "colab": {
          "base_uri": "https://localhost:8080/",
          "height": 366
        },
        "outputId": "a0b2e89e-ba3b-4b2b-fdd2-34b7ed52aa07"
      },
      "source": [
        "# loc[0] - Exibe a linha 0 da moda\n",
        "pacientes.mode().loc[0]"
      ],
      "execution_count": null,
      "outputs": [
        {
          "output_type": "execute_result",
          "data": {
            "text/plain": [
              "Ident           1.00\n",
              "Idade          20.00\n",
              "Altura          1.73\n",
              "Peso           60.80\n",
              "Pulsacao       64.00\n",
              "Sistolica     110.00\n",
              "Diastolica     81.00\n",
              "Colesterol    265.00\n",
              "IMC            24.30\n",
              "Name: 0, dtype: float64"
            ],
            "text/html": [
              "<div>\n",
              "<style scoped>\n",
              "    .dataframe tbody tr th:only-of-type {\n",
              "        vertical-align: middle;\n",
              "    }\n",
              "\n",
              "    .dataframe tbody tr th {\n",
              "        vertical-align: top;\n",
              "    }\n",
              "\n",
              "    .dataframe thead th {\n",
              "        text-align: right;\n",
              "    }\n",
              "</style>\n",
              "<table border=\"1\" class=\"dataframe\">\n",
              "  <thead>\n",
              "    <tr style=\"text-align: right;\">\n",
              "      <th></th>\n",
              "      <th>0</th>\n",
              "    </tr>\n",
              "  </thead>\n",
              "  <tbody>\n",
              "    <tr>\n",
              "      <th>Ident</th>\n",
              "      <td>1.00</td>\n",
              "    </tr>\n",
              "    <tr>\n",
              "      <th>Idade</th>\n",
              "      <td>20.00</td>\n",
              "    </tr>\n",
              "    <tr>\n",
              "      <th>Altura</th>\n",
              "      <td>1.73</td>\n",
              "    </tr>\n",
              "    <tr>\n",
              "      <th>Peso</th>\n",
              "      <td>60.80</td>\n",
              "    </tr>\n",
              "    <tr>\n",
              "      <th>Pulsacao</th>\n",
              "      <td>64.00</td>\n",
              "    </tr>\n",
              "    <tr>\n",
              "      <th>Sistolica</th>\n",
              "      <td>110.00</td>\n",
              "    </tr>\n",
              "    <tr>\n",
              "      <th>Diastolica</th>\n",
              "      <td>81.00</td>\n",
              "    </tr>\n",
              "    <tr>\n",
              "      <th>Colesterol</th>\n",
              "      <td>265.00</td>\n",
              "    </tr>\n",
              "    <tr>\n",
              "      <th>IMC</th>\n",
              "      <td>24.30</td>\n",
              "    </tr>\n",
              "  </tbody>\n",
              "</table>\n",
              "</div><br><label><b>dtype:</b> float64</label>"
            ]
          },
          "metadata": {},
          "execution_count": 14
        }
      ]
    },
    {
      "cell_type": "markdown",
      "metadata": {
        "id": "K_-kDnsGceqc"
      },
      "source": [
        "#### Moda especificando o atributo\n",
        "\n",
        "Para listar a moda de um único atributo utiliza-se o nome do atributo, conforme abaixo, seguido de `mode()`. Por exemplo, a moda de `Sistolica`."
      ]
    },
    {
      "cell_type": "code",
      "metadata": {
        "id": "t8wGf2byclTl",
        "colab": {
          "base_uri": "https://localhost:8080/",
          "height": 115
        },
        "outputId": "d1030edf-69c7-407b-b7cd-23ee7eb53d49"
      },
      "source": [
        "pacientes.Sistolica.mode()"
      ],
      "execution_count": null,
      "outputs": [
        {
          "output_type": "execute_result",
          "data": {
            "text/plain": [
              "0    110\n",
              "Name: Sistolica, dtype: int64"
            ],
            "text/html": [
              "<div>\n",
              "<style scoped>\n",
              "    .dataframe tbody tr th:only-of-type {\n",
              "        vertical-align: middle;\n",
              "    }\n",
              "\n",
              "    .dataframe tbody tr th {\n",
              "        vertical-align: top;\n",
              "    }\n",
              "\n",
              "    .dataframe thead th {\n",
              "        text-align: right;\n",
              "    }\n",
              "</style>\n",
              "<table border=\"1\" class=\"dataframe\">\n",
              "  <thead>\n",
              "    <tr style=\"text-align: right;\">\n",
              "      <th></th>\n",
              "      <th>Sistolica</th>\n",
              "    </tr>\n",
              "  </thead>\n",
              "  <tbody>\n",
              "    <tr>\n",
              "      <th>0</th>\n",
              "      <td>110</td>\n",
              "    </tr>\n",
              "  </tbody>\n",
              "</table>\n",
              "</div><br><label><b>dtype:</b> int64</label>"
            ]
          },
          "metadata": {},
          "execution_count": 15
        }
      ]
    },
    {
      "cell_type": "markdown",
      "metadata": {
        "id": "yeSvu68wLRiu"
      },
      "source": [
        "Caso haja mais de uma moda, todos os valores serão exibidos. Veja o caso de Pulsacao."
      ]
    },
    {
      "cell_type": "code",
      "metadata": {
        "id": "ssHXnKA7LXvT",
        "colab": {
          "base_uri": "https://localhost:8080/",
          "height": 147
        },
        "outputId": "d74b27df-f522-4ba8-888c-7d941f5b5877"
      },
      "source": [
        "pacientes.Pulsacao.mode()"
      ],
      "execution_count": null,
      "outputs": [
        {
          "output_type": "execute_result",
          "data": {
            "text/plain": [
              "0    64\n",
              "1    72\n",
              "Name: Pulsacao, dtype: int64"
            ],
            "text/html": [
              "<div>\n",
              "<style scoped>\n",
              "    .dataframe tbody tr th:only-of-type {\n",
              "        vertical-align: middle;\n",
              "    }\n",
              "\n",
              "    .dataframe tbody tr th {\n",
              "        vertical-align: top;\n",
              "    }\n",
              "\n",
              "    .dataframe thead th {\n",
              "        text-align: right;\n",
              "    }\n",
              "</style>\n",
              "<table border=\"1\" class=\"dataframe\">\n",
              "  <thead>\n",
              "    <tr style=\"text-align: right;\">\n",
              "      <th></th>\n",
              "      <th>Pulsacao</th>\n",
              "    </tr>\n",
              "  </thead>\n",
              "  <tbody>\n",
              "    <tr>\n",
              "      <th>0</th>\n",
              "      <td>64</td>\n",
              "    </tr>\n",
              "    <tr>\n",
              "      <th>1</th>\n",
              "      <td>72</td>\n",
              "    </tr>\n",
              "  </tbody>\n",
              "</table>\n",
              "</div><br><label><b>dtype:</b> int64</label>"
            ]
          },
          "metadata": {},
          "execution_count": 16
        }
      ]
    },
    {
      "cell_type": "markdown",
      "metadata": {
        "id": "XMlDRgpmLhpH"
      },
      "source": [
        "Para conferir, vamos listar a frequência de `Pulsacao`."
      ]
    },
    {
      "cell_type": "code",
      "metadata": {
        "id": "NXy_oZrdLnZ3",
        "colab": {
          "base_uri": "https://localhost:8080/",
          "height": 398
        },
        "outputId": "b367afcd-b63d-4065-9cf6-0fc074b5f986"
      },
      "source": [
        "# Agrupando por Pulsacao e contando pelo atributo Pulsacao\n",
        "pacientes.groupby(\"Pulsacao\")[\"Pulsacao\"].count()"
      ],
      "execution_count": null,
      "outputs": [
        {
          "output_type": "execute_result",
          "data": {
            "text/plain": [
              "Pulsacao\n",
              "56    1\n",
              "60    3\n",
              "64    4\n",
              "68    1\n",
              "72    4\n",
              "76    2\n",
              "84    2\n",
              "88    3\n",
              "96    1\n",
              "Name: Pulsacao, dtype: int64"
            ],
            "text/html": [
              "<div>\n",
              "<style scoped>\n",
              "    .dataframe tbody tr th:only-of-type {\n",
              "        vertical-align: middle;\n",
              "    }\n",
              "\n",
              "    .dataframe tbody tr th {\n",
              "        vertical-align: top;\n",
              "    }\n",
              "\n",
              "    .dataframe thead th {\n",
              "        text-align: right;\n",
              "    }\n",
              "</style>\n",
              "<table border=\"1\" class=\"dataframe\">\n",
              "  <thead>\n",
              "    <tr style=\"text-align: right;\">\n",
              "      <th></th>\n",
              "      <th>Pulsacao</th>\n",
              "    </tr>\n",
              "    <tr>\n",
              "      <th>Pulsacao</th>\n",
              "      <th></th>\n",
              "    </tr>\n",
              "  </thead>\n",
              "  <tbody>\n",
              "    <tr>\n",
              "      <th>56</th>\n",
              "      <td>1</td>\n",
              "    </tr>\n",
              "    <tr>\n",
              "      <th>60</th>\n",
              "      <td>3</td>\n",
              "    </tr>\n",
              "    <tr>\n",
              "      <th>64</th>\n",
              "      <td>4</td>\n",
              "    </tr>\n",
              "    <tr>\n",
              "      <th>68</th>\n",
              "      <td>1</td>\n",
              "    </tr>\n",
              "    <tr>\n",
              "      <th>72</th>\n",
              "      <td>4</td>\n",
              "    </tr>\n",
              "    <tr>\n",
              "      <th>76</th>\n",
              "      <td>2</td>\n",
              "    </tr>\n",
              "    <tr>\n",
              "      <th>84</th>\n",
              "      <td>2</td>\n",
              "    </tr>\n",
              "    <tr>\n",
              "      <th>88</th>\n",
              "      <td>3</td>\n",
              "    </tr>\n",
              "    <tr>\n",
              "      <th>96</th>\n",
              "      <td>1</td>\n",
              "    </tr>\n",
              "  </tbody>\n",
              "</table>\n",
              "</div><br><label><b>dtype:</b> int64</label>"
            ]
          },
          "metadata": {},
          "execution_count": 17
        }
      ]
    },
    {
      "cell_type": "markdown",
      "metadata": {
        "id": "HlgdKJUILwn4"
      },
      "source": [
        "Note que Pulsacao = 64 e Pulsacao = 72 possuem as maiores frequências. Neste caso, dizemos que a frequência é bimodal (dois valores), ou seja, a moda de Pulsacao é igual a 64 e 72."
      ]
    },
    {
      "cell_type": "markdown",
      "metadata": {
        "id": "cWrHkJw5lW2w"
      },
      "source": [
        "## Exibindo Média, Mediana e Moda com print\n",
        "\n",
        "Veja a seguir que podemos usar o print para exibir uma mensagem com um RÓTULO, indicando o que significa o valor exibido."
      ]
    },
    {
      "cell_type": "code",
      "metadata": {
        "id": "vUd9JP5mlq0a",
        "colab": {
          "base_uri": "https://localhost:8080/"
        },
        "outputId": "b3e6d4dc-2d9f-4a50-8b31-30c160b041fa"
      },
      "source": [
        "print(\"Média :\", pacientes.Sistolica.mean())\n",
        "print(\"Mediana: \", pacientes.Sistolica.median())\n",
        "print(\"Moda: \", pacientes.Sistolica.mode())"
      ],
      "execution_count": null,
      "outputs": [
        {
          "output_type": "stream",
          "name": "stdout",
          "text": [
            "Média : 119.95238095238095\n",
            "Mediana:  119.0\n",
            "Moda:  0    110\n",
            "Name: Sistolica, dtype: int64\n"
          ]
        }
      ]
    },
    {
      "cell_type": "markdown",
      "metadata": {
        "id": "_ZzytDiyMc8y"
      },
      "source": [
        "## Exercícios"
      ]
    },
    {
      "cell_type": "markdown",
      "metadata": {
        "id": "e2KbZ1J4M2x4"
      },
      "source": [
        "### Exercícios 01 - Média"
      ]
    },
    {
      "cell_type": "code",
      "metadata": {
        "id": "s73_g68JPOq2"
      },
      "source": [
        "# Exibir a média do atributo Idade\n",
        "# Digite sua resposta aqui"
      ],
      "execution_count": null,
      "outputs": []
    },
    {
      "cell_type": "markdown",
      "metadata": {
        "id": "4XZyXwQ2PGXV"
      },
      "source": [
        "### Exercícios 02 - Mediana"
      ]
    },
    {
      "cell_type": "code",
      "metadata": {
        "id": "z0yvhoyCPITw"
      },
      "source": [
        "# Exibir a mediana do atributo Idade\n",
        "# Digite sua resposta aqui"
      ],
      "execution_count": null,
      "outputs": []
    },
    {
      "cell_type": "markdown",
      "metadata": {
        "id": "8_6h4MHUPI94"
      },
      "source": [
        "### Exercícios 03 - Mediana"
      ]
    },
    {
      "cell_type": "code",
      "metadata": {
        "id": "thJ9uZ5HPrVg"
      },
      "source": [
        "# Exibir a moda do atributo Idade\n",
        "# Digite sua resposta aqui"
      ],
      "execution_count": null,
      "outputs": []
    },
    {
      "cell_type": "markdown",
      "metadata": {
        "id": "XP1dSI0ZmXq7"
      },
      "source": [
        "### Exercício 04 - Média, Mediana e Moda"
      ]
    },
    {
      "cell_type": "code",
      "metadata": {
        "id": "Vn2rpDTBl6q2"
      },
      "source": [
        "# Exibir as três medidas de tendência central de Idade (média, mediana e moda) com os rótulos que idenfiquem cada medida.\n",
        "# Use um print para cada medida\n",
        "# Digite sua resposta aqui"
      ],
      "execution_count": null,
      "outputs": []
    },
    {
      "cell_type": "markdown",
      "metadata": {
        "id": "29zWYB_0Wyr-"
      },
      "source": [
        "## Extra"
      ]
    },
    {
      "cell_type": "markdown",
      "metadata": {
        "id": "dVflM1y8W3b6"
      },
      "source": [
        "### Exibindo a maior moda (quando há mais de uma)"
      ]
    },
    {
      "cell_type": "markdown",
      "metadata": {
        "id": "akC3ON1BXqYH"
      },
      "source": [
        "Note que existem dois valores de moda para `Pulsacao`"
      ]
    },
    {
      "cell_type": "code",
      "metadata": {
        "id": "iW0iwGlLXIKT",
        "colab": {
          "base_uri": "https://localhost:8080/",
          "height": 147
        },
        "outputId": "ea97ec7e-91e0-4d24-a781-f07c3f2f6b8b"
      },
      "source": [
        "moda = pacientes.Pulsacao.mode()\n",
        "moda"
      ],
      "execution_count": null,
      "outputs": [
        {
          "output_type": "execute_result",
          "data": {
            "text/plain": [
              "0    64\n",
              "1    72\n",
              "Name: Pulsacao, dtype: int64"
            ],
            "text/html": [
              "<div>\n",
              "<style scoped>\n",
              "    .dataframe tbody tr th:only-of-type {\n",
              "        vertical-align: middle;\n",
              "    }\n",
              "\n",
              "    .dataframe tbody tr th {\n",
              "        vertical-align: top;\n",
              "    }\n",
              "\n",
              "    .dataframe thead th {\n",
              "        text-align: right;\n",
              "    }\n",
              "</style>\n",
              "<table border=\"1\" class=\"dataframe\">\n",
              "  <thead>\n",
              "    <tr style=\"text-align: right;\">\n",
              "      <th></th>\n",
              "      <th>Pulsacao</th>\n",
              "    </tr>\n",
              "  </thead>\n",
              "  <tbody>\n",
              "    <tr>\n",
              "      <th>0</th>\n",
              "      <td>64</td>\n",
              "    </tr>\n",
              "    <tr>\n",
              "      <th>1</th>\n",
              "      <td>72</td>\n",
              "    </tr>\n",
              "  </tbody>\n",
              "</table>\n",
              "</div><br><label><b>dtype:</b> int64</label>"
            ]
          },
          "metadata": {},
          "execution_count": 19
        }
      ]
    },
    {
      "cell_type": "code",
      "metadata": {
        "id": "OetFtMY62jCC",
        "colab": {
          "base_uri": "https://localhost:8080/"
        },
        "outputId": "135fa84a-c773-46c9-c6f4-b5bef18f6d02"
      },
      "source": [
        "pacientes.Pulsacao.mode().max()"
      ],
      "execution_count": null,
      "outputs": [
        {
          "output_type": "execute_result",
          "data": {
            "text/plain": [
              "72"
            ]
          },
          "metadata": {},
          "execution_count": 20
        }
      ]
    },
    {
      "cell_type": "markdown",
      "metadata": {
        "id": "I-K5NY1OXx2b"
      },
      "source": [
        "A função `max()` retorna o maior valor de uma variável, conforme instrução a seguir."
      ]
    },
    {
      "cell_type": "code",
      "metadata": {
        "id": "dbpAaAMsXV7h",
        "colab": {
          "base_uri": "https://localhost:8080/"
        },
        "outputId": "1ad7e5d9-5b88-4ad6-9b97-5ad0bcbb8813"
      },
      "source": [
        "moda.max()"
      ],
      "execution_count": null,
      "outputs": [
        {
          "output_type": "execute_result",
          "data": {
            "text/plain": [
              "72"
            ]
          },
          "metadata": {},
          "execution_count": 21
        }
      ]
    },
    {
      "cell_type": "markdown",
      "metadata": {
        "id": "q8Nqe2n-d3hb"
      },
      "source": [
        "### Entrada de Dados [1]"
      ]
    },
    {
      "cell_type": "markdown",
      "metadata": {
        "id": "gKMIx2lnd9NG"
      },
      "source": [
        "Podemos perguntar ao usuário qual o nome da coluna devemos usar para, por exemplo, calcular a média (ou qualquer outro valor).\n",
        "\n",
        "Isto se chama \"solicitar uma entrada de dados\". Chamamos de **`Entrada de Dados`** pois \"entra\" (via teclado) uma informação na \"memória do computador\". Vamos explorar isso melhor mais adiante."
      ]
    },
    {
      "cell_type": "markdown",
      "metadata": {
        "id": "TCkjpHs9efHi"
      },
      "source": [
        "Em python, a função `input()` é usada para a realizar a entrada de dados. Vide exemplo a seguir."
      ]
    },
    {
      "cell_type": "code",
      "metadata": {
        "id": "SgDJICZherhL",
        "colab": {
          "base_uri": "https://localhost:8080/"
        },
        "outputId": "eb74d964-0aa5-410b-d5a2-4b63e4efc5dd"
      },
      "source": [
        "coluna = input()"
      ],
      "execution_count": null,
      "outputs": [
        {
          "name": "stdout",
          "output_type": "stream",
          "text": [
            "Pulsacao\n"
          ]
        }
      ]
    },
    {
      "cell_type": "markdown",
      "metadata": {
        "id": "vdVAWW4pe-d7"
      },
      "source": [
        "Note que a instrução a seguir calcula a média dos valores usando a **\"`coluna`\"** (atributo) informada pelo usuário.\n",
        "\n"
      ]
    },
    {
      "cell_type": "code",
      "metadata": {
        "id": "2hgLvDqZoSxU",
        "colab": {
          "base_uri": "https://localhost:8080/"
        },
        "outputId": "599deb49-03e0-4096-ec42-8d1945229433"
      },
      "source": [
        "media = pacientes[[coluna]].mean()\n",
        "print(\"Média da \", coluna, \" = \", media)"
      ],
      "execution_count": null,
      "outputs": [
        {
          "output_type": "stream",
          "name": "stdout",
          "text": [
            "Média da  Pulsacao  =  Pulsacao    72.761905\n",
            "dtype: float64\n"
          ]
        }
      ]
    },
    {
      "cell_type": "markdown",
      "metadata": {
        "id": "eDCj_MZ102w9"
      },
      "source": [
        "[ATENÇÃO]: No \"input\" é possível enviar uma \"mensagem\" para informar o que deve ser digitado."
      ]
    },
    {
      "cell_type": "code",
      "metadata": {
        "id": "EhOPO9uY0oaj",
        "colab": {
          "base_uri": "https://localhost:8080/"
        },
        "outputId": "2a51d065-bc8b-4e0b-db3e-ecbbfc24989f"
      },
      "source": [
        "coluna = input(\"Digite o título da coluna para exibir a média:\")\n",
        "media = pacientes[[coluna]].mean()\n",
        "print(\"Média da \", coluna, \" = \", media)\n"
      ],
      "execution_count": null,
      "outputs": [
        {
          "output_type": "stream",
          "name": "stdout",
          "text": [
            "Digite o título da coluna para exibir a média:Pulsacao\n",
            "Média da  Pulsacao  =  Pulsacao    72.761905\n",
            "dtype: float64\n"
          ]
        }
      ]
    },
    {
      "cell_type": "markdown",
      "metadata": {
        "id": "zIXX0xtFBJcd"
      },
      "source": [
        "Execute novamente a célula acima, digitando outro valor para \"coluna\", e veja o resultado. As instruções funcionam para qualquer valor de \"coluna\" informado (desde que o nome a coluna conste na tabela)."
      ]
    }
  ]
}