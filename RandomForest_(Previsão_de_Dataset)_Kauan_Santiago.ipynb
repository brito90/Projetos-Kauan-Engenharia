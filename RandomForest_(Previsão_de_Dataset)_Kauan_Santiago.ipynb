{
  "nbformat": 4,
  "nbformat_minor": 0,
  "metadata": {
    "colab": {
      "provenance": []
    },
    "kernelspec": {
      "name": "python3",
      "display_name": "Python 3"
    },
    "language_info": {
      "name": "python"
    }
  },
  "cells": [
    {
      "cell_type": "markdown",
      "source": [
        "### Kauan Santiago\n",
        "Engenheiro de Dados"
      ],
      "metadata": {
        "id": "WtWhNJti5A59"
      }
    },
    {
      "cell_type": "markdown",
      "source": [
        "# Classificação de Utilidade de Kit Médico — Airline Dataset\n",
        "\n",
        "## Contexto\n",
        "Este notebook tem como objetivo desenvolver e avaliar um modelo de **classificação supervisionada** para prever se um **kit médico adquirido por passageiros durante o check-in** é **útil (0)** ou **não útil (1)**.\n",
        "\n",
        "O projeto foi desenvolvido por Luan Alysson de Souza, utilizando bibliotecas do ecossistema `scikit-learn` e ferramentas clássicas de análise de dados.\n",
        "\n",
        "---\n",
        "\n",
        "## Estrutura do Dataset\n",
        "\n",
        "O conjunto de dados é composto pelos seguintes arquivos:\n",
        "\n",
        "- **train.csv** → 6736 linhas × 10 colunas  \n",
        "- **test.csv** → 2164 linhas × 9 colunas  \n",
        "\n",
        "### Colunas principais:\n",
        "| Coluna        | Descrição |\n",
        "|----------------|------------|\n",
        "| `ID`           | Identificador único do registro |\n",
        "| `Distributor`  | Código do distribuidor |\n",
        "| `Product`      | Código do produto |\n",
        "| `Duration`     | Tempo até o destino |\n",
        "| `Destination`  | Código do destino |\n",
        "| `Sales`        | Valor da venda |\n",
        "| `Commission`   | Comissão do distribuidor |\n",
        "| `Gender`       | Gênero do passageiro |\n",
        "| `Age`          | Idade do passageiro |\n",
        "| `Target`       | 0: Útil / 1: Não útil |\n",
        "\n",
        "---\n",
        "\n"
      ],
      "metadata": {
        "id": "CnadV1d5DUMJ"
      }
    },
    {
      "cell_type": "markdown",
      "source": [
        "### Setup"
      ],
      "metadata": {
        "id": "1bjAi_IkHZ75"
      }
    },
    {
      "cell_type": "code",
      "execution_count": null,
      "metadata": {
        "id": "NVMhX55ujDQ-",
        "colab": {
          "base_uri": "https://localhost:8080/"
        },
        "outputId": "36f0e644-1a80-4d3f-ab92-bc1cba2e1ab9"
      },
      "outputs": [
        {
          "output_type": "stream",
          "name": "stdout",
          "text": [
            "Shape do treino: (6736, 10)\n",
            "Shape do teste: (2164, 9)\n",
            "\n",
            "Primeiras linhas do treino:\n",
            "                         ID  Distributor  Product  Duration  Destination  \\\n",
            "0      fffe3800370038003900            7        1        22          122   \n",
            "1  fffe34003200370037003500            7        1        26           52   \n",
            "2  fffe32003100320030003200            7       10        15           83   \n",
            "3  fffe34003400310037003000            8       25        24           55   \n",
            "4  fffe32003400390038003000            6       16        12          122   \n",
            "\n",
            "   Sales  Commission  Gender  Age  Target  \n",
            "0   31.0        0.00     NaN   20       0  \n",
            "1   22.0        0.00     NaN   36       0  \n",
            "2   63.0        0.00     NaN   34       0  \n",
            "3   62.0       24.80     0.0  118       0  \n",
            "4   19.8       11.88     NaN   26       0  \n"
          ]
        }
      ],
      "source": [
        "import pandas as pd\n",
        "import numpy as np\n",
        "from sklearn.model_selection import train_test_split, cross_val_score\n",
        "from sklearn.preprocessing import LabelEncoder\n",
        "from sklearn.ensemble import RandomForestClassifier\n",
        "from sklearn.metrics import f1_score, classification_report, confusion_matrix\n",
        "import warnings\n",
        "warnings.filterwarnings('ignore')\n",
        "\n",
        "# Carregar os dados\n",
        "train_df = pd.read_csv('https://drive.google.com/uc?export=download&id=18qnzpCbngQKduw1pQ0Fki_-3fWdUm1Si')\n",
        "test_df = pd.read_csv('https://drive.google.com/uc?export=download&id=1bJf_qceELneHGHlnoENJD1PRqoDImIut')\n",
        "\n",
        "print(\"Shape do treino:\", train_df.shape)\n",
        "print(\"Shape do teste:\", test_df.shape)\n",
        "print(\"\\nPrimeiras linhas do treino:\")\n",
        "print(train_df.head())"
      ]
    },
    {
      "cell_type": "markdown",
      "source": [
        "### Descrição"
      ],
      "metadata": {
        "id": "w-cvbmkXHeM5"
      }
    },
    {
      "cell_type": "code",
      "source": [
        "# Ver informações dos dados\n",
        "print(train_df.info())\n",
        "print(\"\\nValores nulos:\")\n",
        "print(train_df.isnull().sum())\n",
        "\n",
        "# Ver distribuição do target\n",
        "print(\"\\nDistribuição do Target:\")\n",
        "print(train_df['Target'].value_counts())\n",
        "print(\"\\nProporção:\")\n",
        "print(train_df['Target'].value_counts(normalize=True))\n",
        "\n",
        "# Ver estatísticas\n",
        "print(\"\\nEstatísticas descritivas:\")\n",
        "print(train_df.describe())"
      ],
      "metadata": {
        "colab": {
          "base_uri": "https://localhost:8080/"
        },
        "id": "9iLq88-6kplI",
        "outputId": "64726e78-037a-488a-fcf4-418ebfb76f75"
      },
      "execution_count": null,
      "outputs": [
        {
          "output_type": "stream",
          "name": "stdout",
          "text": [
            "<class 'pandas.core.frame.DataFrame'>\n",
            "RangeIndex: 6736 entries, 0 to 6735\n",
            "Data columns (total 10 columns):\n",
            " #   Column       Non-Null Count  Dtype  \n",
            "---  ------       --------------  -----  \n",
            " 0   ID           6736 non-null   object \n",
            " 1   Distributor  6736 non-null   int64  \n",
            " 2   Product      6736 non-null   int64  \n",
            " 3   Duration     6736 non-null   int64  \n",
            " 4   Destination  6736 non-null   int64  \n",
            " 5   Sales        6736 non-null   float64\n",
            " 6   Commission   6736 non-null   float64\n",
            " 7   Gender       2032 non-null   float64\n",
            " 8   Age          6736 non-null   int64  \n",
            " 9   Target       6736 non-null   int64  \n",
            "dtypes: float64(3), int64(6), object(1)\n",
            "memory usage: 526.4+ KB\n",
            "None\n",
            "\n",
            "Valores nulos:\n",
            "ID                0\n",
            "Distributor       0\n",
            "Product           0\n",
            "Duration          0\n",
            "Destination       0\n",
            "Sales             0\n",
            "Commission        0\n",
            "Gender         4704\n",
            "Age               0\n",
            "Target            0\n",
            "dtype: int64\n",
            "\n",
            "Distribuição do Target:\n",
            "Target\n",
            "0    6420\n",
            "1     316\n",
            "Name: count, dtype: int64\n",
            "\n",
            "Proporção:\n",
            "Target\n",
            "0    0.953088\n",
            "1    0.046912\n",
            "Name: proportion, dtype: float64\n",
            "\n",
            "Estatísticas descritivas:\n",
            "       Distributor     Product     Duration  Destination        Sales  \\\n",
            "count  6736.000000  6736.00000  6736.000000  6736.000000  6736.000000   \n",
            "mean      6.563539     9.40380    51.588034    81.681413    42.802316   \n",
            "std       2.440587     6.62581    79.504738    39.530726    52.408053   \n",
            "min       0.000000     0.00000    -1.000000     0.000000  -277.200000   \n",
            "25%       6.000000     2.00000    10.000000    55.000000    18.000000   \n",
            "50%       7.000000    10.00000    23.000000    86.000000    28.000000   \n",
            "75%       7.000000    16.00000    54.000000   112.000000    49.500000   \n",
            "max      15.000000    25.00000   444.000000   139.000000   666.000000   \n",
            "\n",
            "        Commission       Gender          Age       Target  \n",
            "count  6736.000000  2032.000000  6736.000000  6736.000000  \n",
            "mean     10.469831     0.512795    39.880344     0.046912  \n",
            "std      20.342999     0.499959    13.872811     0.211466  \n",
            "min       0.000000     0.000000     1.000000     0.000000  \n",
            "25%       0.000000     0.000000    35.000000     0.000000  \n",
            "50%       0.000000     1.000000    36.000000     0.000000  \n",
            "75%      11.880000     1.000000    44.000000     0.000000  \n",
            "max     262.760000     1.000000   118.000000     1.000000  \n"
          ]
        }
      ]
    },
    {
      "cell_type": "markdown",
      "source": [
        "### Processamento"
      ],
      "metadata": {
        "id": "iS7OoL3LHiCS"
      }
    },
    {
      "cell_type": "code",
      "source": [
        "# Função para processar os dados\n",
        "def prepare_data(df, is_train=True):\n",
        "    df = df.copy()\n",
        "\n",
        "    # Separar ID e Target\n",
        "    ids = df['ID']\n",
        "    if is_train:\n",
        "        target = df['Target']\n",
        "        df = df.drop(['ID', 'Target'], axis=1)\n",
        "    else:\n",
        "        df = df.drop(['ID'], axis=1)\n",
        "\n",
        "    # Identificar colunas categóricas e numéricas\n",
        "    categorical_cols = df.select_dtypes(include=['object']).columns.tolist()\n",
        "    numerical_cols = df.select_dtypes(include=[np.number]).columns.tolist()\n",
        "\n",
        "    print(f\"Colunas categóricas: {categorical_cols}\")\n",
        "    print(f\"Colunas numéricas: {numerical_cols}\")\n",
        "\n",
        "    # Preencher valores nulos\n",
        "    for col in numerical_cols:\n",
        "        if df[col].isnull().sum() > 0:\n",
        "            df[col].fillna(df[col].median(), inplace=True)\n",
        "\n",
        "    for col in categorical_cols:\n",
        "        if df[col].isnull().sum() > 0:\n",
        "            df[col].fillna(df[col].mode()[0], inplace=True)\n",
        "\n",
        "    # Label Encoding para variáveis categóricas\n",
        "    label_encoders = {}\n",
        "    for col in categorical_cols:\n",
        "        le = LabelEncoder()\n",
        "        df[col] = le.fit_transform(df[col].astype(str))\n",
        "        label_encoders[col] = le\n",
        "\n",
        "    if is_train:\n",
        "        return df, target, ids\n",
        "    else:\n",
        "        return df, ids\n",
        "\n",
        "# Processar dados de treino e teste\n",
        "X_train, y_train, train_ids = prepare_data(train_df, is_train=True)\n",
        "X_test, test_ids = prepare_data(test_df, is_train=False)\n",
        "\n",
        "print(\"\\nDados processados!\")\n",
        "print(\"Shape X_train:\", X_train.shape)\n",
        "print(\"Shape X_test:\", X_test.shape)"
      ],
      "metadata": {
        "colab": {
          "base_uri": "https://localhost:8080/"
        },
        "id": "HOCxmQ9ZkypP",
        "outputId": "7d0557f8-f8ff-42f4-9503-74ad6efbcc0d"
      },
      "execution_count": null,
      "outputs": [
        {
          "output_type": "stream",
          "name": "stdout",
          "text": [
            "Colunas categóricas: []\n",
            "Colunas numéricas: ['Distributor', 'Product', 'Duration', 'Destination', 'Sales', 'Commission', 'Gender', 'Age']\n",
            "Colunas categóricas: []\n",
            "Colunas numéricas: ['Distributor', 'Product', 'Duration', 'Destination', 'Sales', 'Commission', 'Gender', 'Age']\n",
            "\n",
            "Dados processados!\n",
            "Shape X_train: (6736, 8)\n",
            "Shape X_test: (2164, 8)\n"
          ]
        }
      ]
    },
    {
      "cell_type": "markdown",
      "source": [
        "### Treinamento"
      ],
      "metadata": {
        "id": "xQ38-HuCHq_J"
      }
    },
    {
      "cell_type": "code",
      "source": [
        "# Criar e treinar o modelo Random Forest\n",
        "model = RandomForestClassifier(\n",
        "    n_estimators=200,\n",
        "    max_depth=15,\n",
        "    min_samples_split=10,\n",
        "    min_samples_leaf=5,\n",
        "    random_state=42,\n",
        "    n_jobs=-1,\n",
        "    class_weight='balanced'  # Importante para classes desbalanceadas\n",
        ")\n",
        "\n",
        "print(\"Treinando o modelo...\")\n",
        "model.fit(X_train, y_train)\n",
        "print(\"Modelo treinado!\")"
      ],
      "metadata": {
        "colab": {
          "base_uri": "https://localhost:8080/"
        },
        "id": "bQBgmu4Fk4Bu",
        "outputId": "d832c7cb-9a8f-4522-f262-902ce36eefcc"
      },
      "execution_count": null,
      "outputs": [
        {
          "output_type": "stream",
          "name": "stdout",
          "text": [
            "Treinando o modelo...\n",
            "Modelo treinado!\n"
          ]
        }
      ]
    },
    {
      "cell_type": "markdown",
      "source": [
        "### Previsões/ Treino"
      ],
      "metadata": {
        "id": "XtVRO_mwHvbB"
      }
    },
    {
      "cell_type": "code",
      "source": [
        "# Fazer previsões no treino\n",
        "train_pred = model.predict(X_train)\n",
        "\n",
        "# Calcular F1-Score conforme especificado no enunciado\n",
        "train_f1 = f1_score(y_train, train_pred, average='weighted')\n",
        "train_score = 100 * train_f1  # Multiplicar por 100 conforme enunciado\n",
        "\n",
        "print(f\"\\nResultados no conjunto de treino:\")\n",
        "print(f\"F1-Score (weighted): {train_f1:.4f}\")\n",
        "print(f\"Score final (x100): {train_score:.2f}\")\n",
        "\n",
        "print(\"\\n Matriz de Confusão:\")\n",
        "print(confusion_matrix(y_train, train_pred))\n",
        "\n",
        "print(\"\\nRelatório de Classificação:\")\n",
        "print(classification_report(y_train, train_pred))"
      ],
      "metadata": {
        "colab": {
          "base_uri": "https://localhost:8080/"
        },
        "id": "M9EzXQqck7dH",
        "outputId": "236d9189-199d-4ba6-d031-2dcff7cce1df"
      },
      "execution_count": null,
      "outputs": [
        {
          "output_type": "stream",
          "name": "stdout",
          "text": [
            "\n",
            "Resultados no conjunto de treino:\n",
            "F1-Score (weighted): 0.9454\n",
            "Score final (x100): 94.54\n",
            "\n",
            " Matriz de Confusão:\n",
            "[[6005  415]\n",
            " [  30  286]]\n",
            "\n",
            "Relatório de Classificação:\n",
            "              precision    recall  f1-score   support\n",
            "\n",
            "           0       1.00      0.94      0.96      6420\n",
            "           1       0.41      0.91      0.56       316\n",
            "\n",
            "    accuracy                           0.93      6736\n",
            "   macro avg       0.70      0.92      0.76      6736\n",
            "weighted avg       0.97      0.93      0.95      6736\n",
            "\n"
          ]
        }
      ]
    },
    {
      "cell_type": "markdown",
      "source": [
        "### Validação Cruzada"
      ],
      "metadata": {
        "id": "kTdgT6OiH1LO"
      }
    },
    {
      "cell_type": "code",
      "source": [
        "# Validação cruzada para verificar a performance\n",
        "cv_scores = cross_val_score(\n",
        "    model, X_train, y_train,\n",
        "    cv=5,\n",
        "    scoring='f1_weighted',\n",
        "    n_jobs=-1\n",
        ")\n",
        "\n",
        "# Multiplicar por 100 para ter o score final\n",
        "cv_scores_final = cv_scores * 100\n",
        "\n",
        "print(f\"\\n Scores da validação cruzada (5-fold):\")\n",
        "for i, score in enumerate(cv_scores_final, 1):\n",
        "    print(f\"  Fold {i}: {score:.2f}\")\n",
        "\n",
        "print(f\"\\nMédia: {cv_scores_final.mean():.2f}\")\n",
        "print(f\"Desvio padrão: {cv_scores_final.std():.2f}\")\n",
        "print(f\"Intervalo: [{cv_scores_final.mean() - cv_scores_final.std():.2f}, {cv_scores_final.mean() + cv_scores_final.std():.2f}]\")"
      ],
      "metadata": {
        "colab": {
          "base_uri": "https://localhost:8080/"
        },
        "id": "8HojOLyNk-vB",
        "outputId": "fa9863a0-7e95-4c1e-ffdb-e9ab17fe8968"
      },
      "execution_count": null,
      "outputs": [
        {
          "output_type": "stream",
          "name": "stdout",
          "text": [
            "\n",
            " Scores da validação cruzada (5-fold):\n",
            "  Fold 1: 91.67\n",
            "  Fold 2: 91.24\n",
            "  Fold 3: 92.27\n",
            "  Fold 4: 91.40\n",
            "  Fold 5: 91.43\n",
            "\n",
            "Média: 91.60\n",
            "Desvio padrão: 0.36\n",
            "Intervalo: [91.24, 91.96]\n"
          ]
        }
      ]
    },
    {
      "cell_type": "markdown",
      "source": [
        "### Previsões (Resultado)"
      ],
      "metadata": {
        "id": "uveoaZUlH-K9"
      }
    },
    {
      "cell_type": "code",
      "source": [
        "# Fazer previsões\n",
        "test_predictions = model.predict(X_test)\n",
        "\n",
        "print(\"\\nDistribuição das previsões no teste:\")\n",
        "unique, counts = np.unique(test_predictions, return_counts=True)\n",
        "for val, count in zip(unique, counts):\n",
        "    print(f\"Classe {val}: {count} ({count/len(test_predictions)*100:.1f}%)\")"
      ],
      "metadata": {
        "colab": {
          "base_uri": "https://localhost:8080/"
        },
        "id": "L7Dwb3XulG16",
        "outputId": "cd330714-196a-473a-e9bd-a359cc6c62c2"
      },
      "execution_count": null,
      "outputs": [
        {
          "output_type": "stream",
          "name": "stdout",
          "text": [
            "\n",
            "Distribuição das previsões no teste:\n",
            "Classe 0: 1953 (90.2%)\n",
            "Classe 1: 211 (9.8%)\n"
          ]
        }
      ]
    },
    {
      "cell_type": "code",
      "source": [
        "# Criar DataFrame para Salvar\n",
        "submission = pd.DataFrame({\n",
        "    'ID': test_ids,\n",
        "    'Target': test_predictions\n",
        "})\n",
        "\n",
        "# Salvar arquivo\n",
        "submission.to_csv('resultado_av.csv', index=False)\n",
        "\n",
        "print(\"\\n Arquivo 'resultado_av.csv' criado com sucesso!\")\n",
        "print(f\"Total de previsões: {len(submission)}\")\n",
        "\n"
      ],
      "metadata": {
        "colab": {
          "base_uri": "https://localhost:8080/"
        },
        "id": "OEEgNRJxl4TG",
        "outputId": "d3b5a58f-7ce8-4d4c-e153-85b13c82deae"
      },
      "execution_count": null,
      "outputs": [
        {
          "output_type": "stream",
          "name": "stdout",
          "text": [
            "\n",
            " Arquivo 'resultado_av.csv' criado com sucesso!\n",
            "Total de previsões: 2164\n"
          ]
        }
      ]
    },
    {
      "cell_type": "code",
      "source": [
        "print(\"Primeiras linhas do Resultado\")\n",
        "print(submission.head(10))"
      ],
      "metadata": {
        "colab": {
          "base_uri": "https://localhost:8080/"
        },
        "id": "-5YW7xmoAwOc",
        "outputId": "3459c416-9807-40a0-9667-496f0430095c"
      },
      "execution_count": null,
      "outputs": [
        {
          "output_type": "stream",
          "name": "stdout",
          "text": [
            "Primeiras linhas do Resultado\n",
            "                         ID  Target\n",
            "0  fffe31003600330038003500       0\n",
            "1  fffe33003600300031003400       1\n",
            "2          fffe320033003300       1\n",
            "3          fffe390039003800       0\n",
            "4      fffe3500350031003000       0\n",
            "5  fffe31003000300037003300       0\n",
            "6  fffe33003300360037003200       0\n",
            "7  fffe32003500310030003200       0\n",
            "8  fffe32003100320031003600       0\n",
            "9      fffe3900380030003200       0\n"
          ]
        }
      ]
    },
    {
      "cell_type": "markdown",
      "source": [
        "O modelo atingiu um F1-Score ponderado de 0.9454, mostrando boa capacidade preditiva geral.\n",
        "\n",
        "Ainda assim, ajustes voltados para o equilíbrio das classes podem melhorar a performance na detecção de passageiros que consideram o kit “não útil”."
      ],
      "metadata": {
        "id": "IYIvY29HF2AE"
      }
    }
  ]
}