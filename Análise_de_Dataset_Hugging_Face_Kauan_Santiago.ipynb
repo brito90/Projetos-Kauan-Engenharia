{
  "cells": [
    {
      "cell_type": "markdown",
      "metadata": {
        "id": "3o5sAOfwL5qd"
      },
      "source": [
        "[![Open In Colab](https://colab.research.google.com/assets/colab-badge.svg)](https://colab.research.google.com/github/Pacific-AI-Corp/langtest/blob/main/demo/tutorials/misc/HuggingFace_Dataset_Notebook.ipynb)"
      ]
    },
    {
      "cell_type": "markdown",
      "metadata": {
        "id": "WJJzt3RWhEc6"
      },
      "source": [
        "Sobre o LangTest\n",
        "\n",
        "O LangTest é uma biblioteca open-source em Python desenvolvida para ajudar pesquisadores e desenvolvedores a avaliar e garantir a segurança e a eficácia de modelos de Processamento de Linguagem Natural (NLP).\n",
        "\n",
        "Ela é compatível com diversos frameworks e provedores de modelos, incluindo:\n",
        "\n",
        "John Snow Labs,\n",
        "\n",
        "Hugging Face,\n",
        "\n",
        "SpaCy,\n",
        "\n",
        "OpenAI, Cohere, AI21,\n",
        "\n",
        "Hugging Face Inference API, e Azure-OpenAI.\n",
        "\n",
        "Com o LangTest, é possível testar modelos de várias tarefas de NLP, como:\n",
        "\n",
        "Reconhecimento de Entidades Nomeadas (NER)\n",
        "\n",
        "Classificação de Texto\n",
        "\n",
        "Preenchimento de Máscara (fill-mask)\n",
        "\n",
        "Tradução\n",
        "\n",
        "Perguntas e Respostas (Q&A)\n",
        "\n",
        "Sumarização"
      ]
    },
    {
      "cell_type": "markdown",
      "metadata": {
        "id": "26qXWhCYhHAt"
      },
      "source": [
        "Início\n",
        "\n"
      ]
    },
    {
      "cell_type": "code",
      "execution_count": 18,
      "metadata": {
        "execution": {
          "iopub.status.busy": "2023-08-18T08:43:56.928880Z",
          "iopub.status.idle": "2023-08-18T08:43:56.929052Z",
          "shell.execute_reply": "2023-08-18T08:43:56.928975Z",
          "shell.execute_reply.started": "2023-08-18T08:43:56.928965Z"
        },
        "id": "azUb114QhOsY",
        "tags": [],
        "colab": {
          "base_uri": "https://localhost:8080/"
        },
        "outputId": "7af14dcb-56f7-4dbd-eb3b-9343037b50e2"
      },
      "outputs": [
        {
          "output_type": "stream",
          "name": "stdout",
          "text": [
            "Requirement already satisfied: langtest[transformers] in /usr/local/lib/python3.12/dist-packages (2.7.0)\n",
            "Requirement already satisfied: accelerate<2.0.0,>=1.10.0 in /usr/local/lib/python3.12/dist-packages (from langtest[transformers]) (1.11.0)\n",
            "Requirement already satisfied: click>=8.1.7 in /usr/local/lib/python3.12/dist-packages (from langtest[transformers]) (8.3.0)\n",
            "Requirement already satisfied: datasets>=3.6.0 in /usr/local/lib/python3.12/dist-packages (from langtest[transformers]) (4.0.0)\n",
            "Requirement already satisfied: deprecated<2.0.0,>=1.2.18 in /usr/local/lib/python3.12/dist-packages (from langtest[transformers]) (1.2.18)\n",
            "Requirement already satisfied: importlib-resources>=5.10 in /usr/local/lib/python3.12/dist-packages (from langtest[transformers]) (6.5.2)\n",
            "Requirement already satisfied: jsonlines>=3.1.0 in /usr/local/lib/python3.12/dist-packages (from langtest[transformers]) (4.0.0)\n",
            "Requirement already satisfied: nest-asyncio<2.0.0,>=1.5.0 in /usr/local/lib/python3.12/dist-packages (from langtest[transformers]) (1.6.0)\n",
            "Requirement already satisfied: openpyxl>=3.1.5 in /usr/local/lib/python3.12/dist-packages (from langtest[transformers]) (3.1.5)\n",
            "Requirement already satisfied: pandas<3.0.0,>=2.0.3 in /usr/local/lib/python3.12/dist-packages (from langtest[transformers]) (2.2.2)\n",
            "Requirement already satisfied: pillow>=11.0.0 in /usr/local/lib/python3.12/dist-packages (from langtest[transformers]) (11.3.0)\n",
            "Requirement already satisfied: pydantic>=2.10.0 in /usr/local/lib/python3.12/dist-packages (from langtest[transformers]) (2.11.10)\n",
            "Requirement already satisfied: pyyaml<7.0,>=6.0 in /usr/local/lib/python3.12/dist-packages (from langtest[transformers]) (6.0.3)\n",
            "Requirement already satisfied: tables>=3.8.0 in /usr/local/lib/python3.12/dist-packages (from langtest[transformers]) (3.10.2)\n",
            "Requirement already satisfied: torch<3.0.0,>=2.8.0 in /usr/local/lib/python3.12/dist-packages (from langtest[transformers]) (2.8.0+cu126)\n",
            "Requirement already satisfied: tqdm<5.0.0,>=4.67.1 in /usr/local/lib/python3.12/dist-packages (from langtest[transformers]) (4.67.1)\n",
            "Requirement already satisfied: transformers<5.0.0,>=4.52.4 in /usr/local/lib/python3.12/dist-packages (from langtest[transformers]) (4.57.1)\n",
            "Requirement already satisfied: typing-extensions<5.0.0,>=4.10.0 in /usr/local/lib/python3.12/dist-packages (from langtest[transformers]) (4.15.0)\n",
            "Requirement already satisfied: numpy>=1.17 in /usr/local/lib/python3.12/dist-packages (from accelerate<2.0.0,>=1.10.0->langtest[transformers]) (2.0.2)\n",
            "Requirement already satisfied: packaging>=20.0 in /usr/local/lib/python3.12/dist-packages (from accelerate<2.0.0,>=1.10.0->langtest[transformers]) (25.0)\n",
            "Requirement already satisfied: psutil in /usr/local/lib/python3.12/dist-packages (from accelerate<2.0.0,>=1.10.0->langtest[transformers]) (5.9.5)\n",
            "Requirement already satisfied: huggingface_hub>=0.21.0 in /usr/local/lib/python3.12/dist-packages (from accelerate<2.0.0,>=1.10.0->langtest[transformers]) (0.35.3)\n",
            "Requirement already satisfied: safetensors>=0.4.3 in /usr/local/lib/python3.12/dist-packages (from accelerate<2.0.0,>=1.10.0->langtest[transformers]) (0.6.2)\n",
            "Requirement already satisfied: filelock in /usr/local/lib/python3.12/dist-packages (from datasets>=3.6.0->langtest[transformers]) (3.20.0)\n",
            "Requirement already satisfied: pyarrow>=15.0.0 in /usr/local/lib/python3.12/dist-packages (from datasets>=3.6.0->langtest[transformers]) (18.1.0)\n",
            "Requirement already satisfied: dill<0.3.9,>=0.3.0 in /usr/local/lib/python3.12/dist-packages (from datasets>=3.6.0->langtest[transformers]) (0.3.8)\n",
            "Requirement already satisfied: requests>=2.32.2 in /usr/local/lib/python3.12/dist-packages (from datasets>=3.6.0->langtest[transformers]) (2.32.4)\n",
            "Requirement already satisfied: xxhash in /usr/local/lib/python3.12/dist-packages (from datasets>=3.6.0->langtest[transformers]) (3.6.0)\n",
            "Requirement already satisfied: multiprocess<0.70.17 in /usr/local/lib/python3.12/dist-packages (from datasets>=3.6.0->langtest[transformers]) (0.70.16)\n",
            "Requirement already satisfied: fsspec<=2025.3.0,>=2023.1.0 in /usr/local/lib/python3.12/dist-packages (from fsspec[http]<=2025.3.0,>=2023.1.0->datasets>=3.6.0->langtest[transformers]) (2025.3.0)\n",
            "Requirement already satisfied: wrapt<2,>=1.10 in /usr/local/lib/python3.12/dist-packages (from deprecated<2.0.0,>=1.2.18->langtest[transformers]) (1.17.3)\n",
            "Requirement already satisfied: attrs>=19.2.0 in /usr/local/lib/python3.12/dist-packages (from jsonlines>=3.1.0->langtest[transformers]) (25.4.0)\n",
            "Requirement already satisfied: et-xmlfile in /usr/local/lib/python3.12/dist-packages (from openpyxl>=3.1.5->langtest[transformers]) (2.0.0)\n",
            "Requirement already satisfied: python-dateutil>=2.8.2 in /usr/local/lib/python3.12/dist-packages (from pandas<3.0.0,>=2.0.3->langtest[transformers]) (2.9.0.post0)\n",
            "Requirement already satisfied: pytz>=2020.1 in /usr/local/lib/python3.12/dist-packages (from pandas<3.0.0,>=2.0.3->langtest[transformers]) (2025.2)\n",
            "Requirement already satisfied: tzdata>=2022.7 in /usr/local/lib/python3.12/dist-packages (from pandas<3.0.0,>=2.0.3->langtest[transformers]) (2025.2)\n",
            "Requirement already satisfied: annotated-types>=0.6.0 in /usr/local/lib/python3.12/dist-packages (from pydantic>=2.10.0->langtest[transformers]) (0.7.0)\n",
            "Requirement already satisfied: pydantic-core==2.33.2 in /usr/local/lib/python3.12/dist-packages (from pydantic>=2.10.0->langtest[transformers]) (2.33.2)\n",
            "Requirement already satisfied: typing-inspection>=0.4.0 in /usr/local/lib/python3.12/dist-packages (from pydantic>=2.10.0->langtest[transformers]) (0.4.2)\n",
            "Requirement already satisfied: numexpr>=2.6.2 in /usr/local/lib/python3.12/dist-packages (from tables>=3.8.0->langtest[transformers]) (2.14.1)\n",
            "Requirement already satisfied: py-cpuinfo in /usr/local/lib/python3.12/dist-packages (from tables>=3.8.0->langtest[transformers]) (9.0.0)\n",
            "Requirement already satisfied: blosc2>=2.3.0 in /usr/local/lib/python3.12/dist-packages (from tables>=3.8.0->langtest[transformers]) (3.10.2)\n",
            "Requirement already satisfied: setuptools in /usr/local/lib/python3.12/dist-packages (from torch<3.0.0,>=2.8.0->langtest[transformers]) (75.2.0)\n",
            "Requirement already satisfied: sympy>=1.13.3 in /usr/local/lib/python3.12/dist-packages (from torch<3.0.0,>=2.8.0->langtest[transformers]) (1.13.3)\n",
            "Requirement already satisfied: networkx in /usr/local/lib/python3.12/dist-packages (from torch<3.0.0,>=2.8.0->langtest[transformers]) (3.5)\n",
            "Requirement already satisfied: jinja2 in /usr/local/lib/python3.12/dist-packages (from torch<3.0.0,>=2.8.0->langtest[transformers]) (3.1.6)\n",
            "Requirement already satisfied: nvidia-cuda-nvrtc-cu12==12.6.77 in /usr/local/lib/python3.12/dist-packages (from torch<3.0.0,>=2.8.0->langtest[transformers]) (12.6.77)\n",
            "Requirement already satisfied: nvidia-cuda-runtime-cu12==12.6.77 in /usr/local/lib/python3.12/dist-packages (from torch<3.0.0,>=2.8.0->langtest[transformers]) (12.6.77)\n",
            "Requirement already satisfied: nvidia-cuda-cupti-cu12==12.6.80 in /usr/local/lib/python3.12/dist-packages (from torch<3.0.0,>=2.8.0->langtest[transformers]) (12.6.80)\n",
            "Requirement already satisfied: nvidia-cudnn-cu12==9.10.2.21 in /usr/local/lib/python3.12/dist-packages (from torch<3.0.0,>=2.8.0->langtest[transformers]) (9.10.2.21)\n",
            "Requirement already satisfied: nvidia-cublas-cu12==12.6.4.1 in /usr/local/lib/python3.12/dist-packages (from torch<3.0.0,>=2.8.0->langtest[transformers]) (12.6.4.1)\n",
            "Requirement already satisfied: nvidia-cufft-cu12==11.3.0.4 in /usr/local/lib/python3.12/dist-packages (from torch<3.0.0,>=2.8.0->langtest[transformers]) (11.3.0.4)\n",
            "Requirement already satisfied: nvidia-curand-cu12==10.3.7.77 in /usr/local/lib/python3.12/dist-packages (from torch<3.0.0,>=2.8.0->langtest[transformers]) (10.3.7.77)\n",
            "Requirement already satisfied: nvidia-cusolver-cu12==11.7.1.2 in /usr/local/lib/python3.12/dist-packages (from torch<3.0.0,>=2.8.0->langtest[transformers]) (11.7.1.2)\n",
            "Requirement already satisfied: nvidia-cusparse-cu12==12.5.4.2 in /usr/local/lib/python3.12/dist-packages (from torch<3.0.0,>=2.8.0->langtest[transformers]) (12.5.4.2)\n",
            "Requirement already satisfied: nvidia-cusparselt-cu12==0.7.1 in /usr/local/lib/python3.12/dist-packages (from torch<3.0.0,>=2.8.0->langtest[transformers]) (0.7.1)\n",
            "Requirement already satisfied: nvidia-nccl-cu12==2.27.3 in /usr/local/lib/python3.12/dist-packages (from torch<3.0.0,>=2.8.0->langtest[transformers]) (2.27.3)\n",
            "Requirement already satisfied: nvidia-nvtx-cu12==12.6.77 in /usr/local/lib/python3.12/dist-packages (from torch<3.0.0,>=2.8.0->langtest[transformers]) (12.6.77)\n",
            "Requirement already satisfied: nvidia-nvjitlink-cu12==12.6.85 in /usr/local/lib/python3.12/dist-packages (from torch<3.0.0,>=2.8.0->langtest[transformers]) (12.6.85)\n",
            "Requirement already satisfied: nvidia-cufile-cu12==1.11.1.6 in /usr/local/lib/python3.12/dist-packages (from torch<3.0.0,>=2.8.0->langtest[transformers]) (1.11.1.6)\n",
            "Requirement already satisfied: triton==3.4.0 in /usr/local/lib/python3.12/dist-packages (from torch<3.0.0,>=2.8.0->langtest[transformers]) (3.4.0)\n",
            "Requirement already satisfied: regex!=2019.12.17 in /usr/local/lib/python3.12/dist-packages (from transformers<5.0.0,>=4.52.4->langtest[transformers]) (2024.11.6)\n",
            "Requirement already satisfied: tokenizers<=0.23.0,>=0.22.0 in /usr/local/lib/python3.12/dist-packages (from transformers<5.0.0,>=4.52.4->langtest[transformers]) (0.22.1)\n",
            "Requirement already satisfied: ndindex in /usr/local/lib/python3.12/dist-packages (from blosc2>=2.3.0->tables>=3.8.0->langtest[transformers]) (1.10.0)\n",
            "Requirement already satisfied: msgpack in /usr/local/lib/python3.12/dist-packages (from blosc2>=2.3.0->tables>=3.8.0->langtest[transformers]) (1.1.2)\n",
            "Requirement already satisfied: platformdirs in /usr/local/lib/python3.12/dist-packages (from blosc2>=2.3.0->tables>=3.8.0->langtest[transformers]) (4.5.0)\n",
            "Requirement already satisfied: aiohttp!=4.0.0a0,!=4.0.0a1 in /usr/local/lib/python3.12/dist-packages (from fsspec[http]<=2025.3.0,>=2023.1.0->datasets>=3.6.0->langtest[transformers]) (3.13.1)\n",
            "Requirement already satisfied: hf-xet<2.0.0,>=1.1.3 in /usr/local/lib/python3.12/dist-packages (from huggingface_hub>=0.21.0->accelerate<2.0.0,>=1.10.0->langtest[transformers]) (1.1.10)\n",
            "Requirement already satisfied: six>=1.5 in /usr/local/lib/python3.12/dist-packages (from python-dateutil>=2.8.2->pandas<3.0.0,>=2.0.3->langtest[transformers]) (1.17.0)\n",
            "Requirement already satisfied: charset_normalizer<4,>=2 in /usr/local/lib/python3.12/dist-packages (from requests>=2.32.2->datasets>=3.6.0->langtest[transformers]) (3.4.4)\n",
            "Requirement already satisfied: idna<4,>=2.5 in /usr/local/lib/python3.12/dist-packages (from requests>=2.32.2->datasets>=3.6.0->langtest[transformers]) (3.11)\n",
            "Requirement already satisfied: urllib3<3,>=1.21.1 in /usr/local/lib/python3.12/dist-packages (from requests>=2.32.2->datasets>=3.6.0->langtest[transformers]) (2.5.0)\n",
            "Requirement already satisfied: certifi>=2017.4.17 in /usr/local/lib/python3.12/dist-packages (from requests>=2.32.2->datasets>=3.6.0->langtest[transformers]) (2025.10.5)\n",
            "Requirement already satisfied: mpmath<1.4,>=1.1.0 in /usr/local/lib/python3.12/dist-packages (from sympy>=1.13.3->torch<3.0.0,>=2.8.0->langtest[transformers]) (1.3.0)\n",
            "Requirement already satisfied: MarkupSafe>=2.0 in /usr/local/lib/python3.12/dist-packages (from jinja2->torch<3.0.0,>=2.8.0->langtest[transformers]) (3.0.3)\n",
            "Requirement already satisfied: aiohappyeyeballs>=2.5.0 in /usr/local/lib/python3.12/dist-packages (from aiohttp!=4.0.0a0,!=4.0.0a1->fsspec[http]<=2025.3.0,>=2023.1.0->datasets>=3.6.0->langtest[transformers]) (2.6.1)\n",
            "Requirement already satisfied: aiosignal>=1.4.0 in /usr/local/lib/python3.12/dist-packages (from aiohttp!=4.0.0a0,!=4.0.0a1->fsspec[http]<=2025.3.0,>=2023.1.0->datasets>=3.6.0->langtest[transformers]) (1.4.0)\n",
            "Requirement already satisfied: frozenlist>=1.1.1 in /usr/local/lib/python3.12/dist-packages (from aiohttp!=4.0.0a0,!=4.0.0a1->fsspec[http]<=2025.3.0,>=2023.1.0->datasets>=3.6.0->langtest[transformers]) (1.8.0)\n",
            "Requirement already satisfied: multidict<7.0,>=4.5 in /usr/local/lib/python3.12/dist-packages (from aiohttp!=4.0.0a0,!=4.0.0a1->fsspec[http]<=2025.3.0,>=2023.1.0->datasets>=3.6.0->langtest[transformers]) (6.7.0)\n",
            "Requirement already satisfied: propcache>=0.2.0 in /usr/local/lib/python3.12/dist-packages (from aiohttp!=4.0.0a0,!=4.0.0a1->fsspec[http]<=2025.3.0,>=2023.1.0->datasets>=3.6.0->langtest[transformers]) (0.4.1)\n",
            "Requirement already satisfied: yarl<2.0,>=1.17.0 in /usr/local/lib/python3.12/dist-packages (from aiohttp!=4.0.0a0,!=4.0.0a1->fsspec[http]<=2025.3.0,>=2023.1.0->datasets>=3.6.0->langtest[transformers]) (1.22.0)\n"
          ]
        }
      ],
      "source": [
        "!pip install langtest[transformers]"
      ]
    },
    {
      "cell_type": "markdown",
      "metadata": {
        "id": "yR6kjOaiheKN"
      },
      "source": [
        "## Harness e seus Parâmetros\n",
        "\n",
        "# Item da lista\n",
        "\n",
        "**Item** da lista\n",
        "\n",
        "A classe Harness é uma classe de avaliação de modelos de Processamento de Linguagem Natural (NLP).\n",
        "Ela é responsável por avaliar o desempenho de um modelo NLP em uma determinada tarefa, utilizando dados de teste e gerar um relatório com os resultados obtidos.\n",
        "\n",
        "A classe Harness pode ser importada da biblioteca LangTest da seguinte forma:\n",
        "\n",
        "from langtest import Harness\n"
      ]
    },
    {
      "cell_type": "code",
      "execution_count": 19,
      "metadata": {
        "execution": {
          "iopub.execute_input": "2023-08-18T08:51:11.291083Z",
          "iopub.status.busy": "2023-08-18T08:51:11.290902Z",
          "iopub.status.idle": "2023-08-18T08:51:13.112244Z",
          "shell.execute_reply": "2023-08-18T08:51:13.111632Z",
          "shell.execute_reply.started": "2023-08-18T08:51:11.291065Z"
        },
        "id": "lTzSJpMlhgq5",
        "tags": []
      },
      "outputs": [],
      "source": [
        "#Import Harness from the LangTest library\n",
        "from langtest import Harness\n",
        "from openai import OpenAI"
      ]
    },
    {
      "cell_type": "markdown",
      "metadata": {
        "id": "JFhJ9CcbsKqN"
      },
      "source": [
        "Testando Datasets do Hugging Face para text-classification\n",
        "\n",
        "Nesta seção, exploramos como realizar testes em modelos do Hugging Face utilizando diferentes conjuntos de dados (Datasets) também disponíveis na plataforma Hugging Face.\n",
        "\n",
        "O objetivo é avaliar o desempenho de modelos de classificação de texto (text-classification) aplicando testes automáticos fornecidos pela biblioteca LangTest."
      ]
    },
    {
      "cell_type": "markdown",
      "metadata": {
        "id": "iO7jyI9F8DQ8"
      },
      "source": [
        "## Glue - `sst2` Dataset Teste\n",
        "-------------------"
      ]
    },
    {
      "cell_type": "markdown",
      "metadata": {
        "id": "ZtqqWrqO8DQ8"
      },
      "source": [
        "nicializando o Harness para Tarefas de Classificação de Texto (text-classification)\n",
        "\n",
        "O código abaixo cria uma instância da classe Harness, que é projetada para lidar com tarefas de classificação de texto utilizando modelos do Hugging Face.\n",
        "\n",
        "A classe Harness aceita um parâmetro chamado data, que deve ser passado como um dicionário contendo diversos atributos que definem o conjunto de dados a ser utilizado.\n",
        "\n",
        "📋 Estrutura do parâmetro data\n",
        "{\n",
        "   \"data_source\": \"\",\n",
        "   \"subset\": \"\",\n",
        "   \"feature_column\": \"\",\n",
        "   \"target_column\": \"\",\n",
        "   \"split\": \"\",\n",
        "   \"source\": \"huggingface\"\n",
        "}\n",
        "\n",
        "Chave\tDescrição\n",
        "data_source\tRepresenta o nome do dataset a ser utilizado.\n",
        "subset\tIndica o subconjunto do dataset que será considerado.\n",
        "feature_column\tEspecifica a coluna que contém as features de entrada (texto).\n",
        "target_column\tDefine a coluna que contém os rótulos ou categorias alvo.\n",
        "split\tIndica qual divisão do conjunto de dados deve ser usada (por exemplo: train, test ou validation).\n",
        "source\tEspecifica a origem do dataset (neste caso, \"huggingface\").\n",
        "\n",
        "💡 Observação importante:\n",
        "Para tarefas de classificação de texto (text-classification), os valores padrão são:\n",
        "\n",
        "split: \"test\"\n",
        "\n",
        "feature_column: \"text\"\n",
        "\n",
        "target_column: \"label\"\n",
        "\n",
        "Ou seja, se o seu dataset seguir esses nomes, não é necessário especificá-los manualmente."
      ]
    },
    {
      "cell_type": "markdown",
      "metadata": {
        "id": "swaYPW-wPlku"
      },
      "source": [
        "### Setup and Configure Harness"
      ]
    },
    {
      "cell_type": "code",
      "execution_count": 20,
      "metadata": {
        "colab": {
          "base_uri": "https://localhost:8080/"
        },
        "id": "JaarBdfe8DQ8",
        "outputId": "3deae4fb-ad58-4deb-88ef-b816afe94a89"
      },
      "outputs": [
        {
          "output_type": "stream",
          "name": "stderr",
          "text": [
            "WARNING:langtest:[W001] No configuration file was provided, loading default config.\n"
          ]
        },
        {
          "output_type": "stream",
          "name": "stdout",
          "text": [
            "Test Configuration : \n",
            " {\n",
            " \"tests\": {\n",
            "  \"defaults\": {\n",
            "   \"min_pass_rate\": 1.0\n",
            "  },\n",
            "  \"robustness\": {\n",
            "   \"add_typo\": {\n",
            "    \"min_pass_rate\": 0.7\n",
            "   },\n",
            "   \"american_to_british\": {\n",
            "    \"min_pass_rate\": 0.7\n",
            "   }\n",
            "  },\n",
            "  \"accuracy\": {\n",
            "   \"min_micro_f1_score\": {\n",
            "    \"min_score\": 0.7\n",
            "   }\n",
            "  },\n",
            "  \"bias\": {\n",
            "   \"replace_to_female_pronouns\": {\n",
            "    \"min_pass_rate\": 0.7\n",
            "   },\n",
            "   \"replace_to_low_income_country\": {\n",
            "    \"min_pass_rate\": 0.7\n",
            "   }\n",
            "  },\n",
            "  \"fairness\": {\n",
            "   \"min_gender_f1_score\": {\n",
            "    \"min_score\": 0.6\n",
            "   }\n",
            "  },\n",
            "  \"representation\": {\n",
            "   \"min_label_representation_count\": {\n",
            "    \"min_count\": 50\n",
            "   }\n",
            "  }\n",
            " }\n",
            "}\n"
          ]
        }
      ],
      "source": [
        "harness = Harness(task=\"text-classification\",\n",
        "                  model={\"model\":\"distilbert-base-uncased-finetuned-sst-2-english\",\"hub\":\"huggingface\"},\n",
        "                  data={\"data_source\":'glue',\n",
        "                  \"subset\":\"sst2\",\n",
        "                  \"feature_column\":\"sentence\",\n",
        "                  \"target_column\":'label',\n",
        "                  \"split\":\"train\",\n",
        "                  \"source\": \"huggingface\"\n",
        "                  })"
      ]
    },
    {
      "cell_type": "markdown",
      "metadata": {
        "id": "jWPAw9q0PwD1"
      },
      "source": [
        "Configurando o Modelo e o Dataset\n",
        "\n",
        "Nesta configuração, especificamos os seguintes parâmetros:\n",
        "\n",
        "task: \"text-classification\" → Define que estamos realizando uma tarefa de classificação de texto.\n",
        "\n",
        "hub: \"huggingface\" → Indica que o modelo será carregado a partir do repositório Hugging Face.\n",
        "\n",
        "model: \"distilbert-base-uncased-finetuned-sst-2-english\" → Este é um modelo pré-treinado e ajustado para análise de sentimentos (sentiment analysis), baseado no DistilBERT.\n",
        "\n",
        "Para o conjunto de dados, utilizamos:\n",
        "\n",
        "sst2, que é um subconjunto do dataset GLUE, amplamente usado para tarefas de análise de sentimentos.\n",
        "\n",
        "🔗 Você pode encontrar outros datasets de benchmark do Hugging Face para classificação de texto no link abaixo: (https://huggingface.co/datasets?task_categories=task_categories:text-classification&sort=downloads)\n"
      ]
    },
    {
      "cell_type": "markdown",
      "metadata": {
        "id": "MSktjylZ8DQ9"
      },
      "source": [
        "Testes de Robustez Utilizados\n",
        "\n",
        "Nos experimentos realizados, utilizamos os testes de lowercase e uppercase, que verificam como o modelo reage a mudanças no uso de letras minúsculas e maiúsculas.\n",
        "\n",
        "Além desses, o LangTest oferece uma ampla variedade de testes de robustez prontos para uso, que permitem avaliar o comportamento do modelo diante de diferentes tipos de perturbações no texto.\n",
        "\n",
        "📋 Outros testes de robustez disponíveis:\n",
        "\n",
        "add_context — adiciona contexto extra ao texto.\n",
        "\n",
        "add_contraction — substitui expressões por contrações (ex: do not → don’t).\n",
        "\n",
        "add_punctuation — insere pontuação adicional.\n",
        "\n",
        "add_typo — introduz erros de digitação.\n",
        "\n",
        "add_ocr_typo — simula erros comuns de OCR (reconhecimento de caracteres).\n",
        "\n",
        "american_to_british — converte palavras do inglês americano para o britânico.\n",
        "\n",
        "british_to_american — converte do inglês britânico para o americano.\n",
        "\n",
        "lowercase — transforma todo o texto em letras minúsculas.\n",
        "\n",
        "strip_punctuation — remove sinais de pontuação.\n",
        "\n",
        "titlecase — converte o texto para formato de título (primeira letra maiúscula em cada palavra).\n",
        "\n",
        "uppercase — transforma todo o texto em letras maiúsculas.\n",
        "\n",
        "number_to_word — converte números em palavras.\n",
        "\n",
        "add_abbreviation — adiciona abreviações comuns.\n",
        "\n",
        "add_speech_to_text_typo — simula erros de transcrição de fala para texto.\n",
        "\n",
        "add_slangs — insere gírias ou linguagem informal.\n",
        "\n",
        "dyslexia_word_swap — simula trocas de letras comuns em pessoas com dislexia.\n",
        "\n",
        "multiple_perturbations — aplica múltiplas alterações combinadas.\n",
        "\n",
        "adjective_synonym_swap — substitui adjetivos por sinônimos.\n",
        "\n",
        "adjective_antonym_swap — substitui adjetivos por antônimos."
      ]
    },
    {
      "cell_type": "markdown",
      "metadata": {
        "id": "zCP1nGeZ8DQ9"
      },
      "source": [
        "## Bias tests:\n",
        "\n",
        "* `replace_to_male_pronouns`\n",
        "* `replace_to_female_pronouns`\n",
        "* `replace_to_neutral_pronouns`\n",
        "* `replace_to_high_income_country`\n",
        "* `replace_to_low_income_country`\n",
        "* `replace_to_upper_middle_income_country`\n",
        "* `replace_to_lower_middle_income_country`\n",
        "* `replace_to_white_firstnames`\n",
        "* `replace_to_black_firstnames`\n",
        "* `replace_to_hispanic_firstnames`\n",
        "* `replace_to_asian_firstnames`\n",
        "* `replace_to_white_lastnames`\n",
        "* `replace_to_sikh_names`\n",
        "* `replace_to_christian_names`\n",
        "* `replace_to_hindu_names`\n",
        "* `replace_to_muslim_names`\n",
        "* `replace_to_inter_racial_lastnames`\n",
        "* `replace_to_native_american_lastnames`\n",
        "* `replace_to_asian_lastnames`\n",
        "* `replace_to_hispanic_lastnames`\n",
        "* `replace_to_black_lastnames`\n",
        "* `replace_to_parsi_names`\n",
        "* `replace_to_jain_names`\n",
        "* `replace_to_buddhist_names`\n",
        "\n",
        "## Representation tests:\n",
        "\n",
        "* `min_gender_representation_count`\n",
        "* `min_ethnicity_name_representation_count`\n",
        "* `min_religion_name_representation_count`\n",
        "* `min_country_economic_representation_count`\n",
        "* `min_gender_representation_proportion`\n",
        "* `min_ethnicity_name_representation_proportion`\n",
        "* `min_religion_name_representation_proportion`\n",
        "* `min_country_economic_representation_proportion`\n",
        "\n",
        "\n",
        "## Accuracy tests:\n",
        "\n",
        "* `min_exact_match_score`\n",
        "* `min_bleu_score`\n",
        "* `min_rouge1_score`\n",
        "* `min_rouge2_score`\n",
        "* `min_rougeL_score`\n",
        "* `min_rougeLsum_score`\n",
        "\n",
        "\n",
        "##Fairness tests:\n",
        "\n",
        "* `max_gender_rouge1_score`\n",
        "* `max_gender_rouge2_score`\n",
        "* `max_gender_rougeL_score`\n",
        "* `max_gender_rougeLsum_score`\n",
        "* `min_gender_rouge1_score`\n",
        "* `min_gender_rouge2_score`\n",
        "* `min_gender_rougeL_score`\n",
        "* `min_gender_rougeLsum_score`"
      ]
    },
    {
      "cell_type": "code",
      "execution_count": 21,
      "metadata": {
        "id": "5DNBjDLp8DQ9",
        "colab": {
          "base_uri": "https://localhost:8080/"
        },
        "outputId": "e66e26a4-9b8d-4dc1-a8ae-3f9fcb4cce98"
      },
      "outputs": [
        {
          "output_type": "execute_result",
          "data": {
            "text/plain": [
              "{'tests': {'defaults': {'min_pass_rate': 0.65},\n",
              "  'robustness': {'lowercase': {'min_pass_rate': 0.66},\n",
              "   'uppercase': {'min_pass_rate': 0.66}}}}"
            ]
          },
          "metadata": {},
          "execution_count": 21
        }
      ],
      "source": [
        "harness.configure(\n",
        "{\n",
        " 'tests': {'defaults': {'min_pass_rate': 0.65},\n",
        "           'robustness': {'lowercase': {'min_pass_rate': 0.66},\n",
        "                          'uppercase': {'min_pass_rate': 0.66},\n",
        "                        }\n",
        "          }\n",
        " }\n",
        " )"
      ]
    },
    {
      "cell_type": "markdown",
      "metadata": {
        "id": "ZPU46A7WigFr"
      },
      "source": [
        "Configuração do Harness para Testes de Robustez\n",
        "\n",
        "Aqui, configuramos o Harness para realizar dois testes de robustez:\n",
        "\n",
        "uppercase → converte o texto para letras maiúsculas.\n",
        "\n",
        "lowercase → converte o texto para letras minúsculas.\n",
        "\n",
        "Além disso, definimos a taxa mínima de aprovação (minimum pass rate) para cada teste.\n",
        "Essa taxa representa o percentual mínimo de casos em que o modelo deve manter o mesmo comportamento ou resultado após a aplicação das perturbações.\n",
        "\n",
        "Em outras palavras, ela mede o nível de consistência que o modelo precisa alcançar para ser considerado robusto frente a essas variações no texto."
      ]
    },
    {
      "cell_type": "markdown",
      "metadata": {
        "id": "KVolf25u_OFV"
      },
      "source": [
        "Ajustando o Nível de Transformação nas Frases\n",
        "\n",
        "É possível controlar o grau de transformação aplicado nas frases durante os testes de robustez utilizando o parâmetro prob.\n",
        "\n",
        "Esse parâmetro define a proporção de palavras que serão modificadas em cada sentença durante os testes.\n",
        "\n",
        "Por exemplo:\n",
        "\n",
        "prob = 0.5 → apenas 50% das palavras serão alteradas.\n",
        "\n",
        "prob = 1.0 → todas as palavras serão transformadas.\n",
        "\n",
        "⚠️ Observação:\n",
        "O valor padrão de prob é 1.0, o que significa que todas as palavras da frase serão transformadas por padrão."
      ]
    },
    {
      "cell_type": "code",
      "execution_count": 22,
      "metadata": {
        "id": "kvHcQi3M8DQ-"
      },
      "outputs": [],
      "source": [
        "# Limit the data to the first 2000 samples\n",
        "harness.data = harness.data[:2000]"
      ]
    },
    {
      "cell_type": "markdown",
      "metadata": {
        "id": "i6kPvA13F7cr"
      },
      "source": [
        "### Gerando Casos de Teste\n",
        "\n",
        "\n"
      ]
    },
    {
      "cell_type": "code",
      "execution_count": 23,
      "metadata": {
        "id": "mdNH3wCKF9fn",
        "colab": {
          "base_uri": "https://localhost:8080/",
          "height": 101,
          "referenced_widgets": [
            "e96fccc31e8d4a4382d5986ba8c13a21",
            "dc0162870f01447da62f63d28a24d601",
            "ca406b6be01847059c079d8d2d2959f2",
            "e165ac0c8d6e4a59a5712a1dc60e9997",
            "56588b585425412890b450b4ef3c5e75",
            "eb4a04113b9441c99d2a24c8ae8c7983",
            "607565d3308a435aa2353b2ea70a5108",
            "9a05233a52914e9d9b133beaa8273e2e",
            "5e6af793f4df41358abd1629cebf1748",
            "0714a6719e5b4d078187ec70faf72981",
            "e85b4b15aceb450a932445663dd34737"
          ]
        },
        "outputId": "64ab2d18-98bc-4b7e-d22f-ee45740edc0a"
      },
      "outputs": [
        {
          "output_type": "display_data",
          "data": {
            "text/plain": [
              "Generating testcases...:   0%|          | 0/1 [00:00<?, ?it/s]"
            ],
            "application/vnd.jupyter.widget-view+json": {
              "version_major": 2,
              "version_minor": 0,
              "model_id": "e96fccc31e8d4a4382d5986ba8c13a21"
            }
          },
          "metadata": {}
        },
        {
          "output_type": "stream",
          "name": "stderr",
          "text": [
            "WARNING:langtest:Removing samples where no transformation has been applied:\n",
            "- Test 'lowercase': 2000 samples removed out of 2000\n",
            "\n"
          ]
        },
        {
          "output_type": "execute_result",
          "data": {
            "text/plain": []
          },
          "metadata": {},
          "execution_count": 23
        }
      ],
      "source": [
        "harness.generate()"
      ]
    },
    {
      "cell_type": "markdown",
      "metadata": {
        "id": "nyjDdYLeGCmM"
      },
      "source": [
        "harness.generate() - o método gera automaticamente casos de teste baseado em sua configuração"
      ]
    },
    {
      "cell_type": "code",
      "execution_count": 24,
      "metadata": {
        "id": "c0jL1_G7F_p6",
        "colab": {
          "base_uri": "https://localhost:8080/",
          "height": 493
        },
        "outputId": "a6cd8c3f-dd65-4dd3-b57a-6b4b3bbe2797"
      },
      "outputs": [
        {
          "output_type": "execute_result",
          "data": {
            "text/plain": [
              "        category  test_type  \\\n",
              "0     robustness  uppercase   \n",
              "1     robustness  uppercase   \n",
              "2     robustness  uppercase   \n",
              "3     robustness  uppercase   \n",
              "4     robustness  uppercase   \n",
              "...          ...        ...   \n",
              "1995  robustness  uppercase   \n",
              "1996  robustness  uppercase   \n",
              "1997  robustness  uppercase   \n",
              "1998  robustness  uppercase   \n",
              "1999  robustness  uppercase   \n",
              "\n",
              "                                               original  \\\n",
              "0          hide new secretions from the parental units    \n",
              "1                  contains no wit , only labored gags    \n",
              "2     that loves its characters and communicates som...   \n",
              "3     remains utterly satisfied to remain the same t...   \n",
              "4     on the worst revenge-of-the-nerds clichés the ...   \n",
              "...                                                 ...   \n",
              "1995              when there 's nothing else happening    \n",
              "1996                                          on cable    \n",
              "1997                                    it with ring ,    \n",
              "1998                far from a groundbreaking endeavor    \n",
              "1999                  that these women are spectacular    \n",
              "\n",
              "                                              test_case  \n",
              "0          HIDE NEW SECRETIONS FROM THE PARENTAL UNITS   \n",
              "1                  CONTAINS NO WIT , ONLY LABORED GAGS   \n",
              "2     THAT LOVES ITS CHARACTERS AND COMMUNICATES SOM...  \n",
              "3     REMAINS UTTERLY SATISFIED TO REMAIN THE SAME T...  \n",
              "4     ON THE WORST REVENGE-OF-THE-NERDS CLICHÉS THE ...  \n",
              "...                                                 ...  \n",
              "1995              WHEN THERE 'S NOTHING ELSE HAPPENING   \n",
              "1996                                          ON CABLE   \n",
              "1997                                    IT WITH RING ,   \n",
              "1998                FAR FROM A GROUNDBREAKING ENDEAVOR   \n",
              "1999                  THAT THESE WOMEN ARE SPECTACULAR   \n",
              "\n",
              "[2000 rows x 4 columns]"
            ],
            "text/html": [
              "\n",
              "  <div id=\"df-d8045007-fad9-49a3-a1fc-1449c7f8c94f\" class=\"colab-df-container\">\n",
              "    <div>\n",
              "<style scoped>\n",
              "    .dataframe tbody tr th:only-of-type {\n",
              "        vertical-align: middle;\n",
              "    }\n",
              "\n",
              "    .dataframe tbody tr th {\n",
              "        vertical-align: top;\n",
              "    }\n",
              "\n",
              "    .dataframe thead th {\n",
              "        text-align: right;\n",
              "    }\n",
              "</style>\n",
              "<table border=\"1\" class=\"dataframe\">\n",
              "  <thead>\n",
              "    <tr style=\"text-align: right;\">\n",
              "      <th></th>\n",
              "      <th>category</th>\n",
              "      <th>test_type</th>\n",
              "      <th>original</th>\n",
              "      <th>test_case</th>\n",
              "    </tr>\n",
              "  </thead>\n",
              "  <tbody>\n",
              "    <tr>\n",
              "      <th>0</th>\n",
              "      <td>robustness</td>\n",
              "      <td>uppercase</td>\n",
              "      <td>hide new secretions from the parental units</td>\n",
              "      <td>HIDE NEW SECRETIONS FROM THE PARENTAL UNITS</td>\n",
              "    </tr>\n",
              "    <tr>\n",
              "      <th>1</th>\n",
              "      <td>robustness</td>\n",
              "      <td>uppercase</td>\n",
              "      <td>contains no wit , only labored gags</td>\n",
              "      <td>CONTAINS NO WIT , ONLY LABORED GAGS</td>\n",
              "    </tr>\n",
              "    <tr>\n",
              "      <th>2</th>\n",
              "      <td>robustness</td>\n",
              "      <td>uppercase</td>\n",
              "      <td>that loves its characters and communicates som...</td>\n",
              "      <td>THAT LOVES ITS CHARACTERS AND COMMUNICATES SOM...</td>\n",
              "    </tr>\n",
              "    <tr>\n",
              "      <th>3</th>\n",
              "      <td>robustness</td>\n",
              "      <td>uppercase</td>\n",
              "      <td>remains utterly satisfied to remain the same t...</td>\n",
              "      <td>REMAINS UTTERLY SATISFIED TO REMAIN THE SAME T...</td>\n",
              "    </tr>\n",
              "    <tr>\n",
              "      <th>4</th>\n",
              "      <td>robustness</td>\n",
              "      <td>uppercase</td>\n",
              "      <td>on the worst revenge-of-the-nerds clichés the ...</td>\n",
              "      <td>ON THE WORST REVENGE-OF-THE-NERDS CLICHÉS THE ...</td>\n",
              "    </tr>\n",
              "    <tr>\n",
              "      <th>...</th>\n",
              "      <td>...</td>\n",
              "      <td>...</td>\n",
              "      <td>...</td>\n",
              "      <td>...</td>\n",
              "    </tr>\n",
              "    <tr>\n",
              "      <th>1995</th>\n",
              "      <td>robustness</td>\n",
              "      <td>uppercase</td>\n",
              "      <td>when there 's nothing else happening</td>\n",
              "      <td>WHEN THERE 'S NOTHING ELSE HAPPENING</td>\n",
              "    </tr>\n",
              "    <tr>\n",
              "      <th>1996</th>\n",
              "      <td>robustness</td>\n",
              "      <td>uppercase</td>\n",
              "      <td>on cable</td>\n",
              "      <td>ON CABLE</td>\n",
              "    </tr>\n",
              "    <tr>\n",
              "      <th>1997</th>\n",
              "      <td>robustness</td>\n",
              "      <td>uppercase</td>\n",
              "      <td>it with ring ,</td>\n",
              "      <td>IT WITH RING ,</td>\n",
              "    </tr>\n",
              "    <tr>\n",
              "      <th>1998</th>\n",
              "      <td>robustness</td>\n",
              "      <td>uppercase</td>\n",
              "      <td>far from a groundbreaking endeavor</td>\n",
              "      <td>FAR FROM A GROUNDBREAKING ENDEAVOR</td>\n",
              "    </tr>\n",
              "    <tr>\n",
              "      <th>1999</th>\n",
              "      <td>robustness</td>\n",
              "      <td>uppercase</td>\n",
              "      <td>that these women are spectacular</td>\n",
              "      <td>THAT THESE WOMEN ARE SPECTACULAR</td>\n",
              "    </tr>\n",
              "  </tbody>\n",
              "</table>\n",
              "<p>2000 rows × 4 columns</p>\n",
              "</div>\n",
              "    <div class=\"colab-df-buttons\">\n",
              "\n",
              "  <div class=\"colab-df-container\">\n",
              "    <button class=\"colab-df-convert\" onclick=\"convertToInteractive('df-d8045007-fad9-49a3-a1fc-1449c7f8c94f')\"\n",
              "            title=\"Convert this dataframe to an interactive table.\"\n",
              "            style=\"display:none;\">\n",
              "\n",
              "  <svg xmlns=\"http://www.w3.org/2000/svg\" height=\"24px\" viewBox=\"0 -960 960 960\">\n",
              "    <path d=\"M120-120v-720h720v720H120Zm60-500h600v-160H180v160Zm220 220h160v-160H400v160Zm0 220h160v-160H400v160ZM180-400h160v-160H180v160Zm440 0h160v-160H620v160ZM180-180h160v-160H180v160Zm440 0h160v-160H620v160Z\"/>\n",
              "  </svg>\n",
              "    </button>\n",
              "\n",
              "  <style>\n",
              "    .colab-df-container {\n",
              "      display:flex;\n",
              "      gap: 12px;\n",
              "    }\n",
              "\n",
              "    .colab-df-convert {\n",
              "      background-color: #E8F0FE;\n",
              "      border: none;\n",
              "      border-radius: 50%;\n",
              "      cursor: pointer;\n",
              "      display: none;\n",
              "      fill: #1967D2;\n",
              "      height: 32px;\n",
              "      padding: 0 0 0 0;\n",
              "      width: 32px;\n",
              "    }\n",
              "\n",
              "    .colab-df-convert:hover {\n",
              "      background-color: #E2EBFA;\n",
              "      box-shadow: 0px 1px 2px rgba(60, 64, 67, 0.3), 0px 1px 3px 1px rgba(60, 64, 67, 0.15);\n",
              "      fill: #174EA6;\n",
              "    }\n",
              "\n",
              "    .colab-df-buttons div {\n",
              "      margin-bottom: 4px;\n",
              "    }\n",
              "\n",
              "    [theme=dark] .colab-df-convert {\n",
              "      background-color: #3B4455;\n",
              "      fill: #D2E3FC;\n",
              "    }\n",
              "\n",
              "    [theme=dark] .colab-df-convert:hover {\n",
              "      background-color: #434B5C;\n",
              "      box-shadow: 0px 1px 3px 1px rgba(0, 0, 0, 0.15);\n",
              "      filter: drop-shadow(0px 1px 2px rgba(0, 0, 0, 0.3));\n",
              "      fill: #FFFFFF;\n",
              "    }\n",
              "  </style>\n",
              "\n",
              "    <script>\n",
              "      const buttonEl =\n",
              "        document.querySelector('#df-d8045007-fad9-49a3-a1fc-1449c7f8c94f button.colab-df-convert');\n",
              "      buttonEl.style.display =\n",
              "        google.colab.kernel.accessAllowed ? 'block' : 'none';\n",
              "\n",
              "      async function convertToInteractive(key) {\n",
              "        const element = document.querySelector('#df-d8045007-fad9-49a3-a1fc-1449c7f8c94f');\n",
              "        const dataTable =\n",
              "          await google.colab.kernel.invokeFunction('convertToInteractive',\n",
              "                                                    [key], {});\n",
              "        if (!dataTable) return;\n",
              "\n",
              "        const docLinkHtml = 'Like what you see? Visit the ' +\n",
              "          '<a target=\"_blank\" href=https://colab.research.google.com/notebooks/data_table.ipynb>data table notebook</a>'\n",
              "          + ' to learn more about interactive tables.';\n",
              "        element.innerHTML = '';\n",
              "        dataTable['output_type'] = 'display_data';\n",
              "        await google.colab.output.renderOutput(dataTable, element);\n",
              "        const docLink = document.createElement('div');\n",
              "        docLink.innerHTML = docLinkHtml;\n",
              "        element.appendChild(docLink);\n",
              "      }\n",
              "    </script>\n",
              "  </div>\n",
              "\n",
              "\n",
              "    <div id=\"df-56116196-74a7-4510-a6da-da5dda9a8f49\">\n",
              "      <button class=\"colab-df-quickchart\" onclick=\"quickchart('df-56116196-74a7-4510-a6da-da5dda9a8f49')\"\n",
              "                title=\"Suggest charts\"\n",
              "                style=\"display:none;\">\n",
              "\n",
              "<svg xmlns=\"http://www.w3.org/2000/svg\" height=\"24px\"viewBox=\"0 0 24 24\"\n",
              "     width=\"24px\">\n",
              "    <g>\n",
              "        <path d=\"M19 3H5c-1.1 0-2 .9-2 2v14c0 1.1.9 2 2 2h14c1.1 0 2-.9 2-2V5c0-1.1-.9-2-2-2zM9 17H7v-7h2v7zm4 0h-2V7h2v10zm4 0h-2v-4h2v4z\"/>\n",
              "    </g>\n",
              "</svg>\n",
              "      </button>\n",
              "\n",
              "<style>\n",
              "  .colab-df-quickchart {\n",
              "      --bg-color: #E8F0FE;\n",
              "      --fill-color: #1967D2;\n",
              "      --hover-bg-color: #E2EBFA;\n",
              "      --hover-fill-color: #174EA6;\n",
              "      --disabled-fill-color: #AAA;\n",
              "      --disabled-bg-color: #DDD;\n",
              "  }\n",
              "\n",
              "  [theme=dark] .colab-df-quickchart {\n",
              "      --bg-color: #3B4455;\n",
              "      --fill-color: #D2E3FC;\n",
              "      --hover-bg-color: #434B5C;\n",
              "      --hover-fill-color: #FFFFFF;\n",
              "      --disabled-bg-color: #3B4455;\n",
              "      --disabled-fill-color: #666;\n",
              "  }\n",
              "\n",
              "  .colab-df-quickchart {\n",
              "    background-color: var(--bg-color);\n",
              "    border: none;\n",
              "    border-radius: 50%;\n",
              "    cursor: pointer;\n",
              "    display: none;\n",
              "    fill: var(--fill-color);\n",
              "    height: 32px;\n",
              "    padding: 0;\n",
              "    width: 32px;\n",
              "  }\n",
              "\n",
              "  .colab-df-quickchart:hover {\n",
              "    background-color: var(--hover-bg-color);\n",
              "    box-shadow: 0 1px 2px rgba(60, 64, 67, 0.3), 0 1px 3px 1px rgba(60, 64, 67, 0.15);\n",
              "    fill: var(--button-hover-fill-color);\n",
              "  }\n",
              "\n",
              "  .colab-df-quickchart-complete:disabled,\n",
              "  .colab-df-quickchart-complete:disabled:hover {\n",
              "    background-color: var(--disabled-bg-color);\n",
              "    fill: var(--disabled-fill-color);\n",
              "    box-shadow: none;\n",
              "  }\n",
              "\n",
              "  .colab-df-spinner {\n",
              "    border: 2px solid var(--fill-color);\n",
              "    border-color: transparent;\n",
              "    border-bottom-color: var(--fill-color);\n",
              "    animation:\n",
              "      spin 1s steps(1) infinite;\n",
              "  }\n",
              "\n",
              "  @keyframes spin {\n",
              "    0% {\n",
              "      border-color: transparent;\n",
              "      border-bottom-color: var(--fill-color);\n",
              "      border-left-color: var(--fill-color);\n",
              "    }\n",
              "    20% {\n",
              "      border-color: transparent;\n",
              "      border-left-color: var(--fill-color);\n",
              "      border-top-color: var(--fill-color);\n",
              "    }\n",
              "    30% {\n",
              "      border-color: transparent;\n",
              "      border-left-color: var(--fill-color);\n",
              "      border-top-color: var(--fill-color);\n",
              "      border-right-color: var(--fill-color);\n",
              "    }\n",
              "    40% {\n",
              "      border-color: transparent;\n",
              "      border-right-color: var(--fill-color);\n",
              "      border-top-color: var(--fill-color);\n",
              "    }\n",
              "    60% {\n",
              "      border-color: transparent;\n",
              "      border-right-color: var(--fill-color);\n",
              "    }\n",
              "    80% {\n",
              "      border-color: transparent;\n",
              "      border-right-color: var(--fill-color);\n",
              "      border-bottom-color: var(--fill-color);\n",
              "    }\n",
              "    90% {\n",
              "      border-color: transparent;\n",
              "      border-bottom-color: var(--fill-color);\n",
              "    }\n",
              "  }\n",
              "</style>\n",
              "\n",
              "      <script>\n",
              "        async function quickchart(key) {\n",
              "          const quickchartButtonEl =\n",
              "            document.querySelector('#' + key + ' button');\n",
              "          quickchartButtonEl.disabled = true;  // To prevent multiple clicks.\n",
              "          quickchartButtonEl.classList.add('colab-df-spinner');\n",
              "          try {\n",
              "            const charts = await google.colab.kernel.invokeFunction(\n",
              "                'suggestCharts', [key], {});\n",
              "          } catch (error) {\n",
              "            console.error('Error during call to suggestCharts:', error);\n",
              "          }\n",
              "          quickchartButtonEl.classList.remove('colab-df-spinner');\n",
              "          quickchartButtonEl.classList.add('colab-df-quickchart-complete');\n",
              "        }\n",
              "        (() => {\n",
              "          let quickchartButtonEl =\n",
              "            document.querySelector('#df-56116196-74a7-4510-a6da-da5dda9a8f49 button');\n",
              "          quickchartButtonEl.style.display =\n",
              "            google.colab.kernel.accessAllowed ? 'block' : 'none';\n",
              "        })();\n",
              "      </script>\n",
              "    </div>\n",
              "\n",
              "    </div>\n",
              "  </div>\n"
            ],
            "application/vnd.google.colaboratory.intrinsic+json": {
              "type": "dataframe",
              "summary": "{\n  \"name\": \"harness\",\n  \"rows\": 2000,\n  \"fields\": [\n    {\n      \"column\": \"category\",\n      \"properties\": {\n        \"dtype\": \"category\",\n        \"num_unique_values\": 1,\n        \"samples\": [\n          \"robustness\"\n        ],\n        \"semantic_type\": \"\",\n        \"description\": \"\"\n      }\n    },\n    {\n      \"column\": \"test_type\",\n      \"properties\": {\n        \"dtype\": \"category\",\n        \"num_unique_values\": 1,\n        \"samples\": [\n          \"uppercase\"\n        ],\n        \"semantic_type\": \"\",\n        \"description\": \"\"\n      }\n    },\n    {\n      \"column\": \"original\",\n      \"properties\": {\n        \"dtype\": \"string\",\n        \"num_unique_values\": 2000,\n        \"samples\": [\n          \"painful and \"\n        ],\n        \"semantic_type\": \"\",\n        \"description\": \"\"\n      }\n    },\n    {\n      \"column\": \"test_case\",\n      \"properties\": {\n        \"dtype\": \"string\",\n        \"num_unique_values\": 2000,\n        \"samples\": [\n          \"PAINFUL AND \"\n        ],\n        \"semantic_type\": \"\",\n        \"description\": \"\"\n      }\n    }\n  ]\n}"
            }
          },
          "metadata": {},
          "execution_count": 24
        }
      ],
      "source": [
        "harness.testcases()"
      ]
    },
    {
      "cell_type": "markdown",
      "metadata": {
        "id": "NOJ8BAU2GGzd"
      },
      "source": [
        "\n",
        "\n",
        "\n",
        "\n",
        "harness.testcases() O método exibe os casos de teste produzidos na forma de um DataFrame do pandas."
      ]
    },
    {
      "cell_type": "markdown",
      "metadata": {
        "id": "3CwhQw6hGR9S"
      },
      "source": [
        "### Rodando os Testes"
      ]
    },
    {
      "cell_type": "code",
      "execution_count": 25,
      "metadata": {
        "id": "aguX6-aFGOnP",
        "colab": {
          "base_uri": "https://localhost:8080/",
          "height": 49,
          "referenced_widgets": [
            "0dfbdd75c5884bab8a438e61e5d4736d",
            "cb28275848ae4fad96115c5d72eba536",
            "daf0af9d4833407e8709fd16f08f230a",
            "ca3b9c6081b64e58a098418c56acf585",
            "0ef93a3988554cc7b7cb492bdc48f5fe",
            "1a0b23832a314c74a90466284ad0337f",
            "df0ddf5cce9d40f3b8f97dfab797b7d8",
            "15d9cca4675b446b9be8a7531031aa59",
            "9278f9a7abe146d9a79468f7dfe566f0",
            "f62f82bc23314be3966f60ba8f5698b8",
            "dc09a2f8861e489dab357fc4577bd667"
          ]
        },
        "outputId": "d7612d44-7304-4b47-a59e-04199120bfee"
      },
      "outputs": [
        {
          "output_type": "display_data",
          "data": {
            "text/plain": [
              "Running testcases... :   0%|          | 0/2000 [00:00<?, ?it/s]"
            ],
            "application/vnd.jupyter.widget-view+json": {
              "version_major": 2,
              "version_minor": 0,
              "model_id": "0dfbdd75c5884bab8a438e61e5d4736d"
            }
          },
          "metadata": {}
        },
        {
          "output_type": "execute_result",
          "data": {
            "text/plain": []
          },
          "metadata": {},
          "execution_count": 25
        }
      ],
      "source": [
        "harness.run()"
      ]
    },
    {
      "cell_type": "markdown",
      "metadata": {
        "id": "191O2oaUGWrH"
      },
      "source": [
        "Este método deve ser chamado após a execução de harness.generate(), e é utilizado para rodar todos os testes configurados."
      ]
    },
    {
      "cell_type": "code",
      "execution_count": 26,
      "metadata": {
        "id": "XDbd1mpREWR5",
        "colab": {
          "base_uri": "https://localhost:8080/",
          "height": 684
        },
        "outputId": "2ae25471-753f-4bfa-c202-62866a5ddf76"
      },
      "outputs": [
        {
          "output_type": "execute_result",
          "data": {
            "text/plain": [
              "        category  test_type  \\\n",
              "0     robustness  uppercase   \n",
              "1     robustness  uppercase   \n",
              "2     robustness  uppercase   \n",
              "3     robustness  uppercase   \n",
              "4     robustness  uppercase   \n",
              "...          ...        ...   \n",
              "1995  robustness  uppercase   \n",
              "1996  robustness  uppercase   \n",
              "1997  robustness  uppercase   \n",
              "1998  robustness  uppercase   \n",
              "1999  robustness  uppercase   \n",
              "\n",
              "                                               original  \\\n",
              "0          hide new secretions from the parental units    \n",
              "1                  contains no wit , only labored gags    \n",
              "2     that loves its characters and communicates som...   \n",
              "3     remains utterly satisfied to remain the same t...   \n",
              "4     on the worst revenge-of-the-nerds clichés the ...   \n",
              "...                                                 ...   \n",
              "1995              when there 's nothing else happening    \n",
              "1996                                          on cable    \n",
              "1997                                    it with ring ,    \n",
              "1998                far from a groundbreaking endeavor    \n",
              "1999                  that these women are spectacular    \n",
              "\n",
              "                                              test_case expected_result  \\\n",
              "0          HIDE NEW SECRETIONS FROM THE PARENTAL UNITS         NEGATIVE   \n",
              "1                  CONTAINS NO WIT , ONLY LABORED GAGS         NEGATIVE   \n",
              "2     THAT LOVES ITS CHARACTERS AND COMMUNICATES SOM...        POSITIVE   \n",
              "3     REMAINS UTTERLY SATISFIED TO REMAIN THE SAME T...        NEGATIVE   \n",
              "4     ON THE WORST REVENGE-OF-THE-NERDS CLICHÉS THE ...        NEGATIVE   \n",
              "...                                                 ...             ...   \n",
              "1995              WHEN THERE 'S NOTHING ELSE HAPPENING         NEGATIVE   \n",
              "1996                                          ON CABLE         NEGATIVE   \n",
              "1997                                    IT WITH RING ,         POSITIVE   \n",
              "1998                FAR FROM A GROUNDBREAKING ENDEAVOR         NEGATIVE   \n",
              "1999                  THAT THESE WOMEN ARE SPECTACULAR         POSITIVE   \n",
              "\n",
              "     actual_result  pass  \n",
              "0         NEGATIVE  True  \n",
              "1         NEGATIVE  True  \n",
              "2         POSITIVE  True  \n",
              "3         NEGATIVE  True  \n",
              "4         NEGATIVE  True  \n",
              "...            ...   ...  \n",
              "1995      NEGATIVE  True  \n",
              "1996      NEGATIVE  True  \n",
              "1997      POSITIVE  True  \n",
              "1998      NEGATIVE  True  \n",
              "1999      POSITIVE  True  \n",
              "\n",
              "[2000 rows x 7 columns]"
            ],
            "text/html": [
              "\n",
              "  <div id=\"df-2c9be49c-382f-401e-ae90-e53f91fcb3b5\" class=\"colab-df-container\">\n",
              "    <div>\n",
              "<style scoped>\n",
              "    .dataframe tbody tr th:only-of-type {\n",
              "        vertical-align: middle;\n",
              "    }\n",
              "\n",
              "    .dataframe tbody tr th {\n",
              "        vertical-align: top;\n",
              "    }\n",
              "\n",
              "    .dataframe thead th {\n",
              "        text-align: right;\n",
              "    }\n",
              "</style>\n",
              "<table border=\"1\" class=\"dataframe\">\n",
              "  <thead>\n",
              "    <tr style=\"text-align: right;\">\n",
              "      <th></th>\n",
              "      <th>category</th>\n",
              "      <th>test_type</th>\n",
              "      <th>original</th>\n",
              "      <th>test_case</th>\n",
              "      <th>expected_result</th>\n",
              "      <th>actual_result</th>\n",
              "      <th>pass</th>\n",
              "    </tr>\n",
              "  </thead>\n",
              "  <tbody>\n",
              "    <tr>\n",
              "      <th>0</th>\n",
              "      <td>robustness</td>\n",
              "      <td>uppercase</td>\n",
              "      <td>hide new secretions from the parental units</td>\n",
              "      <td>HIDE NEW SECRETIONS FROM THE PARENTAL UNITS</td>\n",
              "      <td>NEGATIVE</td>\n",
              "      <td>NEGATIVE</td>\n",
              "      <td>True</td>\n",
              "    </tr>\n",
              "    <tr>\n",
              "      <th>1</th>\n",
              "      <td>robustness</td>\n",
              "      <td>uppercase</td>\n",
              "      <td>contains no wit , only labored gags</td>\n",
              "      <td>CONTAINS NO WIT , ONLY LABORED GAGS</td>\n",
              "      <td>NEGATIVE</td>\n",
              "      <td>NEGATIVE</td>\n",
              "      <td>True</td>\n",
              "    </tr>\n",
              "    <tr>\n",
              "      <th>2</th>\n",
              "      <td>robustness</td>\n",
              "      <td>uppercase</td>\n",
              "      <td>that loves its characters and communicates som...</td>\n",
              "      <td>THAT LOVES ITS CHARACTERS AND COMMUNICATES SOM...</td>\n",
              "      <td>POSITIVE</td>\n",
              "      <td>POSITIVE</td>\n",
              "      <td>True</td>\n",
              "    </tr>\n",
              "    <tr>\n",
              "      <th>3</th>\n",
              "      <td>robustness</td>\n",
              "      <td>uppercase</td>\n",
              "      <td>remains utterly satisfied to remain the same t...</td>\n",
              "      <td>REMAINS UTTERLY SATISFIED TO REMAIN THE SAME T...</td>\n",
              "      <td>NEGATIVE</td>\n",
              "      <td>NEGATIVE</td>\n",
              "      <td>True</td>\n",
              "    </tr>\n",
              "    <tr>\n",
              "      <th>4</th>\n",
              "      <td>robustness</td>\n",
              "      <td>uppercase</td>\n",
              "      <td>on the worst revenge-of-the-nerds clichés the ...</td>\n",
              "      <td>ON THE WORST REVENGE-OF-THE-NERDS CLICHÉS THE ...</td>\n",
              "      <td>NEGATIVE</td>\n",
              "      <td>NEGATIVE</td>\n",
              "      <td>True</td>\n",
              "    </tr>\n",
              "    <tr>\n",
              "      <th>...</th>\n",
              "      <td>...</td>\n",
              "      <td>...</td>\n",
              "      <td>...</td>\n",
              "      <td>...</td>\n",
              "      <td>...</td>\n",
              "      <td>...</td>\n",
              "      <td>...</td>\n",
              "    </tr>\n",
              "    <tr>\n",
              "      <th>1995</th>\n",
              "      <td>robustness</td>\n",
              "      <td>uppercase</td>\n",
              "      <td>when there 's nothing else happening</td>\n",
              "      <td>WHEN THERE 'S NOTHING ELSE HAPPENING</td>\n",
              "      <td>NEGATIVE</td>\n",
              "      <td>NEGATIVE</td>\n",
              "      <td>True</td>\n",
              "    </tr>\n",
              "    <tr>\n",
              "      <th>1996</th>\n",
              "      <td>robustness</td>\n",
              "      <td>uppercase</td>\n",
              "      <td>on cable</td>\n",
              "      <td>ON CABLE</td>\n",
              "      <td>NEGATIVE</td>\n",
              "      <td>NEGATIVE</td>\n",
              "      <td>True</td>\n",
              "    </tr>\n",
              "    <tr>\n",
              "      <th>1997</th>\n",
              "      <td>robustness</td>\n",
              "      <td>uppercase</td>\n",
              "      <td>it with ring ,</td>\n",
              "      <td>IT WITH RING ,</td>\n",
              "      <td>POSITIVE</td>\n",
              "      <td>POSITIVE</td>\n",
              "      <td>True</td>\n",
              "    </tr>\n",
              "    <tr>\n",
              "      <th>1998</th>\n",
              "      <td>robustness</td>\n",
              "      <td>uppercase</td>\n",
              "      <td>far from a groundbreaking endeavor</td>\n",
              "      <td>FAR FROM A GROUNDBREAKING ENDEAVOR</td>\n",
              "      <td>NEGATIVE</td>\n",
              "      <td>NEGATIVE</td>\n",
              "      <td>True</td>\n",
              "    </tr>\n",
              "    <tr>\n",
              "      <th>1999</th>\n",
              "      <td>robustness</td>\n",
              "      <td>uppercase</td>\n",
              "      <td>that these women are spectacular</td>\n",
              "      <td>THAT THESE WOMEN ARE SPECTACULAR</td>\n",
              "      <td>POSITIVE</td>\n",
              "      <td>POSITIVE</td>\n",
              "      <td>True</td>\n",
              "    </tr>\n",
              "  </tbody>\n",
              "</table>\n",
              "<p>2000 rows × 7 columns</p>\n",
              "</div>\n",
              "    <div class=\"colab-df-buttons\">\n",
              "\n",
              "  <div class=\"colab-df-container\">\n",
              "    <button class=\"colab-df-convert\" onclick=\"convertToInteractive('df-2c9be49c-382f-401e-ae90-e53f91fcb3b5')\"\n",
              "            title=\"Convert this dataframe to an interactive table.\"\n",
              "            style=\"display:none;\">\n",
              "\n",
              "  <svg xmlns=\"http://www.w3.org/2000/svg\" height=\"24px\" viewBox=\"0 -960 960 960\">\n",
              "    <path d=\"M120-120v-720h720v720H120Zm60-500h600v-160H180v160Zm220 220h160v-160H400v160Zm0 220h160v-160H400v160ZM180-400h160v-160H180v160Zm440 0h160v-160H620v160ZM180-180h160v-160H180v160Zm440 0h160v-160H620v160Z\"/>\n",
              "  </svg>\n",
              "    </button>\n",
              "\n",
              "  <style>\n",
              "    .colab-df-container {\n",
              "      display:flex;\n",
              "      gap: 12px;\n",
              "    }\n",
              "\n",
              "    .colab-df-convert {\n",
              "      background-color: #E8F0FE;\n",
              "      border: none;\n",
              "      border-radius: 50%;\n",
              "      cursor: pointer;\n",
              "      display: none;\n",
              "      fill: #1967D2;\n",
              "      height: 32px;\n",
              "      padding: 0 0 0 0;\n",
              "      width: 32px;\n",
              "    }\n",
              "\n",
              "    .colab-df-convert:hover {\n",
              "      background-color: #E2EBFA;\n",
              "      box-shadow: 0px 1px 2px rgba(60, 64, 67, 0.3), 0px 1px 3px 1px rgba(60, 64, 67, 0.15);\n",
              "      fill: #174EA6;\n",
              "    }\n",
              "\n",
              "    .colab-df-buttons div {\n",
              "      margin-bottom: 4px;\n",
              "    }\n",
              "\n",
              "    [theme=dark] .colab-df-convert {\n",
              "      background-color: #3B4455;\n",
              "      fill: #D2E3FC;\n",
              "    }\n",
              "\n",
              "    [theme=dark] .colab-df-convert:hover {\n",
              "      background-color: #434B5C;\n",
              "      box-shadow: 0px 1px 3px 1px rgba(0, 0, 0, 0.15);\n",
              "      filter: drop-shadow(0px 1px 2px rgba(0, 0, 0, 0.3));\n",
              "      fill: #FFFFFF;\n",
              "    }\n",
              "  </style>\n",
              "\n",
              "    <script>\n",
              "      const buttonEl =\n",
              "        document.querySelector('#df-2c9be49c-382f-401e-ae90-e53f91fcb3b5 button.colab-df-convert');\n",
              "      buttonEl.style.display =\n",
              "        google.colab.kernel.accessAllowed ? 'block' : 'none';\n",
              "\n",
              "      async function convertToInteractive(key) {\n",
              "        const element = document.querySelector('#df-2c9be49c-382f-401e-ae90-e53f91fcb3b5');\n",
              "        const dataTable =\n",
              "          await google.colab.kernel.invokeFunction('convertToInteractive',\n",
              "                                                    [key], {});\n",
              "        if (!dataTable) return;\n",
              "\n",
              "        const docLinkHtml = 'Like what you see? Visit the ' +\n",
              "          '<a target=\"_blank\" href=https://colab.research.google.com/notebooks/data_table.ipynb>data table notebook</a>'\n",
              "          + ' to learn more about interactive tables.';\n",
              "        element.innerHTML = '';\n",
              "        dataTable['output_type'] = 'display_data';\n",
              "        await google.colab.output.renderOutput(dataTable, element);\n",
              "        const docLink = document.createElement('div');\n",
              "        docLink.innerHTML = docLinkHtml;\n",
              "        element.appendChild(docLink);\n",
              "      }\n",
              "    </script>\n",
              "  </div>\n",
              "\n",
              "\n",
              "    <div id=\"df-46718119-214e-4beb-9646-918e58fee061\">\n",
              "      <button class=\"colab-df-quickchart\" onclick=\"quickchart('df-46718119-214e-4beb-9646-918e58fee061')\"\n",
              "                title=\"Suggest charts\"\n",
              "                style=\"display:none;\">\n",
              "\n",
              "<svg xmlns=\"http://www.w3.org/2000/svg\" height=\"24px\"viewBox=\"0 0 24 24\"\n",
              "     width=\"24px\">\n",
              "    <g>\n",
              "        <path d=\"M19 3H5c-1.1 0-2 .9-2 2v14c0 1.1.9 2 2 2h14c1.1 0 2-.9 2-2V5c0-1.1-.9-2-2-2zM9 17H7v-7h2v7zm4 0h-2V7h2v10zm4 0h-2v-4h2v4z\"/>\n",
              "    </g>\n",
              "</svg>\n",
              "      </button>\n",
              "\n",
              "<style>\n",
              "  .colab-df-quickchart {\n",
              "      --bg-color: #E8F0FE;\n",
              "      --fill-color: #1967D2;\n",
              "      --hover-bg-color: #E2EBFA;\n",
              "      --hover-fill-color: #174EA6;\n",
              "      --disabled-fill-color: #AAA;\n",
              "      --disabled-bg-color: #DDD;\n",
              "  }\n",
              "\n",
              "  [theme=dark] .colab-df-quickchart {\n",
              "      --bg-color: #3B4455;\n",
              "      --fill-color: #D2E3FC;\n",
              "      --hover-bg-color: #434B5C;\n",
              "      --hover-fill-color: #FFFFFF;\n",
              "      --disabled-bg-color: #3B4455;\n",
              "      --disabled-fill-color: #666;\n",
              "  }\n",
              "\n",
              "  .colab-df-quickchart {\n",
              "    background-color: var(--bg-color);\n",
              "    border: none;\n",
              "    border-radius: 50%;\n",
              "    cursor: pointer;\n",
              "    display: none;\n",
              "    fill: var(--fill-color);\n",
              "    height: 32px;\n",
              "    padding: 0;\n",
              "    width: 32px;\n",
              "  }\n",
              "\n",
              "  .colab-df-quickchart:hover {\n",
              "    background-color: var(--hover-bg-color);\n",
              "    box-shadow: 0 1px 2px rgba(60, 64, 67, 0.3), 0 1px 3px 1px rgba(60, 64, 67, 0.15);\n",
              "    fill: var(--button-hover-fill-color);\n",
              "  }\n",
              "\n",
              "  .colab-df-quickchart-complete:disabled,\n",
              "  .colab-df-quickchart-complete:disabled:hover {\n",
              "    background-color: var(--disabled-bg-color);\n",
              "    fill: var(--disabled-fill-color);\n",
              "    box-shadow: none;\n",
              "  }\n",
              "\n",
              "  .colab-df-spinner {\n",
              "    border: 2px solid var(--fill-color);\n",
              "    border-color: transparent;\n",
              "    border-bottom-color: var(--fill-color);\n",
              "    animation:\n",
              "      spin 1s steps(1) infinite;\n",
              "  }\n",
              "\n",
              "  @keyframes spin {\n",
              "    0% {\n",
              "      border-color: transparent;\n",
              "      border-bottom-color: var(--fill-color);\n",
              "      border-left-color: var(--fill-color);\n",
              "    }\n",
              "    20% {\n",
              "      border-color: transparent;\n",
              "      border-left-color: var(--fill-color);\n",
              "      border-top-color: var(--fill-color);\n",
              "    }\n",
              "    30% {\n",
              "      border-color: transparent;\n",
              "      border-left-color: var(--fill-color);\n",
              "      border-top-color: var(--fill-color);\n",
              "      border-right-color: var(--fill-color);\n",
              "    }\n",
              "    40% {\n",
              "      border-color: transparent;\n",
              "      border-right-color: var(--fill-color);\n",
              "      border-top-color: var(--fill-color);\n",
              "    }\n",
              "    60% {\n",
              "      border-color: transparent;\n",
              "      border-right-color: var(--fill-color);\n",
              "    }\n",
              "    80% {\n",
              "      border-color: transparent;\n",
              "      border-right-color: var(--fill-color);\n",
              "      border-bottom-color: var(--fill-color);\n",
              "    }\n",
              "    90% {\n",
              "      border-color: transparent;\n",
              "      border-bottom-color: var(--fill-color);\n",
              "    }\n",
              "  }\n",
              "</style>\n",
              "\n",
              "      <script>\n",
              "        async function quickchart(key) {\n",
              "          const quickchartButtonEl =\n",
              "            document.querySelector('#' + key + ' button');\n",
              "          quickchartButtonEl.disabled = true;  // To prevent multiple clicks.\n",
              "          quickchartButtonEl.classList.add('colab-df-spinner');\n",
              "          try {\n",
              "            const charts = await google.colab.kernel.invokeFunction(\n",
              "                'suggestCharts', [key], {});\n",
              "          } catch (error) {\n",
              "            console.error('Error during call to suggestCharts:', error);\n",
              "          }\n",
              "          quickchartButtonEl.classList.remove('colab-df-spinner');\n",
              "          quickchartButtonEl.classList.add('colab-df-quickchart-complete');\n",
              "        }\n",
              "        (() => {\n",
              "          let quickchartButtonEl =\n",
              "            document.querySelector('#df-46718119-214e-4beb-9646-918e58fee061 button');\n",
              "          quickchartButtonEl.style.display =\n",
              "            google.colab.kernel.accessAllowed ? 'block' : 'none';\n",
              "        })();\n",
              "      </script>\n",
              "    </div>\n",
              "\n",
              "    </div>\n",
              "  </div>\n"
            ],
            "application/vnd.google.colaboratory.intrinsic+json": {
              "type": "dataframe",
              "summary": "{\n  \"name\": \"harness\",\n  \"rows\": 2000,\n  \"fields\": [\n    {\n      \"column\": \"category\",\n      \"properties\": {\n        \"dtype\": \"category\",\n        \"num_unique_values\": 1,\n        \"samples\": [\n          \"robustness\"\n        ],\n        \"semantic_type\": \"\",\n        \"description\": \"\"\n      }\n    },\n    {\n      \"column\": \"test_type\",\n      \"properties\": {\n        \"dtype\": \"category\",\n        \"num_unique_values\": 1,\n        \"samples\": [\n          \"uppercase\"\n        ],\n        \"semantic_type\": \"\",\n        \"description\": \"\"\n      }\n    },\n    {\n      \"column\": \"original\",\n      \"properties\": {\n        \"dtype\": \"string\",\n        \"num_unique_values\": 2000,\n        \"samples\": [\n          \"painful and \"\n        ],\n        \"semantic_type\": \"\",\n        \"description\": \"\"\n      }\n    },\n    {\n      \"column\": \"test_case\",\n      \"properties\": {\n        \"dtype\": \"string\",\n        \"num_unique_values\": 2000,\n        \"samples\": [\n          \"PAINFUL AND \"\n        ],\n        \"semantic_type\": \"\",\n        \"description\": \"\"\n      }\n    },\n    {\n      \"column\": \"expected_result\",\n      \"properties\": {\n        \"dtype\": \"category\",\n        \"num_unique_values\": 2,\n        \"samples\": [\n          \"POSITIVE\"\n        ],\n        \"semantic_type\": \"\",\n        \"description\": \"\"\n      }\n    },\n    {\n      \"column\": \"actual_result\",\n      \"properties\": {\n        \"dtype\": \"category\",\n        \"num_unique_values\": 2,\n        \"samples\": [\n          \"POSITIVE\"\n        ],\n        \"semantic_type\": \"\",\n        \"description\": \"\"\n      }\n    },\n    {\n      \"column\": \"pass\",\n      \"properties\": {\n        \"dtype\": \"boolean\",\n        \"num_unique_values\": 1,\n        \"samples\": [\n          true\n        ],\n        \"semantic_type\": \"\",\n        \"description\": \"\"\n      }\n    }\n  ]\n}"
            }
          },
          "metadata": {},
          "execution_count": 26
        }
      ],
      "source": [
        "harness.generated_results()"
      ]
    },
    {
      "cell_type": "markdown",
      "metadata": {
        "id": "TKB8Rsr2GZME"
      },
      "source": [
        "\n",
        "\n",
        "\n",
        "\n",
        "Este método retorna os resultados gerados na forma de um DataFrame do pandas, proporcionando um formato prático e fácil de manipular para trabalhar com os resultados dos testes."
      ]
    },
    {
      "cell_type": "markdown",
      "metadata": {
        "id": "PBSlpWnUU55G"
      },
      "source": [
        "*texto em itálico*### Resultado"
      ]
    },
    {
      "cell_type": "markdown",
      "metadata": {
        "id": "umnEgUHM8DRA"
      },
      "source": [
        "Podemos chamar o método .report(), que resume os resultados dos testes e fornece informações como:\n",
        "\n",
        "Quantidade de testes aprovados (pass)\n",
        "\n",
        "Quantidade de testes reprovados (fail)\n",
        "\n",
        "Indicador geral de aprovação/reprovação do conjunto de testes"
      ]
    },
    {
      "cell_type": "code",
      "execution_count": 27,
      "metadata": {
        "id": "gp57HcF9yxi7",
        "colab": {
          "base_uri": "https://localhost:8080/",
          "height": 81
        },
        "outputId": "8e0ec6ee-ca51-438c-f1e9-1ed55adf7be6"
      },
      "outputs": [
        {
          "output_type": "execute_result",
          "data": {
            "text/plain": [
              "     category  test_type  fail_count  pass_count pass_rate minimum_pass_rate  \\\n",
              "0  robustness  uppercase           0        2000      100%               66%   \n",
              "\n",
              "   pass  \n",
              "0  True  "
            ],
            "text/html": [
              "\n",
              "  <div id=\"df-c6c0c286-b140-44b5-983a-e2e730b8f8d9\" class=\"colab-df-container\">\n",
              "    <div>\n",
              "<style scoped>\n",
              "    .dataframe tbody tr th:only-of-type {\n",
              "        vertical-align: middle;\n",
              "    }\n",
              "\n",
              "    .dataframe tbody tr th {\n",
              "        vertical-align: top;\n",
              "    }\n",
              "\n",
              "    .dataframe thead th {\n",
              "        text-align: right;\n",
              "    }\n",
              "</style>\n",
              "<table border=\"1\" class=\"dataframe\">\n",
              "  <thead>\n",
              "    <tr style=\"text-align: right;\">\n",
              "      <th></th>\n",
              "      <th>category</th>\n",
              "      <th>test_type</th>\n",
              "      <th>fail_count</th>\n",
              "      <th>pass_count</th>\n",
              "      <th>pass_rate</th>\n",
              "      <th>minimum_pass_rate</th>\n",
              "      <th>pass</th>\n",
              "    </tr>\n",
              "  </thead>\n",
              "  <tbody>\n",
              "    <tr>\n",
              "      <th>0</th>\n",
              "      <td>robustness</td>\n",
              "      <td>uppercase</td>\n",
              "      <td>0</td>\n",
              "      <td>2000</td>\n",
              "      <td>100%</td>\n",
              "      <td>66%</td>\n",
              "      <td>True</td>\n",
              "    </tr>\n",
              "  </tbody>\n",
              "</table>\n",
              "</div>\n",
              "    <div class=\"colab-df-buttons\">\n",
              "\n",
              "  <div class=\"colab-df-container\">\n",
              "    <button class=\"colab-df-convert\" onclick=\"convertToInteractive('df-c6c0c286-b140-44b5-983a-e2e730b8f8d9')\"\n",
              "            title=\"Convert this dataframe to an interactive table.\"\n",
              "            style=\"display:none;\">\n",
              "\n",
              "  <svg xmlns=\"http://www.w3.org/2000/svg\" height=\"24px\" viewBox=\"0 -960 960 960\">\n",
              "    <path d=\"M120-120v-720h720v720H120Zm60-500h600v-160H180v160Zm220 220h160v-160H400v160Zm0 220h160v-160H400v160ZM180-400h160v-160H180v160Zm440 0h160v-160H620v160ZM180-180h160v-160H180v160Zm440 0h160v-160H620v160Z\"/>\n",
              "  </svg>\n",
              "    </button>\n",
              "\n",
              "  <style>\n",
              "    .colab-df-container {\n",
              "      display:flex;\n",
              "      gap: 12px;\n",
              "    }\n",
              "\n",
              "    .colab-df-convert {\n",
              "      background-color: #E8F0FE;\n",
              "      border: none;\n",
              "      border-radius: 50%;\n",
              "      cursor: pointer;\n",
              "      display: none;\n",
              "      fill: #1967D2;\n",
              "      height: 32px;\n",
              "      padding: 0 0 0 0;\n",
              "      width: 32px;\n",
              "    }\n",
              "\n",
              "    .colab-df-convert:hover {\n",
              "      background-color: #E2EBFA;\n",
              "      box-shadow: 0px 1px 2px rgba(60, 64, 67, 0.3), 0px 1px 3px 1px rgba(60, 64, 67, 0.15);\n",
              "      fill: #174EA6;\n",
              "    }\n",
              "\n",
              "    .colab-df-buttons div {\n",
              "      margin-bottom: 4px;\n",
              "    }\n",
              "\n",
              "    [theme=dark] .colab-df-convert {\n",
              "      background-color: #3B4455;\n",
              "      fill: #D2E3FC;\n",
              "    }\n",
              "\n",
              "    [theme=dark] .colab-df-convert:hover {\n",
              "      background-color: #434B5C;\n",
              "      box-shadow: 0px 1px 3px 1px rgba(0, 0, 0, 0.15);\n",
              "      filter: drop-shadow(0px 1px 2px rgba(0, 0, 0, 0.3));\n",
              "      fill: #FFFFFF;\n",
              "    }\n",
              "  </style>\n",
              "\n",
              "    <script>\n",
              "      const buttonEl =\n",
              "        document.querySelector('#df-c6c0c286-b140-44b5-983a-e2e730b8f8d9 button.colab-df-convert');\n",
              "      buttonEl.style.display =\n",
              "        google.colab.kernel.accessAllowed ? 'block' : 'none';\n",
              "\n",
              "      async function convertToInteractive(key) {\n",
              "        const element = document.querySelector('#df-c6c0c286-b140-44b5-983a-e2e730b8f8d9');\n",
              "        const dataTable =\n",
              "          await google.colab.kernel.invokeFunction('convertToInteractive',\n",
              "                                                    [key], {});\n",
              "        if (!dataTable) return;\n",
              "\n",
              "        const docLinkHtml = 'Like what you see? Visit the ' +\n",
              "          '<a target=\"_blank\" href=https://colab.research.google.com/notebooks/data_table.ipynb>data table notebook</a>'\n",
              "          + ' to learn more about interactive tables.';\n",
              "        element.innerHTML = '';\n",
              "        dataTable['output_type'] = 'display_data';\n",
              "        await google.colab.output.renderOutput(dataTable, element);\n",
              "        const docLink = document.createElement('div');\n",
              "        docLink.innerHTML = docLinkHtml;\n",
              "        element.appendChild(docLink);\n",
              "      }\n",
              "    </script>\n",
              "  </div>\n",
              "\n",
              "\n",
              "    </div>\n",
              "  </div>\n"
            ],
            "application/vnd.google.colaboratory.intrinsic+json": {
              "type": "dataframe",
              "summary": "{\n  \"name\": \"harness\",\n  \"rows\": 1,\n  \"fields\": [\n    {\n      \"column\": \"category\",\n      \"properties\": {\n        \"dtype\": \"string\",\n        \"num_unique_values\": 1,\n        \"samples\": [\n          \"robustness\"\n        ],\n        \"semantic_type\": \"\",\n        \"description\": \"\"\n      }\n    },\n    {\n      \"column\": \"test_type\",\n      \"properties\": {\n        \"dtype\": \"string\",\n        \"num_unique_values\": 1,\n        \"samples\": [\n          \"uppercase\"\n        ],\n        \"semantic_type\": \"\",\n        \"description\": \"\"\n      }\n    },\n    {\n      \"column\": \"fail_count\",\n      \"properties\": {\n        \"dtype\": \"number\",\n        \"std\": null,\n        \"min\": 0,\n        \"max\": 0,\n        \"num_unique_values\": 1,\n        \"samples\": [\n          0\n        ],\n        \"semantic_type\": \"\",\n        \"description\": \"\"\n      }\n    },\n    {\n      \"column\": \"pass_count\",\n      \"properties\": {\n        \"dtype\": \"number\",\n        \"std\": null,\n        \"min\": 2000,\n        \"max\": 2000,\n        \"num_unique_values\": 1,\n        \"samples\": [\n          2000\n        ],\n        \"semantic_type\": \"\",\n        \"description\": \"\"\n      }\n    },\n    {\n      \"column\": \"pass_rate\",\n      \"properties\": {\n        \"dtype\": \"string\",\n        \"num_unique_values\": 1,\n        \"samples\": [\n          \"100%\"\n        ],\n        \"semantic_type\": \"\",\n        \"description\": \"\"\n      }\n    },\n    {\n      \"column\": \"minimum_pass_rate\",\n      \"properties\": {\n        \"dtype\": \"string\",\n        \"num_unique_values\": 1,\n        \"samples\": [\n          \"66%\"\n        ],\n        \"semantic_type\": \"\",\n        \"description\": \"\"\n      }\n    },\n    {\n      \"column\": \"pass\",\n      \"properties\": {\n        \"dtype\": \"boolean\",\n        \"num_unique_values\": 1,\n        \"samples\": [\n          true\n        ],\n        \"semantic_type\": \"\",\n        \"description\": \"\"\n      }\n    }\n  ]\n}"
            }
          },
          "metadata": {},
          "execution_count": 27
        }
      ],
      "source": [
        "harness.report()"
      ]
    },
    {
      "cell_type": "markdown",
      "metadata": {
        "id": "5N0cKfKiLsiQ"
      },
      "source": [
        "## `Imdb` testando Dataset Imdb\n",
        "\n",
        "\n",
        "\n",
        "-------------------\n"
      ]
    },
    {
      "cell_type": "markdown",
      "metadata": {
        "id": "l5H75bwe8DRA"
      },
      "source": [
        "Podemos usar outros Datasets para testar/treinar\n"
      ]
    },
    {
      "cell_type": "markdown",
      "metadata": {
        "id": "Ny0585_H8DRA"
      },
      "source": [
        "### Harness and Its Parameters"
      ]
    },
    {
      "cell_type": "code",
      "execution_count": 28,
      "metadata": {
        "execution": {
          "iopub.execute_input": "2023-08-18T08:34:32.907030Z",
          "iopub.status.busy": "2023-08-18T08:34:32.906464Z",
          "iopub.status.idle": "2023-08-18T08:35:07.549656Z",
          "shell.execute_reply": "2023-08-18T08:35:07.549091Z",
          "shell.execute_reply.started": "2023-08-18T08:34:32.907008Z"
        },
        "id": "oDh3Zaa9EDfZ",
        "tags": [],
        "colab": {
          "base_uri": "https://localhost:8080/"
        },
        "outputId": "f619bd22-5b0a-4a88-bdeb-9b869700fd41"
      },
      "outputs": [
        {
          "output_type": "stream",
          "name": "stderr",
          "text": [
            "WARNING:langtest:[W001] No configuration file was provided, loading default config.\n"
          ]
        },
        {
          "output_type": "stream",
          "name": "stdout",
          "text": [
            "Test Configuration : \n",
            " {\n",
            " \"tests\": {\n",
            "  \"defaults\": {\n",
            "   \"min_pass_rate\": 1.0\n",
            "  },\n",
            "  \"robustness\": {\n",
            "   \"add_typo\": {\n",
            "    \"min_pass_rate\": 0.7\n",
            "   },\n",
            "   \"american_to_british\": {\n",
            "    \"min_pass_rate\": 0.7\n",
            "   }\n",
            "  },\n",
            "  \"accuracy\": {\n",
            "   \"min_micro_f1_score\": {\n",
            "    \"min_score\": 0.7\n",
            "   }\n",
            "  },\n",
            "  \"bias\": {\n",
            "   \"replace_to_female_pronouns\": {\n",
            "    \"min_pass_rate\": 0.7\n",
            "   },\n",
            "   \"replace_to_low_income_country\": {\n",
            "    \"min_pass_rate\": 0.7\n",
            "   }\n",
            "  },\n",
            "  \"fairness\": {\n",
            "   \"min_gender_f1_score\": {\n",
            "    \"min_score\": 0.6\n",
            "   }\n",
            "  },\n",
            "  \"representation\": {\n",
            "   \"min_label_representation_count\": {\n",
            "    \"min_count\": 50\n",
            "   }\n",
            "  }\n",
            " }\n",
            "}\n"
          ]
        }
      ],
      "source": [
        "harness = Harness(task=\"text-classification\",\n",
        "                    model={\"model\": \"lvwerra/distilbert-imdb\", \"hub\": \"huggingface\"},\n",
        "                    data={\"data_source\":'imdb',\n",
        "                          \"source\": \"huggingface\"},\n",
        "                    )\n"
      ]
    },
    {
      "cell_type": "markdown",
      "metadata": {
        "id": "LIK5jh0x8DRB"
      },
      "source": [
        "\n",
        "\n",
        "```\n",
        "# Isto está formatado como código\n",
        "```\n",
        "\n",
        "WConfigurando o Modelo e o Dataset — Exemplo IMDB\n",
        "\n",
        "Nesta configuração, definimos os seguintes parâmetros:\n",
        "\n",
        "task: \"text-classification\" → Tarefa de classificação de texto.\n",
        "\n",
        "hub: \"huggingface\" → Modelo carregado a partir do repositório Hugging Face.\n",
        "\n",
        "model: \"lvwerra/distilbert-imdb\" → Modelo pré-treinado e ajustado para análise de sentimentos em reviews de filmes.\n",
        "\n",
        "Para o conjunto de dados, utilizamos:\n",
        "\n",
        "imdb → Dataset clássico de análise de sentimentos em reviews de filmes.\n",
        "\n",
        "💡 Observação:\n",
        "Aqui estamos usando os parâmetros padrão para:\n",
        "\n",
        "feature_column → \"text\"\n",
        "\n",
        "target_column → \"label\"\n",
        "\n",
        "split → \"test\"\n",
        "\n",
        "🔗 Você pode explorar outros datasets de benchmark do Hugging Face para tarefas de classificação de texto aqui (https://huggingface.co/datasets?task_categories=task_categories:text-classification&sort=downloads)"
      ]
    },
    {
      "cell_type": "markdown",
      "metadata": {
        "id": "uTbZ_qJV8DRB"
      },
      "source": [
        "### Setup and Configuração do Harness\n",
        "\n",
        "\n"
      ]
    },
    {
      "cell_type": "code",
      "execution_count": 29,
      "metadata": {
        "execution": {
          "iopub.execute_input": "2023-08-18T08:35:07.551144Z",
          "iopub.status.busy": "2023-08-18T08:35:07.550657Z",
          "iopub.status.idle": "2023-08-18T08:35:07.556253Z",
          "shell.execute_reply": "2023-08-18T08:35:07.555813Z",
          "shell.execute_reply.started": "2023-08-18T08:35:07.551124Z"
        },
        "id": "ZnLWJkPVEDmg",
        "tags": [],
        "colab": {
          "base_uri": "https://localhost:8080/"
        },
        "outputId": "a1ebb3d3-8509-45bf-8533-8a4157557ae9"
      },
      "outputs": [
        {
          "output_type": "execute_result",
          "data": {
            "text/plain": [
              "{'tests': {'defaults': {'min_pass_rate': 0.65},\n",
              "  'robustness': {'lowercase': {'min_pass_rate': 0.66},\n",
              "   'uppercase': {'min_pass_rate': 0.66}}}}"
            ]
          },
          "metadata": {},
          "execution_count": 29
        }
      ],
      "source": [
        "harness.configure(\n",
        "{\n",
        " 'tests': {'defaults': {'min_pass_rate': 0.65},\n",
        "           'robustness': {'lowercase': {'min_pass_rate': 0.66},\n",
        "                          'uppercase': {'min_pass_rate': 0.66},\n",
        "                        }\n",
        "          }\n",
        " }\n",
        " )"
      ]
    },
    {
      "cell_type": "code",
      "execution_count": 30,
      "metadata": {
        "execution": {
          "iopub.execute_input": "2023-08-18T08:35:07.557137Z",
          "iopub.status.busy": "2023-08-18T08:35:07.556832Z",
          "iopub.status.idle": "2023-08-18T08:35:07.644146Z",
          "shell.execute_reply": "2023-08-18T08:35:07.643660Z",
          "shell.execute_reply.started": "2023-08-18T08:35:07.557121Z"
        },
        "id": "VdLgXi968DRB",
        "tags": []
      },
      "outputs": [],
      "source": [
        "# Limite para 1000 amostras\n",
        "harness.data = harness.data[:1000]"
      ]
    },
    {
      "cell_type": "code",
      "execution_count": 31,
      "metadata": {
        "execution": {
          "iopub.execute_input": "2023-08-18T08:35:07.646539Z",
          "iopub.status.busy": "2023-08-18T08:35:07.646162Z",
          "iopub.status.idle": "2023-08-18T08:36:49.728872Z",
          "shell.execute_reply": "2023-08-18T08:36:49.728166Z",
          "shell.execute_reply.started": "2023-08-18T08:35:07.646521Z"
        },
        "id": "A3U0kM62EG6B",
        "tags": [],
        "colab": {
          "base_uri": "https://localhost:8080/",
          "height": 101,
          "referenced_widgets": [
            "2f5421d3e1cb40198623136ed2017859",
            "f7b2354ecdef43849cddeb06dd8dd49c",
            "be46d167b7d84464ab543bcb9261d5be",
            "5d54419750eb44d095a8c61dcaa24af9",
            "c859b0bdcebc4dd7af230e96c7803070",
            "122e7ec2fdbf401c90f2d45a0e6c457f",
            "45287508e8054ea5a345e38681230b21",
            "ef3b9fe687844a28a4638f20ee43a56a",
            "5a02f710387a4a04aa82ff6617ff6745",
            "73965ba2ec204e4f946274e696fb0757",
            "393f53642f6d489489feee3fd16b776d"
          ]
        },
        "outputId": "ca4f46e9-e9bd-465c-fcd6-94b998b9652d"
      },
      "outputs": [
        {
          "output_type": "display_data",
          "data": {
            "text/plain": [
              "Generating testcases...:   0%|          | 0/1 [00:00<?, ?it/s]"
            ],
            "application/vnd.jupyter.widget-view+json": {
              "version_major": 2,
              "version_minor": 0,
              "model_id": "2f5421d3e1cb40198623136ed2017859"
            }
          },
          "metadata": {}
        },
        {
          "output_type": "stream",
          "name": "stderr",
          "text": [
            "WARNING:langtest:Removing samples where no transformation has been applied:\n",
            "- Test 'lowercase': 6 samples removed out of 1000\n",
            "\n"
          ]
        },
        {
          "output_type": "execute_result",
          "data": {
            "text/plain": []
          },
          "metadata": {},
          "execution_count": 31
        }
      ],
      "source": [
        "harness.generate()"
      ]
    },
    {
      "cell_type": "markdown",
      "metadata": {
        "id": "JR7kIfZY8DRJ"
      },
      "source": [
        "### Gerando Casos de teste"
      ]
    },
    {
      "cell_type": "code",
      "execution_count": 32,
      "metadata": {
        "execution": {
          "iopub.execute_input": "2023-08-18T08:36:49.729861Z",
          "iopub.status.busy": "2023-08-18T08:36:49.729629Z",
          "iopub.status.idle": "2023-08-18T08:36:49.745830Z",
          "shell.execute_reply": "2023-08-18T08:36:49.745244Z",
          "shell.execute_reply.started": "2023-08-18T08:36:49.729838Z"
        },
        "id": "0ipwMsy0EHYY",
        "tags": [],
        "colab": {
          "base_uri": "https://localhost:8080/",
          "height": 597
        },
        "outputId": "e886a1a2-145b-4281-d46a-5bf31659649d"
      },
      "outputs": [
        {
          "output_type": "execute_result",
          "data": {
            "text/plain": [
              "        category  test_type  \\\n",
              "0     robustness  lowercase   \n",
              "1     robustness  lowercase   \n",
              "2     robustness  lowercase   \n",
              "3     robustness  lowercase   \n",
              "4     robustness  lowercase   \n",
              "...          ...        ...   \n",
              "1989  robustness  uppercase   \n",
              "1990  robustness  uppercase   \n",
              "1991  robustness  uppercase   \n",
              "1992  robustness  uppercase   \n",
              "1993  robustness  uppercase   \n",
              "\n",
              "                                               original  \\\n",
              "0     I love sci-fi and am willing to put up with a ...   \n",
              "1     Worth the entertainment value of a rental, esp...   \n",
              "2     STAR RATING: ***** Saturday Night **** Friday ...   \n",
              "3     First off let me say, If you haven't enjoyed a...   \n",
              "4     I had high hopes for this one until they chang...   \n",
              "...                                                 ...   \n",
              "1989  When they announced this movie for TNT I was e...   \n",
              "1990  As a recent convert to Curb Your Enthusiasm, w...   \n",
              "1991  Great ensemble cast but unfortunately a bunch ...   \n",
              "1992  How i deserved to watch this crap??? Worst eve...   \n",
              "1993  This is absolutely awful. It's everywhere & no...   \n",
              "\n",
              "                                              test_case  \n",
              "0     i love sci-fi and am willing to put up with a ...  \n",
              "1     worth the entertainment value of a rental, esp...  \n",
              "2     star rating: ***** saturday night **** friday ...  \n",
              "3     first off let me say, if you haven't enjoyed a...  \n",
              "4     i had high hopes for this one until they chang...  \n",
              "...                                                 ...  \n",
              "1989  WHEN THEY ANNOUNCED THIS MOVIE FOR TNT I WAS E...  \n",
              "1990  AS A RECENT CONVERT TO CURB YOUR ENTHUSIASM, W...  \n",
              "1991  GREAT ENSEMBLE CAST BUT UNFORTUNATELY A BUNCH ...  \n",
              "1992  HOW I DESERVED TO WATCH THIS CRAP??? WORST EVE...  \n",
              "1993  THIS IS ABSOLUTELY AWFUL. IT'S EVERYWHERE & NO...  \n",
              "\n",
              "[1994 rows x 4 columns]"
            ],
            "text/html": [
              "\n",
              "  <div id=\"df-57d6d07a-b709-4c76-8405-976a617f6294\" class=\"colab-df-container\">\n",
              "    <div>\n",
              "<style scoped>\n",
              "    .dataframe tbody tr th:only-of-type {\n",
              "        vertical-align: middle;\n",
              "    }\n",
              "\n",
              "    .dataframe tbody tr th {\n",
              "        vertical-align: top;\n",
              "    }\n",
              "\n",
              "    .dataframe thead th {\n",
              "        text-align: right;\n",
              "    }\n",
              "</style>\n",
              "<table border=\"1\" class=\"dataframe\">\n",
              "  <thead>\n",
              "    <tr style=\"text-align: right;\">\n",
              "      <th></th>\n",
              "      <th>category</th>\n",
              "      <th>test_type</th>\n",
              "      <th>original</th>\n",
              "      <th>test_case</th>\n",
              "    </tr>\n",
              "  </thead>\n",
              "  <tbody>\n",
              "    <tr>\n",
              "      <th>0</th>\n",
              "      <td>robustness</td>\n",
              "      <td>lowercase</td>\n",
              "      <td>I love sci-fi and am willing to put up with a ...</td>\n",
              "      <td>i love sci-fi and am willing to put up with a ...</td>\n",
              "    </tr>\n",
              "    <tr>\n",
              "      <th>1</th>\n",
              "      <td>robustness</td>\n",
              "      <td>lowercase</td>\n",
              "      <td>Worth the entertainment value of a rental, esp...</td>\n",
              "      <td>worth the entertainment value of a rental, esp...</td>\n",
              "    </tr>\n",
              "    <tr>\n",
              "      <th>2</th>\n",
              "      <td>robustness</td>\n",
              "      <td>lowercase</td>\n",
              "      <td>STAR RATING: ***** Saturday Night **** Friday ...</td>\n",
              "      <td>star rating: ***** saturday night **** friday ...</td>\n",
              "    </tr>\n",
              "    <tr>\n",
              "      <th>3</th>\n",
              "      <td>robustness</td>\n",
              "      <td>lowercase</td>\n",
              "      <td>First off let me say, If you haven't enjoyed a...</td>\n",
              "      <td>first off let me say, if you haven't enjoyed a...</td>\n",
              "    </tr>\n",
              "    <tr>\n",
              "      <th>4</th>\n",
              "      <td>robustness</td>\n",
              "      <td>lowercase</td>\n",
              "      <td>I had high hopes for this one until they chang...</td>\n",
              "      <td>i had high hopes for this one until they chang...</td>\n",
              "    </tr>\n",
              "    <tr>\n",
              "      <th>...</th>\n",
              "      <td>...</td>\n",
              "      <td>...</td>\n",
              "      <td>...</td>\n",
              "      <td>...</td>\n",
              "    </tr>\n",
              "    <tr>\n",
              "      <th>1989</th>\n",
              "      <td>robustness</td>\n",
              "      <td>uppercase</td>\n",
              "      <td>When they announced this movie for TNT I was e...</td>\n",
              "      <td>WHEN THEY ANNOUNCED THIS MOVIE FOR TNT I WAS E...</td>\n",
              "    </tr>\n",
              "    <tr>\n",
              "      <th>1990</th>\n",
              "      <td>robustness</td>\n",
              "      <td>uppercase</td>\n",
              "      <td>As a recent convert to Curb Your Enthusiasm, w...</td>\n",
              "      <td>AS A RECENT CONVERT TO CURB YOUR ENTHUSIASM, W...</td>\n",
              "    </tr>\n",
              "    <tr>\n",
              "      <th>1991</th>\n",
              "      <td>robustness</td>\n",
              "      <td>uppercase</td>\n",
              "      <td>Great ensemble cast but unfortunately a bunch ...</td>\n",
              "      <td>GREAT ENSEMBLE CAST BUT UNFORTUNATELY A BUNCH ...</td>\n",
              "    </tr>\n",
              "    <tr>\n",
              "      <th>1992</th>\n",
              "      <td>robustness</td>\n",
              "      <td>uppercase</td>\n",
              "      <td>How i deserved to watch this crap??? Worst eve...</td>\n",
              "      <td>HOW I DESERVED TO WATCH THIS CRAP??? WORST EVE...</td>\n",
              "    </tr>\n",
              "    <tr>\n",
              "      <th>1993</th>\n",
              "      <td>robustness</td>\n",
              "      <td>uppercase</td>\n",
              "      <td>This is absolutely awful. It's everywhere &amp; no...</td>\n",
              "      <td>THIS IS ABSOLUTELY AWFUL. IT'S EVERYWHERE &amp; NO...</td>\n",
              "    </tr>\n",
              "  </tbody>\n",
              "</table>\n",
              "<p>1994 rows × 4 columns</p>\n",
              "</div>\n",
              "    <div class=\"colab-df-buttons\">\n",
              "\n",
              "  <div class=\"colab-df-container\">\n",
              "    <button class=\"colab-df-convert\" onclick=\"convertToInteractive('df-57d6d07a-b709-4c76-8405-976a617f6294')\"\n",
              "            title=\"Convert this dataframe to an interactive table.\"\n",
              "            style=\"display:none;\">\n",
              "\n",
              "  <svg xmlns=\"http://www.w3.org/2000/svg\" height=\"24px\" viewBox=\"0 -960 960 960\">\n",
              "    <path d=\"M120-120v-720h720v720H120Zm60-500h600v-160H180v160Zm220 220h160v-160H400v160Zm0 220h160v-160H400v160ZM180-400h160v-160H180v160Zm440 0h160v-160H620v160ZM180-180h160v-160H180v160Zm440 0h160v-160H620v160Z\"/>\n",
              "  </svg>\n",
              "    </button>\n",
              "\n",
              "  <style>\n",
              "    .colab-df-container {\n",
              "      display:flex;\n",
              "      gap: 12px;\n",
              "    }\n",
              "\n",
              "    .colab-df-convert {\n",
              "      background-color: #E8F0FE;\n",
              "      border: none;\n",
              "      border-radius: 50%;\n",
              "      cursor: pointer;\n",
              "      display: none;\n",
              "      fill: #1967D2;\n",
              "      height: 32px;\n",
              "      padding: 0 0 0 0;\n",
              "      width: 32px;\n",
              "    }\n",
              "\n",
              "    .colab-df-convert:hover {\n",
              "      background-color: #E2EBFA;\n",
              "      box-shadow: 0px 1px 2px rgba(60, 64, 67, 0.3), 0px 1px 3px 1px rgba(60, 64, 67, 0.15);\n",
              "      fill: #174EA6;\n",
              "    }\n",
              "\n",
              "    .colab-df-buttons div {\n",
              "      margin-bottom: 4px;\n",
              "    }\n",
              "\n",
              "    [theme=dark] .colab-df-convert {\n",
              "      background-color: #3B4455;\n",
              "      fill: #D2E3FC;\n",
              "    }\n",
              "\n",
              "    [theme=dark] .colab-df-convert:hover {\n",
              "      background-color: #434B5C;\n",
              "      box-shadow: 0px 1px 3px 1px rgba(0, 0, 0, 0.15);\n",
              "      filter: drop-shadow(0px 1px 2px rgba(0, 0, 0, 0.3));\n",
              "      fill: #FFFFFF;\n",
              "    }\n",
              "  </style>\n",
              "\n",
              "    <script>\n",
              "      const buttonEl =\n",
              "        document.querySelector('#df-57d6d07a-b709-4c76-8405-976a617f6294 button.colab-df-convert');\n",
              "      buttonEl.style.display =\n",
              "        google.colab.kernel.accessAllowed ? 'block' : 'none';\n",
              "\n",
              "      async function convertToInteractive(key) {\n",
              "        const element = document.querySelector('#df-57d6d07a-b709-4c76-8405-976a617f6294');\n",
              "        const dataTable =\n",
              "          await google.colab.kernel.invokeFunction('convertToInteractive',\n",
              "                                                    [key], {});\n",
              "        if (!dataTable) return;\n",
              "\n",
              "        const docLinkHtml = 'Like what you see? Visit the ' +\n",
              "          '<a target=\"_blank\" href=https://colab.research.google.com/notebooks/data_table.ipynb>data table notebook</a>'\n",
              "          + ' to learn more about interactive tables.';\n",
              "        element.innerHTML = '';\n",
              "        dataTable['output_type'] = 'display_data';\n",
              "        await google.colab.output.renderOutput(dataTable, element);\n",
              "        const docLink = document.createElement('div');\n",
              "        docLink.innerHTML = docLinkHtml;\n",
              "        element.appendChild(docLink);\n",
              "      }\n",
              "    </script>\n",
              "  </div>\n",
              "\n",
              "\n",
              "    <div id=\"df-81981c5f-fd68-43a6-86bc-35f10ac6de97\">\n",
              "      <button class=\"colab-df-quickchart\" onclick=\"quickchart('df-81981c5f-fd68-43a6-86bc-35f10ac6de97')\"\n",
              "                title=\"Suggest charts\"\n",
              "                style=\"display:none;\">\n",
              "\n",
              "<svg xmlns=\"http://www.w3.org/2000/svg\" height=\"24px\"viewBox=\"0 0 24 24\"\n",
              "     width=\"24px\">\n",
              "    <g>\n",
              "        <path d=\"M19 3H5c-1.1 0-2 .9-2 2v14c0 1.1.9 2 2 2h14c1.1 0 2-.9 2-2V5c0-1.1-.9-2-2-2zM9 17H7v-7h2v7zm4 0h-2V7h2v10zm4 0h-2v-4h2v4z\"/>\n",
              "    </g>\n",
              "</svg>\n",
              "      </button>\n",
              "\n",
              "<style>\n",
              "  .colab-df-quickchart {\n",
              "      --bg-color: #E8F0FE;\n",
              "      --fill-color: #1967D2;\n",
              "      --hover-bg-color: #E2EBFA;\n",
              "      --hover-fill-color: #174EA6;\n",
              "      --disabled-fill-color: #AAA;\n",
              "      --disabled-bg-color: #DDD;\n",
              "  }\n",
              "\n",
              "  [theme=dark] .colab-df-quickchart {\n",
              "      --bg-color: #3B4455;\n",
              "      --fill-color: #D2E3FC;\n",
              "      --hover-bg-color: #434B5C;\n",
              "      --hover-fill-color: #FFFFFF;\n",
              "      --disabled-bg-color: #3B4455;\n",
              "      --disabled-fill-color: #666;\n",
              "  }\n",
              "\n",
              "  .colab-df-quickchart {\n",
              "    background-color: var(--bg-color);\n",
              "    border: none;\n",
              "    border-radius: 50%;\n",
              "    cursor: pointer;\n",
              "    display: none;\n",
              "    fill: var(--fill-color);\n",
              "    height: 32px;\n",
              "    padding: 0;\n",
              "    width: 32px;\n",
              "  }\n",
              "\n",
              "  .colab-df-quickchart:hover {\n",
              "    background-color: var(--hover-bg-color);\n",
              "    box-shadow: 0 1px 2px rgba(60, 64, 67, 0.3), 0 1px 3px 1px rgba(60, 64, 67, 0.15);\n",
              "    fill: var(--button-hover-fill-color);\n",
              "  }\n",
              "\n",
              "  .colab-df-quickchart-complete:disabled,\n",
              "  .colab-df-quickchart-complete:disabled:hover {\n",
              "    background-color: var(--disabled-bg-color);\n",
              "    fill: var(--disabled-fill-color);\n",
              "    box-shadow: none;\n",
              "  }\n",
              "\n",
              "  .colab-df-spinner {\n",
              "    border: 2px solid var(--fill-color);\n",
              "    border-color: transparent;\n",
              "    border-bottom-color: var(--fill-color);\n",
              "    animation:\n",
              "      spin 1s steps(1) infinite;\n",
              "  }\n",
              "\n",
              "  @keyframes spin {\n",
              "    0% {\n",
              "      border-color: transparent;\n",
              "      border-bottom-color: var(--fill-color);\n",
              "      border-left-color: var(--fill-color);\n",
              "    }\n",
              "    20% {\n",
              "      border-color: transparent;\n",
              "      border-left-color: var(--fill-color);\n",
              "      border-top-color: var(--fill-color);\n",
              "    }\n",
              "    30% {\n",
              "      border-color: transparent;\n",
              "      border-left-color: var(--fill-color);\n",
              "      border-top-color: var(--fill-color);\n",
              "      border-right-color: var(--fill-color);\n",
              "    }\n",
              "    40% {\n",
              "      border-color: transparent;\n",
              "      border-right-color: var(--fill-color);\n",
              "      border-top-color: var(--fill-color);\n",
              "    }\n",
              "    60% {\n",
              "      border-color: transparent;\n",
              "      border-right-color: var(--fill-color);\n",
              "    }\n",
              "    80% {\n",
              "      border-color: transparent;\n",
              "      border-right-color: var(--fill-color);\n",
              "      border-bottom-color: var(--fill-color);\n",
              "    }\n",
              "    90% {\n",
              "      border-color: transparent;\n",
              "      border-bottom-color: var(--fill-color);\n",
              "    }\n",
              "  }\n",
              "</style>\n",
              "\n",
              "      <script>\n",
              "        async function quickchart(key) {\n",
              "          const quickchartButtonEl =\n",
              "            document.querySelector('#' + key + ' button');\n",
              "          quickchartButtonEl.disabled = true;  // To prevent multiple clicks.\n",
              "          quickchartButtonEl.classList.add('colab-df-spinner');\n",
              "          try {\n",
              "            const charts = await google.colab.kernel.invokeFunction(\n",
              "                'suggestCharts', [key], {});\n",
              "          } catch (error) {\n",
              "            console.error('Error during call to suggestCharts:', error);\n",
              "          }\n",
              "          quickchartButtonEl.classList.remove('colab-df-spinner');\n",
              "          quickchartButtonEl.classList.add('colab-df-quickchart-complete');\n",
              "        }\n",
              "        (() => {\n",
              "          let quickchartButtonEl =\n",
              "            document.querySelector('#df-81981c5f-fd68-43a6-86bc-35f10ac6de97 button');\n",
              "          quickchartButtonEl.style.display =\n",
              "            google.colab.kernel.accessAllowed ? 'block' : 'none';\n",
              "        })();\n",
              "      </script>\n",
              "    </div>\n",
              "\n",
              "    </div>\n",
              "  </div>\n"
            ],
            "application/vnd.google.colaboratory.intrinsic+json": {
              "type": "dataframe",
              "summary": "{\n  \"name\": \"harness\",\n  \"rows\": 1994,\n  \"fields\": [\n    {\n      \"column\": \"category\",\n      \"properties\": {\n        \"dtype\": \"category\",\n        \"num_unique_values\": 1,\n        \"samples\": [\n          \"robustness\"\n        ],\n        \"semantic_type\": \"\",\n        \"description\": \"\"\n      }\n    },\n    {\n      \"column\": \"test_type\",\n      \"properties\": {\n        \"dtype\": \"category\",\n        \"num_unique_values\": 2,\n        \"samples\": [\n          \"uppercase\"\n        ],\n        \"semantic_type\": \"\",\n        \"description\": \"\"\n      }\n    },\n    {\n      \"column\": \"original\",\n      \"properties\": {\n        \"dtype\": \"string\",\n        \"num_unique_values\": 1000,\n        \"samples\": [\n          \"Irwin Allen's first venture into all star spectacle was one all star disaster. The Story of Mankind contains some of the most incredible casting decisions of all time. Virginia Mayo as the blond Cleopatra, Dennis Hopper chewing the scenery with Napoleon, Peter Lorre dining on the scenery for weeks as Nero, Marie Wilson as Marie Antoinette as a roadshow Marilyn Monroe, that's just some of them.<br /><br />The film also is known for being the last film which featured all three of the Marx Brothers though they all have different roles. Chico plays a monk who is Christopher Columbus's confidante, Groucho euchres the Indians out of Manhattan island as Peter Minuit, and most astonishing of all, Harpo Marx as Sir Isaac Newton who discovers gravity when an apple conks him on the bean. <br /><br />Holding all these portrayals together is a story where mankind itself is being judged. A super H Bomb is about to be discovered and let loose will do in the world's population. It's Judgement Day a coming.<br /><br />But mankind has its advocates and detractors. Speaking for the prosecution is Old Scratch who's been bringing the worst out in man for centuries in the form of Vincent Price. But man has his good side as well and who better than Ronald Colman to demonstrate man at his most civilized best. Colman and Price plead their case before The Judge played by Cedric Hardwicke. <br /><br />In those three individuals you have some of the finest speaking voices the English language ever knew. When the film is on them as they each bring out the exhibits for their case it's a pleasure to listen to. Then when the focus is on the individual stories, you want to scream in agony.<br /><br />What was Irwin Allen driving at, I'm still trying to figure it out. Was he deliberately camping it up with some of these casting decisions? If it was satire, it just doesn't get off the ground.<br /><br />This was Ronald Colman's farewell film and while it's hardly something I'd like to go out on, I can't think of any man who could have stated the case for civilization any better. <br /><br />So when you see The Story of Mankind, fast forward through some of the exhibits and treasure every moment the advocates are before the judge.\"\n        ],\n        \"semantic_type\": \"\",\n        \"description\": \"\"\n      }\n    },\n    {\n      \"column\": \"test_case\",\n      \"properties\": {\n        \"dtype\": \"string\",\n        \"num_unique_values\": 1994,\n        \"samples\": [\n          \"dumb is right: tom and jerry reach their goal of a non-stop air flight to africa but then worry about mixing in with the natives. they put on \\\"blackface,\\\" crash the plane, try to survive on an airplane wing floating in the ocean, and then survive the wild animals once they get on land<br /><br />having read a few reviews before seeing this, i knew what to expect. it was simply these two guys doing their amos and andy/stepin' fetchit impressions. offensive to blacks? of course, but that's the 1930s for you. some of their lines were funny, some were stupid. the main fault i had with this cartoon was the audio, as it was often not easy to understand what these two guys were saying.<br /><br />in all, a curiosity piece, but don't let the racism stop you from checking it out. at least it gives you an idea of how times have changed....for the better.\"\n        ],\n        \"semantic_type\": \"\",\n        \"description\": \"\"\n      }\n    }\n  ]\n}"
            }
          },
          "metadata": {},
          "execution_count": 32
        }
      ],
      "source": [
        "harness.testcases()"
      ]
    },
    {
      "cell_type": "markdown",
      "metadata": {
        "id": "1WtdwEZL8DRJ"
      },
      "source": [
        "### Running the tests"
      ]
    },
    {
      "cell_type": "code",
      "execution_count": null,
      "metadata": {
        "execution": {
          "iopub.execute_input": "2023-08-18T08:36:49.746773Z",
          "iopub.status.busy": "2023-08-18T08:36:49.746488Z",
          "iopub.status.idle": "2023-08-18T08:43:46.342574Z",
          "shell.execute_reply": "2023-08-18T08:43:46.342065Z",
          "shell.execute_reply.started": "2023-08-18T08:36:49.746756Z"
        },
        "id": "0Nic5HRZEJu5",
        "tags": [],
        "colab": {
          "base_uri": "https://localhost:8080/",
          "height": 49,
          "referenced_widgets": [
            "68154dc86b7c4f66944eaa1b94b06c83",
            "b3639ef3b3be4576860e570202964b49",
            "451fc9527e474d8eb0beadab95491681",
            "6f3d54dfa95240aa955e311894b26614",
            "e4e3cc7920dc470689738e84ece691dc",
            "cfcbd52dba3e4d38a47c4cc062ac0a23",
            "5abc23af1ed04acf8f424e1a1e1b4952",
            "a705bad2768340cb9830fc81e15f5012",
            "cb329a4158fb49a7b0e57511e5847f7f",
            "33f95c9b4ed84fb4b38e2cfacc7ef53d",
            "0a0281fae87f48e3aef5583ffd8cee59"
          ]
        },
        "outputId": "39b0f47d-cff0-4ba7-8cf3-635c3cde7c1a"
      },
      "outputs": [
        {
          "output_type": "display_data",
          "data": {
            "text/plain": [
              "Running testcases... :   0%|          | 0/1994 [00:00<?, ?it/s]"
            ],
            "application/vnd.jupyter.widget-view+json": {
              "version_major": 2,
              "version_minor": 0,
              "model_id": "68154dc86b7c4f66944eaa1b94b06c83"
            }
          },
          "metadata": {}
        }
      ],
      "source": [
        "harness.run()"
      ]
    },
    {
      "cell_type": "code",
      "execution_count": null,
      "metadata": {
        "execution": {
          "iopub.execute_input": "2023-08-18T08:43:46.343358Z",
          "iopub.status.busy": "2023-08-18T08:43:46.343191Z",
          "iopub.status.idle": "2023-08-18T08:43:46.363868Z",
          "shell.execute_reply": "2023-08-18T08:43:46.363322Z",
          "shell.execute_reply.started": "2023-08-18T08:43:46.343343Z"
        },
        "id": "BjZc-ZcCELbU",
        "tags": []
      },
      "outputs": [],
      "source": [
        "harness.generated_results()"
      ]
    },
    {
      "cell_type": "markdown",
      "metadata": {
        "id": "aQw2X-IG8DRK"
      },
      "source": [
        "\n",
        "\n",
        "### Reporte Final\n",
        "\n",
        "Gerando o Resumo dos Resultados\n",
        "\n",
        "Podemos chamar o método .report(), que resume os resultados dos testes e fornece informações como:\n",
        "\n",
        "Número de testes aprovados (pass)\n",
        "\n",
        "Número de testes reprovados (fail)\n",
        "\n",
        "Indicador geral de aprovação/reprovação do conjunto de testes"
      ]
    },
    {
      "cell_type": "code",
      "execution_count": null,
      "metadata": {
        "execution": {
          "iopub.execute_input": "2023-08-18T08:43:46.364740Z",
          "iopub.status.busy": "2023-08-18T08:43:46.364414Z",
          "iopub.status.idle": "2023-08-18T08:43:46.446259Z",
          "shell.execute_reply": "2023-08-18T08:43:46.445622Z",
          "shell.execute_reply.started": "2023-08-18T08:43:46.364725Z"
        },
        "id": "PlrAxK1eENmh",
        "tags": []
      },
      "outputs": [],
      "source": [
        "harness.report()"
      ]
    },
    {
      "cell_type": "markdown",
      "metadata": {
        "id": "emrRp2vlF1T1"
      },
      "source": [
        "# HuggingFace Datasets Testing For `NER`\n",
        "\n",
        "In this section, we dive into testing of HuggingFace Models for wikiann dataset prepared for ner tasks."
      ]
    },
    {
      "cell_type": "markdown",
      "metadata": {
        "id": "adFNsKYxxzpj"
      },
      "source": [
        "`for ner it's important to note that the default values for the split, feature_column, and target_column attributes are \"test\", \"tokens\", and \"ner_tags\", respectively.`"
      ]
    },
    {
      "cell_type": "markdown",
      "metadata": {
        "id": "EsCtdb6cF9IN"
      },
      "source": [
        "## wikiann - Dataset Testing\n",
        "-------------------"
      ]
    },
    {
      "cell_type": "markdown",
      "metadata": {
        "id": "a8iyGKP5mKR9"
      },
      "source": [
        "### Setup and configure harness"
      ]
    },
    {
      "cell_type": "code",
      "execution_count": null,
      "metadata": {
        "tags": [],
        "id": "eCKAF-D9xzpj"
      },
      "outputs": [],
      "source": [
        "!pip install langtest[spacy]"
      ]
    },
    {
      "cell_type": "code",
      "execution_count": null,
      "metadata": {
        "execution": {
          "iopub.execute_input": "2023-08-18T08:45:55.968722Z",
          "iopub.status.busy": "2023-08-18T08:45:55.968359Z",
          "iopub.status.idle": "2023-08-18T08:46:00.444348Z",
          "shell.execute_reply": "2023-08-18T08:46:00.443762Z",
          "shell.execute_reply.started": "2023-08-18T08:45:55.968699Z"
        },
        "id": "8WMCEFwT_d1P",
        "tags": []
      },
      "outputs": [],
      "source": [
        "harness = Harness(task=\"ner\",\n",
        "                  model={\"model\": \"en_core_web_sm\", \"hub\": \"spacy\"},\n",
        "                  data={\"data_source\":'wikiann',\n",
        "                  \"subset\":\"en\",\n",
        "                  \"feature_column\":\"tokens\",\n",
        "                  \"target_column\":'ner_tags',\n",
        "                  \"split\":\"test\",\n",
        "                  \"source\": \"huggingface\"\n",
        "                  })"
      ]
    },
    {
      "cell_type": "markdown",
      "metadata": {
        "id": "-BCYhNwWmKR_"
      },
      "source": [
        "### Configure the Tests\n",
        "We can use the .configure() method to manually configure the tests we want to perform."
      ]
    },
    {
      "cell_type": "code",
      "execution_count": null,
      "metadata": {
        "execution": {
          "iopub.execute_input": "2023-08-18T08:46:00.445661Z",
          "iopub.status.busy": "2023-08-18T08:46:00.445284Z",
          "iopub.status.idle": "2023-08-18T08:46:00.449341Z",
          "shell.execute_reply": "2023-08-18T08:46:00.448918Z",
          "shell.execute_reply.started": "2023-08-18T08:46:00.445644Z"
        },
        "id": "UPRnq_wOmKSB",
        "tags": []
      },
      "outputs": [],
      "source": [
        "harness.configure(\n",
        "{\n",
        " 'tests': {'defaults': {'min_pass_rate': 0.65},\n",
        "           'robustness': {'uppercase': {'min_pass_rate': 0.66},\n",
        "                          'lowercase':{'min_pass_rate': 0.60},\n",
        "                        }\n",
        "          }\n",
        " }\n",
        " )"
      ]
    },
    {
      "cell_type": "markdown",
      "metadata": {
        "id": "AQ6udkzZmKSD"
      },
      "source": [
        "Here we have configured the harness to perform two robustness tests (uppercase and lowercase) and defined the minimum pass rate for each test."
      ]
    },
    {
      "cell_type": "markdown",
      "metadata": {
        "id": "DCdKzyLvmKSE"
      },
      "source": [
        "### Generating the test cases."
      ]
    },
    {
      "cell_type": "code",
      "execution_count": null,
      "metadata": {
        "execution": {
          "iopub.execute_input": "2023-08-18T08:46:00.450289Z",
          "iopub.status.busy": "2023-08-18T08:46:00.449889Z",
          "iopub.status.idle": "2023-08-18T08:46:36.135861Z",
          "shell.execute_reply": "2023-08-18T08:46:36.135231Z",
          "shell.execute_reply.started": "2023-08-18T08:46:00.450272Z"
        },
        "id": "DwovrZ2RmKSE",
        "tags": []
      },
      "outputs": [],
      "source": [
        "harness.generate()"
      ]
    },
    {
      "cell_type": "markdown",
      "metadata": {
        "id": "krPA0iD6mKSF"
      },
      "source": [
        "harness.generate() method automatically generates the test cases (based on the provided configuration)"
      ]
    },
    {
      "cell_type": "code",
      "execution_count": null,
      "metadata": {
        "execution": {
          "iopub.execute_input": "2023-08-18T08:46:36.137248Z",
          "iopub.status.busy": "2023-08-18T08:46:36.136937Z",
          "iopub.status.idle": "2023-08-18T08:46:36.212396Z",
          "shell.execute_reply": "2023-08-18T08:46:36.211771Z",
          "shell.execute_reply.started": "2023-08-18T08:46:36.137230Z"
        },
        "id": "B_28ohbRmKSG",
        "tags": []
      },
      "outputs": [],
      "source": [
        "harness.testcases()"
      ]
    },
    {
      "cell_type": "markdown",
      "metadata": {
        "id": "lXXWAFXMmKSH"
      },
      "source": [
        "### Running the tests"
      ]
    },
    {
      "cell_type": "code",
      "execution_count": null,
      "metadata": {
        "execution": {
          "iopub.execute_input": "2023-08-18T08:46:36.213173Z",
          "iopub.status.busy": "2023-08-18T08:46:36.213020Z",
          "iopub.status.idle": "2023-08-18T08:48:57.254702Z",
          "shell.execute_reply": "2023-08-18T08:48:57.254236Z",
          "shell.execute_reply.started": "2023-08-18T08:46:36.213158Z"
        },
        "id": "zag80L4omKSI",
        "tags": []
      },
      "outputs": [],
      "source": [
        "harness.run()"
      ]
    },
    {
      "cell_type": "markdown",
      "metadata": {
        "id": "tDk9zelMmKSI"
      },
      "source": [
        "Called after harness.generate() and is to used to run all the tests.  Returns a pass/fail flag for each test."
      ]
    },
    {
      "cell_type": "markdown",
      "metadata": {
        "id": "PTSRFn4lmKSJ"
      },
      "source": [
        "### Generated Results"
      ]
    },
    {
      "cell_type": "code",
      "execution_count": null,
      "metadata": {
        "execution": {
          "iopub.execute_input": "2023-08-18T08:48:57.255585Z",
          "iopub.status.busy": "2023-08-18T08:48:57.255422Z",
          "iopub.status.idle": "2023-08-18T08:48:57.538847Z",
          "shell.execute_reply": "2023-08-18T08:48:57.538251Z",
          "shell.execute_reply.started": "2023-08-18T08:48:57.255569Z"
        },
        "id": "QbPwmtuimKSK",
        "tags": []
      },
      "outputs": [],
      "source": [
        "harness.generated_results()"
      ]
    },
    {
      "cell_type": "markdown",
      "metadata": {
        "id": "CAlHR3NzmKSK"
      },
      "source": [
        "This method returns the generated results in the form of a pandas dataframe, which provides a convenient and easy-to-use format for working with the test results. You can use this method to quickly identify the test cases that failed and to determine where fixes are needed."
      ]
    },
    {
      "cell_type": "markdown",
      "metadata": {
        "id": "W5txhrE4mKSL"
      },
      "source": [
        "### Report of the tests"
      ]
    },
    {
      "cell_type": "markdown",
      "metadata": {
        "id": "Zzh0-4_ImKSL"
      },
      "source": [
        "We can call `.report()` which summarizes the results giving information about pass and fail counts and overall test pass/fail flag."
      ]
    },
    {
      "cell_type": "code",
      "execution_count": null,
      "metadata": {
        "execution": {
          "iopub.execute_input": "2023-08-18T08:48:57.540041Z",
          "iopub.status.busy": "2023-08-18T08:48:57.539810Z",
          "iopub.status.idle": "2023-08-18T08:48:57.748692Z",
          "shell.execute_reply": "2023-08-18T08:48:57.748138Z",
          "shell.execute_reply.started": "2023-08-18T08:48:57.540022Z"
        },
        "id": "_xmLbGHvmKSM",
        "tags": []
      },
      "outputs": [],
      "source": [
        "harness.report()"
      ]
    },
    {
      "cell_type": "markdown",
      "metadata": {
        "id": "Qre0JDvUmKSN"
      },
      "source": [
        "# HuggingFace Datasets Testing For `summarization`\n",
        "\n",
        "In this section, we dive into testing of HuggingFace Models for different HuggingFace Datasets."
      ]
    },
    {
      "cell_type": "markdown",
      "metadata": {
        "id": "nzFSFfAvxzpl"
      },
      "source": [
        "`for summarization it's important to note that the default values for the split, feature_column, and target_column attributes are \"test\", \"document\", and \"summary\", respectively.`"
      ]
    },
    {
      "cell_type": "markdown",
      "metadata": {
        "id": "sru9AxohmKSO"
      },
      "source": [
        "## samsum - Dataset Testing\n",
        "-------------------"
      ]
    },
    {
      "cell_type": "markdown",
      "metadata": {
        "id": "DccEyRLjmKSO"
      },
      "source": [
        "### Installing required dependencies"
      ]
    },
    {
      "cell_type": "code",
      "execution_count": null,
      "metadata": {
        "id": "Ruo2HADdmKSP",
        "tags": []
      },
      "outputs": [],
      "source": [
        "!pip install \"langtest[evaluate,openai,transformers]\""
      ]
    },
    {
      "cell_type": "markdown",
      "metadata": {
        "id": "vzC8J9SxFnqP"
      },
      "source": [
        "### Set environment for OpenAI"
      ]
    },
    {
      "cell_type": "code",
      "execution_count": null,
      "metadata": {
        "execution": {
          "iopub.execute_input": "2023-08-18T08:50:02.297602Z",
          "iopub.status.busy": "2023-08-18T08:50:02.297058Z",
          "iopub.status.idle": "2023-08-18T08:50:02.300840Z",
          "shell.execute_reply": "2023-08-18T08:50:02.300159Z",
          "shell.execute_reply.started": "2023-08-18T08:50:02.297575Z"
        },
        "id": "rNeyF-FC_j82",
        "tags": []
      },
      "outputs": [],
      "source": [
        "import os\n",
        "\n",
        "os.environ[\"OPENAI_API_KEY\"] = \"<YOUR_API_KEY>\""
      ]
    },
    {
      "cell_type": "markdown",
      "metadata": {
        "id": "B01bfV9pFhg-"
      },
      "source": [
        "### Setup and configure harness"
      ]
    },
    {
      "cell_type": "code",
      "execution_count": null,
      "metadata": {
        "tags": [],
        "id": "_BnF1ojoxzpl"
      },
      "outputs": [],
      "source": [
        "pip install py7zr"
      ]
    },
    {
      "cell_type": "code",
      "execution_count": null,
      "metadata": {
        "execution": {
          "iopub.execute_input": "2023-08-18T08:51:40.384176Z",
          "iopub.status.busy": "2023-08-18T08:51:40.383865Z",
          "iopub.status.idle": "2023-08-18T08:51:41.070910Z",
          "shell.execute_reply": "2023-08-18T08:51:41.070329Z",
          "shell.execute_reply.started": "2023-08-18T08:51:40.384157Z"
        },
        "id": "eMatKz4ZmKSU",
        "tags": []
      },
      "outputs": [],
      "source": [
        "harness = Harness(task=\"summarization\",\n",
        "                  model= {\"model\":\"gpt-3.5-turbo-instruct\", \"hub\":\"openai\"},\n",
        "                  data={\"data_source\":'samsum',\n",
        "                  \"feature_column\":\"dialogue\",\n",
        "                  \"target_column\":'summary',\n",
        "                  \"split\":\"test\",\n",
        "                  \"source\": \"huggingface\"\n",
        "                  })"
      ]
    },
    {
      "cell_type": "markdown",
      "metadata": {
        "id": "qRtXmy4GFXwP"
      },
      "source": [
        "### Configure the Tests\n",
        "We can use the .configure() method to manually configure the tests we want to perform."
      ]
    },
    {
      "cell_type": "code",
      "execution_count": null,
      "metadata": {
        "execution": {
          "iopub.execute_input": "2023-08-18T08:51:44.422437Z",
          "iopub.status.busy": "2023-08-18T08:51:44.421788Z",
          "iopub.status.idle": "2023-08-18T08:51:44.427788Z",
          "shell.execute_reply": "2023-08-18T08:51:44.427253Z",
          "shell.execute_reply.started": "2023-08-18T08:51:44.422419Z"
        },
        "id": "dhmCGPALAPJv",
        "tags": []
      },
      "outputs": [],
      "source": [
        "harness.configure(\n",
        "{\n",
        " 'tests': {'defaults': {'min_pass_rate': 0.65},\n",
        "           'robustness': {'uppercase': {'min_pass_rate': 0.66},\n",
        "                          'lowercase':{'min_pass_rate': 0.60},\n",
        "                        }\n",
        "          }\n",
        " }\n",
        " )"
      ]
    },
    {
      "cell_type": "markdown",
      "metadata": {
        "id": "qoAgrQQbGMC2"
      },
      "source": [
        "Here we have configured the harness to perform two robustness tests (uppercase and lowercase) and defined the minimum pass rate for each test."
      ]
    },
    {
      "cell_type": "code",
      "execution_count": null,
      "metadata": {
        "execution": {
          "iopub.execute_input": "2023-08-18T08:51:56.051388Z",
          "iopub.status.busy": "2023-08-18T08:51:56.050919Z",
          "iopub.status.idle": "2023-08-18T08:51:56.054456Z",
          "shell.execute_reply": "2023-08-18T08:51:56.053874Z",
          "shell.execute_reply.started": "2023-08-18T08:51:56.051367Z"
        },
        "id": "PYQGX2OdBDd1",
        "tags": []
      },
      "outputs": [],
      "source": [
        "harness.data=harness.data[0:20]"
      ]
    },
    {
      "cell_type": "markdown",
      "metadata": {
        "id": "jtHbCs1kFNYn"
      },
      "source": [
        "### Generating the test cases."
      ]
    },
    {
      "cell_type": "code",
      "execution_count": null,
      "metadata": {
        "execution": {
          "iopub.execute_input": "2023-08-18T08:51:57.934841Z",
          "iopub.status.busy": "2023-08-18T08:51:57.934384Z",
          "iopub.status.idle": "2023-08-18T08:51:57.944729Z",
          "shell.execute_reply": "2023-08-18T08:51:57.944294Z",
          "shell.execute_reply.started": "2023-08-18T08:51:57.934821Z"
        },
        "id": "LxqMY_FjA_Pp",
        "tags": []
      },
      "outputs": [],
      "source": [
        "harness.generate()"
      ]
    },
    {
      "cell_type": "markdown",
      "metadata": {
        "id": "N-jdxDdBFKgl"
      },
      "source": [
        "harness.generate() method automatically generates the test cases (based on the provided configuration)"
      ]
    },
    {
      "cell_type": "code",
      "execution_count": null,
      "metadata": {
        "execution": {
          "iopub.execute_input": "2023-08-18T08:52:01.152880Z",
          "iopub.status.busy": "2023-08-18T08:52:01.152407Z",
          "iopub.status.idle": "2023-08-18T08:52:01.164845Z",
          "shell.execute_reply": "2023-08-18T08:52:01.164371Z",
          "shell.execute_reply.started": "2023-08-18T08:52:01.152859Z"
        },
        "id": "Yo5Q6VfVBASF",
        "tags": []
      },
      "outputs": [],
      "source": [
        "harness.testcases()"
      ]
    },
    {
      "cell_type": "markdown",
      "metadata": {
        "id": "q-KYrFMWGSw1"
      },
      "source": [
        "harness.testcases() method displays the produced test cases in form of a pandas data frame."
      ]
    },
    {
      "cell_type": "markdown",
      "metadata": {
        "id": "SkHPaAN7FBSG"
      },
      "source": [
        "### Running the tests"
      ]
    },
    {
      "cell_type": "code",
      "execution_count": null,
      "metadata": {
        "execution": {
          "iopub.execute_input": "2023-08-18T08:52:04.610377Z",
          "iopub.status.busy": "2023-08-18T08:52:04.609828Z",
          "iopub.status.idle": "2023-08-18T08:53:59.408343Z",
          "shell.execute_reply": "2023-08-18T08:53:59.407887Z",
          "shell.execute_reply.started": "2023-08-18T08:52:04.610359Z"
        },
        "id": "Pvqtr_G7BBR0",
        "tags": []
      },
      "outputs": [],
      "source": [
        "harness.run()"
      ]
    },
    {
      "cell_type": "markdown",
      "metadata": {
        "id": "eQ_ufKmrGVqt"
      },
      "source": [
        "Called after harness.generate() and is to used to run all the tests.  Returns a pass/fail flag for each test."
      ]
    },
    {
      "cell_type": "markdown",
      "metadata": {
        "id": "FpG0SFmnE7Nt"
      },
      "source": [
        "### Generated Results"
      ]
    },
    {
      "cell_type": "code",
      "execution_count": null,
      "metadata": {
        "execution": {
          "iopub.execute_input": "2023-08-18T08:53:59.409320Z",
          "iopub.status.busy": "2023-08-18T08:53:59.409020Z",
          "iopub.status.idle": "2023-08-18T08:54:10.472575Z",
          "shell.execute_reply": "2023-08-18T08:54:10.472116Z",
          "shell.execute_reply.started": "2023-08-18T08:53:59.409304Z"
        },
        "id": "CFXsxZHJDKtj",
        "tags": []
      },
      "outputs": [],
      "source": [
        "harness.generated_results()"
      ]
    },
    {
      "cell_type": "markdown",
      "metadata": {
        "id": "WBda2qn1GaLl"
      },
      "source": [
        "This method returns the generated results in the form of a pandas dataframe, which provides a convenient and easy-to-use format for working with the test results. You can use this method to quickly identify the test cases that failed and to determine where fixes are needed."
      ]
    },
    {
      "cell_type": "markdown",
      "metadata": {
        "id": "3Ko-gZISE3oW"
      },
      "source": [
        "### Report of the tests"
      ]
    },
    {
      "cell_type": "markdown",
      "metadata": {
        "id": "Ir8VwGYzGdE1"
      },
      "source": [
        "We can call `.report()` which summarizes the results giving information about pass and fail counts and overall test pass/fail flag."
      ]
    },
    {
      "cell_type": "code",
      "execution_count": null,
      "metadata": {
        "execution": {
          "iopub.execute_input": "2023-08-18T08:54:10.473748Z",
          "iopub.status.busy": "2023-08-18T08:54:10.473529Z",
          "iopub.status.idle": "2023-08-18T08:54:18.735783Z",
          "shell.execute_reply": "2023-08-18T08:54:18.735334Z",
          "shell.execute_reply.started": "2023-08-18T08:54:10.473731Z"
        },
        "id": "qu5TUU2kE0nb",
        "tags": []
      },
      "outputs": [],
      "source": [
        "harness.report()"
      ]
    },
    {
      "cell_type": "markdown",
      "metadata": {
        "id": "Iz3QvZs6xzpn"
      },
      "source": [
        "# HuggingFace Datasets Testing For `Question Answering`\n",
        "\n",
        "In this section, we dive into testing of OpenAI models in Question Answering task.\n",
        "\n",
        "LangTest supports robustness tests for LLM testing for now."
      ]
    },
    {
      "cell_type": "markdown",
      "metadata": {
        "id": "j6S0pjVAxzpn"
      },
      "source": [
        "For question-answering, it's crucial to be aware of the default attribute values:\n",
        "\n",
        "- `split` is set to \"test\" by default.\n",
        "- `feature_column` is `{\"passage\": \"context\", \"question\": \"question\"}` by default.\n",
        "- `target_column` is \"answer\" by default.\n"
      ]
    },
    {
      "cell_type": "code",
      "execution_count": null,
      "metadata": {
        "id": "0U85uAobxzpn"
      },
      "outputs": [],
      "source": [
        "import os\n",
        "\n",
        "os.environ[\"OPENAI_API_KEY\"] = \"<YOUR_API_KEY>\""
      ]
    },
    {
      "cell_type": "markdown",
      "metadata": {
        "id": "Xloh_1cHxzpn"
      },
      "source": [
        "### Setup and Configure Harness"
      ]
    },
    {
      "cell_type": "code",
      "execution_count": null,
      "metadata": {
        "id": "cSu85-ABxzpn"
      },
      "outputs": [],
      "source": [
        "harness = Harness(task=\"question-answering\",\n",
        "                  model={\"model\":\"gpt-3.5-turbo-instruct\",\"hub\":\"openai\"},\n",
        "                  data={\"data_source\":'LangChainDatasets/sql-qa-chinook',\n",
        "                  \"feature_column\":{\"question\": \"question\"},\n",
        "                  \"target_column\":\"answer\",\n",
        "                  \"split\":\"train\",\n",
        "                  \"source\": \"huggingface\"\n",
        "                  })"
      ]
    },
    {
      "cell_type": "code",
      "execution_count": null,
      "metadata": {
        "id": "UeUxoHPnxzpn"
      },
      "outputs": [],
      "source": [
        "harness.configure({\n",
        "    \"tests\":{\n",
        "        \"defaults\":{\"min_pass_rate\":0.5},\n",
        "        \"robustness\":{\n",
        "            \"add_typo\":{\"min_pass_rate\":0.7},\n",
        "            \"lowercase\":{\"min_pass_rate\":0.7},\n",
        "        }\n",
        "    }\n",
        "})"
      ]
    },
    {
      "cell_type": "code",
      "execution_count": null,
      "metadata": {
        "id": "jChv-We3xzpo"
      },
      "outputs": [],
      "source": [
        "harness.data=harness.data[:10]"
      ]
    },
    {
      "cell_type": "markdown",
      "metadata": {
        "id": "4YzVSMcIxzpo"
      },
      "source": [
        "### Generating the test cases."
      ]
    },
    {
      "cell_type": "code",
      "execution_count": null,
      "metadata": {
        "id": "aylfVz2kxzpo"
      },
      "outputs": [],
      "source": [
        "harness.generate()"
      ]
    },
    {
      "cell_type": "code",
      "execution_count": null,
      "metadata": {
        "id": "hedklGHIxzpo"
      },
      "outputs": [],
      "source": [
        "harness.testcases()"
      ]
    },
    {
      "cell_type": "markdown",
      "metadata": {
        "id": "ocs48h3uxzpo"
      },
      "source": [
        "harness.generate() method automatically generates the test cases (based on the provided configuration)"
      ]
    },
    {
      "cell_type": "markdown",
      "metadata": {
        "id": "iAw2KaZwxzpo"
      },
      "source": [
        "### Running the tests"
      ]
    },
    {
      "cell_type": "code",
      "execution_count": null,
      "metadata": {
        "id": "Rru8tWfTxzpo"
      },
      "outputs": [],
      "source": [
        "harness.run()"
      ]
    },
    {
      "cell_type": "markdown",
      "metadata": {
        "id": "pZqiB9RFxzpo"
      },
      "source": [
        "Called after harness.generate() and is to used to run all the tests.  Returns a pass/fail flag for each test."
      ]
    },
    {
      "cell_type": "markdown",
      "metadata": {
        "id": "BUEzirJLxzpo"
      },
      "source": [
        "### Generated Results"
      ]
    },
    {
      "cell_type": "code",
      "execution_count": null,
      "metadata": {
        "id": "oTjyxuDVxzpo"
      },
      "outputs": [],
      "source": [
        "harness.generated_results()"
      ]
    },
    {
      "cell_type": "markdown",
      "metadata": {
        "id": "BTyYqL6hxzpo"
      },
      "source": [
        "This method returns the generated results in the form of a pandas dataframe, which provides a convenient and easy-to-use format for working with the test results. You can use this method to quickly identify the test cases that failed and to determine where fixes are needed."
      ]
    },
    {
      "cell_type": "markdown",
      "metadata": {
        "id": "LQKQUp0Oxzpo"
      },
      "source": [
        "### Final Results\n",
        "\n",
        "We can call `.report()` which summarizes the results giving information about pass and fail counts and overall test pass/fail flag."
      ]
    },
    {
      "cell_type": "code",
      "execution_count": null,
      "metadata": {
        "id": "G8chKEwkxzpp"
      },
      "outputs": [],
      "source": [
        "harness.report()"
      ]
    }
  ],
  "metadata": {
    "accelerator": "TPU",
    "colab": {
      "provenance": [],
      "toc_visible": true,
      "gpuType": "V5E1"
    },
    "kernelspec": {
      "display_name": "Python 3",
      "name": "python3"
    },
    "language_info": {
      "codemirror_mode": {
        "name": "ipython",
        "version": 3
      },
      "file_extension": ".py",
      "mimetype": "text/x-python",
      "name": "python",
      "nbconvert_exporter": "python",
      "pygments_lexer": "ipython3",
      "version": "3.11.4"
    },
    "widgets": {
      "application/vnd.jupyter.widget-state+json": {
        "e96fccc31e8d4a4382d5986ba8c13a21": {
          "model_module": "@jupyter-widgets/controls",
          "model_name": "HBoxModel",
          "model_module_version": "1.5.0",
          "state": {
            "_dom_classes": [],
            "_model_module": "@jupyter-widgets/controls",
            "_model_module_version": "1.5.0",
            "_model_name": "HBoxModel",
            "_view_count": null,
            "_view_module": "@jupyter-widgets/controls",
            "_view_module_version": "1.5.0",
            "_view_name": "HBoxView",
            "box_style": "",
            "children": [
              "IPY_MODEL_dc0162870f01447da62f63d28a24d601",
              "IPY_MODEL_ca406b6be01847059c079d8d2d2959f2",
              "IPY_MODEL_e165ac0c8d6e4a59a5712a1dc60e9997"
            ],
            "layout": "IPY_MODEL_56588b585425412890b450b4ef3c5e75"
          }
        },
        "dc0162870f01447da62f63d28a24d601": {
          "model_module": "@jupyter-widgets/controls",
          "model_name": "HTMLModel",
          "model_module_version": "1.5.0",
          "state": {
            "_dom_classes": [],
            "_model_module": "@jupyter-widgets/controls",
            "_model_module_version": "1.5.0",
            "_model_name": "HTMLModel",
            "_view_count": null,
            "_view_module": "@jupyter-widgets/controls",
            "_view_module_version": "1.5.0",
            "_view_name": "HTMLView",
            "description": "",
            "description_tooltip": null,
            "layout": "IPY_MODEL_eb4a04113b9441c99d2a24c8ae8c7983",
            "placeholder": "​",
            "style": "IPY_MODEL_607565d3308a435aa2353b2ea70a5108",
            "value": "Generating testcases...: 100%"
          }
        },
        "ca406b6be01847059c079d8d2d2959f2": {
          "model_module": "@jupyter-widgets/controls",
          "model_name": "FloatProgressModel",
          "model_module_version": "1.5.0",
          "state": {
            "_dom_classes": [],
            "_model_module": "@jupyter-widgets/controls",
            "_model_module_version": "1.5.0",
            "_model_name": "FloatProgressModel",
            "_view_count": null,
            "_view_module": "@jupyter-widgets/controls",
            "_view_module_version": "1.5.0",
            "_view_name": "ProgressView",
            "bar_style": "success",
            "description": "",
            "description_tooltip": null,
            "layout": "IPY_MODEL_9a05233a52914e9d9b133beaa8273e2e",
            "max": 1,
            "min": 0,
            "orientation": "horizontal",
            "style": "IPY_MODEL_5e6af793f4df41358abd1629cebf1748",
            "value": 1
          }
        },
        "e165ac0c8d6e4a59a5712a1dc60e9997": {
          "model_module": "@jupyter-widgets/controls",
          "model_name": "HTMLModel",
          "model_module_version": "1.5.0",
          "state": {
            "_dom_classes": [],
            "_model_module": "@jupyter-widgets/controls",
            "_model_module_version": "1.5.0",
            "_model_name": "HTMLModel",
            "_view_count": null,
            "_view_module": "@jupyter-widgets/controls",
            "_view_module_version": "1.5.0",
            "_view_name": "HTMLView",
            "description": "",
            "description_tooltip": null,
            "layout": "IPY_MODEL_0714a6719e5b4d078187ec70faf72981",
            "placeholder": "​",
            "style": "IPY_MODEL_e85b4b15aceb450a932445663dd34737",
            "value": " 1/1 [00:00&lt;00:00, 81.18it/s]"
          }
        },
        "56588b585425412890b450b4ef3c5e75": {
          "model_module": "@jupyter-widgets/base",
          "model_name": "LayoutModel",
          "model_module_version": "1.2.0",
          "state": {
            "_model_module": "@jupyter-widgets/base",
            "_model_module_version": "1.2.0",
            "_model_name": "LayoutModel",
            "_view_count": null,
            "_view_module": "@jupyter-widgets/base",
            "_view_module_version": "1.2.0",
            "_view_name": "LayoutView",
            "align_content": null,
            "align_items": null,
            "align_self": null,
            "border": null,
            "bottom": null,
            "display": null,
            "flex": null,
            "flex_flow": null,
            "grid_area": null,
            "grid_auto_columns": null,
            "grid_auto_flow": null,
            "grid_auto_rows": null,
            "grid_column": null,
            "grid_gap": null,
            "grid_row": null,
            "grid_template_areas": null,
            "grid_template_columns": null,
            "grid_template_rows": null,
            "height": null,
            "justify_content": null,
            "justify_items": null,
            "left": null,
            "margin": null,
            "max_height": null,
            "max_width": null,
            "min_height": null,
            "min_width": null,
            "object_fit": null,
            "object_position": null,
            "order": null,
            "overflow": null,
            "overflow_x": null,
            "overflow_y": null,
            "padding": null,
            "right": null,
            "top": null,
            "visibility": null,
            "width": null
          }
        },
        "eb4a04113b9441c99d2a24c8ae8c7983": {
          "model_module": "@jupyter-widgets/base",
          "model_name": "LayoutModel",
          "model_module_version": "1.2.0",
          "state": {
            "_model_module": "@jupyter-widgets/base",
            "_model_module_version": "1.2.0",
            "_model_name": "LayoutModel",
            "_view_count": null,
            "_view_module": "@jupyter-widgets/base",
            "_view_module_version": "1.2.0",
            "_view_name": "LayoutView",
            "align_content": null,
            "align_items": null,
            "align_self": null,
            "border": null,
            "bottom": null,
            "display": null,
            "flex": null,
            "flex_flow": null,
            "grid_area": null,
            "grid_auto_columns": null,
            "grid_auto_flow": null,
            "grid_auto_rows": null,
            "grid_column": null,
            "grid_gap": null,
            "grid_row": null,
            "grid_template_areas": null,
            "grid_template_columns": null,
            "grid_template_rows": null,
            "height": null,
            "justify_content": null,
            "justify_items": null,
            "left": null,
            "margin": null,
            "max_height": null,
            "max_width": null,
            "min_height": null,
            "min_width": null,
            "object_fit": null,
            "object_position": null,
            "order": null,
            "overflow": null,
            "overflow_x": null,
            "overflow_y": null,
            "padding": null,
            "right": null,
            "top": null,
            "visibility": null,
            "width": null
          }
        },
        "607565d3308a435aa2353b2ea70a5108": {
          "model_module": "@jupyter-widgets/controls",
          "model_name": "DescriptionStyleModel",
          "model_module_version": "1.5.0",
          "state": {
            "_model_module": "@jupyter-widgets/controls",
            "_model_module_version": "1.5.0",
            "_model_name": "DescriptionStyleModel",
            "_view_count": null,
            "_view_module": "@jupyter-widgets/base",
            "_view_module_version": "1.2.0",
            "_view_name": "StyleView",
            "description_width": ""
          }
        },
        "9a05233a52914e9d9b133beaa8273e2e": {
          "model_module": "@jupyter-widgets/base",
          "model_name": "LayoutModel",
          "model_module_version": "1.2.0",
          "state": {
            "_model_module": "@jupyter-widgets/base",
            "_model_module_version": "1.2.0",
            "_model_name": "LayoutModel",
            "_view_count": null,
            "_view_module": "@jupyter-widgets/base",
            "_view_module_version": "1.2.0",
            "_view_name": "LayoutView",
            "align_content": null,
            "align_items": null,
            "align_self": null,
            "border": null,
            "bottom": null,
            "display": null,
            "flex": null,
            "flex_flow": null,
            "grid_area": null,
            "grid_auto_columns": null,
            "grid_auto_flow": null,
            "grid_auto_rows": null,
            "grid_column": null,
            "grid_gap": null,
            "grid_row": null,
            "grid_template_areas": null,
            "grid_template_columns": null,
            "grid_template_rows": null,
            "height": null,
            "justify_content": null,
            "justify_items": null,
            "left": null,
            "margin": null,
            "max_height": null,
            "max_width": null,
            "min_height": null,
            "min_width": null,
            "object_fit": null,
            "object_position": null,
            "order": null,
            "overflow": null,
            "overflow_x": null,
            "overflow_y": null,
            "padding": null,
            "right": null,
            "top": null,
            "visibility": null,
            "width": null
          }
        },
        "5e6af793f4df41358abd1629cebf1748": {
          "model_module": "@jupyter-widgets/controls",
          "model_name": "ProgressStyleModel",
          "model_module_version": "1.5.0",
          "state": {
            "_model_module": "@jupyter-widgets/controls",
            "_model_module_version": "1.5.0",
            "_model_name": "ProgressStyleModel",
            "_view_count": null,
            "_view_module": "@jupyter-widgets/base",
            "_view_module_version": "1.2.0",
            "_view_name": "StyleView",
            "bar_color": null,
            "description_width": ""
          }
        },
        "0714a6719e5b4d078187ec70faf72981": {
          "model_module": "@jupyter-widgets/base",
          "model_name": "LayoutModel",
          "model_module_version": "1.2.0",
          "state": {
            "_model_module": "@jupyter-widgets/base",
            "_model_module_version": "1.2.0",
            "_model_name": "LayoutModel",
            "_view_count": null,
            "_view_module": "@jupyter-widgets/base",
            "_view_module_version": "1.2.0",
            "_view_name": "LayoutView",
            "align_content": null,
            "align_items": null,
            "align_self": null,
            "border": null,
            "bottom": null,
            "display": null,
            "flex": null,
            "flex_flow": null,
            "grid_area": null,
            "grid_auto_columns": null,
            "grid_auto_flow": null,
            "grid_auto_rows": null,
            "grid_column": null,
            "grid_gap": null,
            "grid_row": null,
            "grid_template_areas": null,
            "grid_template_columns": null,
            "grid_template_rows": null,
            "height": null,
            "justify_content": null,
            "justify_items": null,
            "left": null,
            "margin": null,
            "max_height": null,
            "max_width": null,
            "min_height": null,
            "min_width": null,
            "object_fit": null,
            "object_position": null,
            "order": null,
            "overflow": null,
            "overflow_x": null,
            "overflow_y": null,
            "padding": null,
            "right": null,
            "top": null,
            "visibility": null,
            "width": null
          }
        },
        "e85b4b15aceb450a932445663dd34737": {
          "model_module": "@jupyter-widgets/controls",
          "model_name": "DescriptionStyleModel",
          "model_module_version": "1.5.0",
          "state": {
            "_model_module": "@jupyter-widgets/controls",
            "_model_module_version": "1.5.0",
            "_model_name": "DescriptionStyleModel",
            "_view_count": null,
            "_view_module": "@jupyter-widgets/base",
            "_view_module_version": "1.2.0",
            "_view_name": "StyleView",
            "description_width": ""
          }
        },
        "0dfbdd75c5884bab8a438e61e5d4736d": {
          "model_module": "@jupyter-widgets/controls",
          "model_name": "HBoxModel",
          "model_module_version": "1.5.0",
          "state": {
            "_dom_classes": [],
            "_model_module": "@jupyter-widgets/controls",
            "_model_module_version": "1.5.0",
            "_model_name": "HBoxModel",
            "_view_count": null,
            "_view_module": "@jupyter-widgets/controls",
            "_view_module_version": "1.5.0",
            "_view_name": "HBoxView",
            "box_style": "",
            "children": [
              "IPY_MODEL_cb28275848ae4fad96115c5d72eba536",
              "IPY_MODEL_daf0af9d4833407e8709fd16f08f230a",
              "IPY_MODEL_ca3b9c6081b64e58a098418c56acf585"
            ],
            "layout": "IPY_MODEL_0ef93a3988554cc7b7cb492bdc48f5fe"
          }
        },
        "cb28275848ae4fad96115c5d72eba536": {
          "model_module": "@jupyter-widgets/controls",
          "model_name": "HTMLModel",
          "model_module_version": "1.5.0",
          "state": {
            "_dom_classes": [],
            "_model_module": "@jupyter-widgets/controls",
            "_model_module_version": "1.5.0",
            "_model_name": "HTMLModel",
            "_view_count": null,
            "_view_module": "@jupyter-widgets/controls",
            "_view_module_version": "1.5.0",
            "_view_name": "HTMLView",
            "description": "",
            "description_tooltip": null,
            "layout": "IPY_MODEL_1a0b23832a314c74a90466284ad0337f",
            "placeholder": "​",
            "style": "IPY_MODEL_df0ddf5cce9d40f3b8f97dfab797b7d8",
            "value": "Running testcases... : 100%"
          }
        },
        "daf0af9d4833407e8709fd16f08f230a": {
          "model_module": "@jupyter-widgets/controls",
          "model_name": "FloatProgressModel",
          "model_module_version": "1.5.0",
          "state": {
            "_dom_classes": [],
            "_model_module": "@jupyter-widgets/controls",
            "_model_module_version": "1.5.0",
            "_model_name": "FloatProgressModel",
            "_view_count": null,
            "_view_module": "@jupyter-widgets/controls",
            "_view_module_version": "1.5.0",
            "_view_name": "ProgressView",
            "bar_style": "",
            "description": "",
            "description_tooltip": null,
            "layout": "IPY_MODEL_15d9cca4675b446b9be8a7531031aa59",
            "max": 2000,
            "min": 0,
            "orientation": "horizontal",
            "style": "IPY_MODEL_9278f9a7abe146d9a79468f7dfe566f0",
            "value": 2000
          }
        },
        "ca3b9c6081b64e58a098418c56acf585": {
          "model_module": "@jupyter-widgets/controls",
          "model_name": "HTMLModel",
          "model_module_version": "1.5.0",
          "state": {
            "_dom_classes": [],
            "_model_module": "@jupyter-widgets/controls",
            "_model_module_version": "1.5.0",
            "_model_name": "HTMLModel",
            "_view_count": null,
            "_view_module": "@jupyter-widgets/controls",
            "_view_module_version": "1.5.0",
            "_view_name": "HTMLView",
            "description": "",
            "description_tooltip": null,
            "layout": "IPY_MODEL_f62f82bc23314be3966f60ba8f5698b8",
            "placeholder": "​",
            "style": "IPY_MODEL_dc09a2f8861e489dab357fc4577bd667",
            "value": " 2000/2000 [02:21&lt;00:00, 19.37it/s]"
          }
        },
        "0ef93a3988554cc7b7cb492bdc48f5fe": {
          "model_module": "@jupyter-widgets/base",
          "model_name": "LayoutModel",
          "model_module_version": "1.2.0",
          "state": {
            "_model_module": "@jupyter-widgets/base",
            "_model_module_version": "1.2.0",
            "_model_name": "LayoutModel",
            "_view_count": null,
            "_view_module": "@jupyter-widgets/base",
            "_view_module_version": "1.2.0",
            "_view_name": "LayoutView",
            "align_content": null,
            "align_items": null,
            "align_self": null,
            "border": null,
            "bottom": null,
            "display": null,
            "flex": null,
            "flex_flow": null,
            "grid_area": null,
            "grid_auto_columns": null,
            "grid_auto_flow": null,
            "grid_auto_rows": null,
            "grid_column": null,
            "grid_gap": null,
            "grid_row": null,
            "grid_template_areas": null,
            "grid_template_columns": null,
            "grid_template_rows": null,
            "height": null,
            "justify_content": null,
            "justify_items": null,
            "left": null,
            "margin": null,
            "max_height": null,
            "max_width": null,
            "min_height": null,
            "min_width": null,
            "object_fit": null,
            "object_position": null,
            "order": null,
            "overflow": null,
            "overflow_x": null,
            "overflow_y": null,
            "padding": null,
            "right": null,
            "top": null,
            "visibility": null,
            "width": null
          }
        },
        "1a0b23832a314c74a90466284ad0337f": {
          "model_module": "@jupyter-widgets/base",
          "model_name": "LayoutModel",
          "model_module_version": "1.2.0",
          "state": {
            "_model_module": "@jupyter-widgets/base",
            "_model_module_version": "1.2.0",
            "_model_name": "LayoutModel",
            "_view_count": null,
            "_view_module": "@jupyter-widgets/base",
            "_view_module_version": "1.2.0",
            "_view_name": "LayoutView",
            "align_content": null,
            "align_items": null,
            "align_self": null,
            "border": null,
            "bottom": null,
            "display": null,
            "flex": null,
            "flex_flow": null,
            "grid_area": null,
            "grid_auto_columns": null,
            "grid_auto_flow": null,
            "grid_auto_rows": null,
            "grid_column": null,
            "grid_gap": null,
            "grid_row": null,
            "grid_template_areas": null,
            "grid_template_columns": null,
            "grid_template_rows": null,
            "height": null,
            "justify_content": null,
            "justify_items": null,
            "left": null,
            "margin": null,
            "max_height": null,
            "max_width": null,
            "min_height": null,
            "min_width": null,
            "object_fit": null,
            "object_position": null,
            "order": null,
            "overflow": null,
            "overflow_x": null,
            "overflow_y": null,
            "padding": null,
            "right": null,
            "top": null,
            "visibility": null,
            "width": null
          }
        },
        "df0ddf5cce9d40f3b8f97dfab797b7d8": {
          "model_module": "@jupyter-widgets/controls",
          "model_name": "DescriptionStyleModel",
          "model_module_version": "1.5.0",
          "state": {
            "_model_module": "@jupyter-widgets/controls",
            "_model_module_version": "1.5.0",
            "_model_name": "DescriptionStyleModel",
            "_view_count": null,
            "_view_module": "@jupyter-widgets/base",
            "_view_module_version": "1.2.0",
            "_view_name": "StyleView",
            "description_width": ""
          }
        },
        "15d9cca4675b446b9be8a7531031aa59": {
          "model_module": "@jupyter-widgets/base",
          "model_name": "LayoutModel",
          "model_module_version": "1.2.0",
          "state": {
            "_model_module": "@jupyter-widgets/base",
            "_model_module_version": "1.2.0",
            "_model_name": "LayoutModel",
            "_view_count": null,
            "_view_module": "@jupyter-widgets/base",
            "_view_module_version": "1.2.0",
            "_view_name": "LayoutView",
            "align_content": null,
            "align_items": null,
            "align_self": null,
            "border": null,
            "bottom": null,
            "display": null,
            "flex": null,
            "flex_flow": null,
            "grid_area": null,
            "grid_auto_columns": null,
            "grid_auto_flow": null,
            "grid_auto_rows": null,
            "grid_column": null,
            "grid_gap": null,
            "grid_row": null,
            "grid_template_areas": null,
            "grid_template_columns": null,
            "grid_template_rows": null,
            "height": null,
            "justify_content": null,
            "justify_items": null,
            "left": null,
            "margin": null,
            "max_height": null,
            "max_width": null,
            "min_height": null,
            "min_width": null,
            "object_fit": null,
            "object_position": null,
            "order": null,
            "overflow": null,
            "overflow_x": null,
            "overflow_y": null,
            "padding": null,
            "right": null,
            "top": null,
            "visibility": null,
            "width": null
          }
        },
        "9278f9a7abe146d9a79468f7dfe566f0": {
          "model_module": "@jupyter-widgets/controls",
          "model_name": "ProgressStyleModel",
          "model_module_version": "1.5.0",
          "state": {
            "_model_module": "@jupyter-widgets/controls",
            "_model_module_version": "1.5.0",
            "_model_name": "ProgressStyleModel",
            "_view_count": null,
            "_view_module": "@jupyter-widgets/base",
            "_view_module_version": "1.2.0",
            "_view_name": "StyleView",
            "bar_color": null,
            "description_width": ""
          }
        },
        "f62f82bc23314be3966f60ba8f5698b8": {
          "model_module": "@jupyter-widgets/base",
          "model_name": "LayoutModel",
          "model_module_version": "1.2.0",
          "state": {
            "_model_module": "@jupyter-widgets/base",
            "_model_module_version": "1.2.0",
            "_model_name": "LayoutModel",
            "_view_count": null,
            "_view_module": "@jupyter-widgets/base",
            "_view_module_version": "1.2.0",
            "_view_name": "LayoutView",
            "align_content": null,
            "align_items": null,
            "align_self": null,
            "border": null,
            "bottom": null,
            "display": null,
            "flex": null,
            "flex_flow": null,
            "grid_area": null,
            "grid_auto_columns": null,
            "grid_auto_flow": null,
            "grid_auto_rows": null,
            "grid_column": null,
            "grid_gap": null,
            "grid_row": null,
            "grid_template_areas": null,
            "grid_template_columns": null,
            "grid_template_rows": null,
            "height": null,
            "justify_content": null,
            "justify_items": null,
            "left": null,
            "margin": null,
            "max_height": null,
            "max_width": null,
            "min_height": null,
            "min_width": null,
            "object_fit": null,
            "object_position": null,
            "order": null,
            "overflow": null,
            "overflow_x": null,
            "overflow_y": null,
            "padding": null,
            "right": null,
            "top": null,
            "visibility": null,
            "width": null
          }
        },
        "dc09a2f8861e489dab357fc4577bd667": {
          "model_module": "@jupyter-widgets/controls",
          "model_name": "DescriptionStyleModel",
          "model_module_version": "1.5.0",
          "state": {
            "_model_module": "@jupyter-widgets/controls",
            "_model_module_version": "1.5.0",
            "_model_name": "DescriptionStyleModel",
            "_view_count": null,
            "_view_module": "@jupyter-widgets/base",
            "_view_module_version": "1.2.0",
            "_view_name": "StyleView",
            "description_width": ""
          }
        },
        "2f5421d3e1cb40198623136ed2017859": {
          "model_module": "@jupyter-widgets/controls",
          "model_name": "HBoxModel",
          "model_module_version": "1.5.0",
          "state": {
            "_dom_classes": [],
            "_model_module": "@jupyter-widgets/controls",
            "_model_module_version": "1.5.0",
            "_model_name": "HBoxModel",
            "_view_count": null,
            "_view_module": "@jupyter-widgets/controls",
            "_view_module_version": "1.5.0",
            "_view_name": "HBoxView",
            "box_style": "",
            "children": [
              "IPY_MODEL_f7b2354ecdef43849cddeb06dd8dd49c",
              "IPY_MODEL_be46d167b7d84464ab543bcb9261d5be",
              "IPY_MODEL_5d54419750eb44d095a8c61dcaa24af9"
            ],
            "layout": "IPY_MODEL_c859b0bdcebc4dd7af230e96c7803070"
          }
        },
        "f7b2354ecdef43849cddeb06dd8dd49c": {
          "model_module": "@jupyter-widgets/controls",
          "model_name": "HTMLModel",
          "model_module_version": "1.5.0",
          "state": {
            "_dom_classes": [],
            "_model_module": "@jupyter-widgets/controls",
            "_model_module_version": "1.5.0",
            "_model_name": "HTMLModel",
            "_view_count": null,
            "_view_module": "@jupyter-widgets/controls",
            "_view_module_version": "1.5.0",
            "_view_name": "HTMLView",
            "description": "",
            "description_tooltip": null,
            "layout": "IPY_MODEL_122e7ec2fdbf401c90f2d45a0e6c457f",
            "placeholder": "​",
            "style": "IPY_MODEL_45287508e8054ea5a345e38681230b21",
            "value": "Generating testcases...: 100%"
          }
        },
        "be46d167b7d84464ab543bcb9261d5be": {
          "model_module": "@jupyter-widgets/controls",
          "model_name": "FloatProgressModel",
          "model_module_version": "1.5.0",
          "state": {
            "_dom_classes": [],
            "_model_module": "@jupyter-widgets/controls",
            "_model_module_version": "1.5.0",
            "_model_name": "FloatProgressModel",
            "_view_count": null,
            "_view_module": "@jupyter-widgets/controls",
            "_view_module_version": "1.5.0",
            "_view_name": "ProgressView",
            "bar_style": "success",
            "description": "",
            "description_tooltip": null,
            "layout": "IPY_MODEL_ef3b9fe687844a28a4638f20ee43a56a",
            "max": 1,
            "min": 0,
            "orientation": "horizontal",
            "style": "IPY_MODEL_5a02f710387a4a04aa82ff6617ff6745",
            "value": 1
          }
        },
        "5d54419750eb44d095a8c61dcaa24af9": {
          "model_module": "@jupyter-widgets/controls",
          "model_name": "HTMLModel",
          "model_module_version": "1.5.0",
          "state": {
            "_dom_classes": [],
            "_model_module": "@jupyter-widgets/controls",
            "_model_module_version": "1.5.0",
            "_model_name": "HTMLModel",
            "_view_count": null,
            "_view_module": "@jupyter-widgets/controls",
            "_view_module_version": "1.5.0",
            "_view_name": "HTMLView",
            "description": "",
            "description_tooltip": null,
            "layout": "IPY_MODEL_73965ba2ec204e4f946274e696fb0757",
            "placeholder": "​",
            "style": "IPY_MODEL_393f53642f6d489489feee3fd16b776d",
            "value": " 1/1 [00:00&lt;00:00, 45.64it/s]"
          }
        },
        "c859b0bdcebc4dd7af230e96c7803070": {
          "model_module": "@jupyter-widgets/base",
          "model_name": "LayoutModel",
          "model_module_version": "1.2.0",
          "state": {
            "_model_module": "@jupyter-widgets/base",
            "_model_module_version": "1.2.0",
            "_model_name": "LayoutModel",
            "_view_count": null,
            "_view_module": "@jupyter-widgets/base",
            "_view_module_version": "1.2.0",
            "_view_name": "LayoutView",
            "align_content": null,
            "align_items": null,
            "align_self": null,
            "border": null,
            "bottom": null,
            "display": null,
            "flex": null,
            "flex_flow": null,
            "grid_area": null,
            "grid_auto_columns": null,
            "grid_auto_flow": null,
            "grid_auto_rows": null,
            "grid_column": null,
            "grid_gap": null,
            "grid_row": null,
            "grid_template_areas": null,
            "grid_template_columns": null,
            "grid_template_rows": null,
            "height": null,
            "justify_content": null,
            "justify_items": null,
            "left": null,
            "margin": null,
            "max_height": null,
            "max_width": null,
            "min_height": null,
            "min_width": null,
            "object_fit": null,
            "object_position": null,
            "order": null,
            "overflow": null,
            "overflow_x": null,
            "overflow_y": null,
            "padding": null,
            "right": null,
            "top": null,
            "visibility": null,
            "width": null
          }
        },
        "122e7ec2fdbf401c90f2d45a0e6c457f": {
          "model_module": "@jupyter-widgets/base",
          "model_name": "LayoutModel",
          "model_module_version": "1.2.0",
          "state": {
            "_model_module": "@jupyter-widgets/base",
            "_model_module_version": "1.2.0",
            "_model_name": "LayoutModel",
            "_view_count": null,
            "_view_module": "@jupyter-widgets/base",
            "_view_module_version": "1.2.0",
            "_view_name": "LayoutView",
            "align_content": null,
            "align_items": null,
            "align_self": null,
            "border": null,
            "bottom": null,
            "display": null,
            "flex": null,
            "flex_flow": null,
            "grid_area": null,
            "grid_auto_columns": null,
            "grid_auto_flow": null,
            "grid_auto_rows": null,
            "grid_column": null,
            "grid_gap": null,
            "grid_row": null,
            "grid_template_areas": null,
            "grid_template_columns": null,
            "grid_template_rows": null,
            "height": null,
            "justify_content": null,
            "justify_items": null,
            "left": null,
            "margin": null,
            "max_height": null,
            "max_width": null,
            "min_height": null,
            "min_width": null,
            "object_fit": null,
            "object_position": null,
            "order": null,
            "overflow": null,
            "overflow_x": null,
            "overflow_y": null,
            "padding": null,
            "right": null,
            "top": null,
            "visibility": null,
            "width": null
          }
        },
        "45287508e8054ea5a345e38681230b21": {
          "model_module": "@jupyter-widgets/controls",
          "model_name": "DescriptionStyleModel",
          "model_module_version": "1.5.0",
          "state": {
            "_model_module": "@jupyter-widgets/controls",
            "_model_module_version": "1.5.0",
            "_model_name": "DescriptionStyleModel",
            "_view_count": null,
            "_view_module": "@jupyter-widgets/base",
            "_view_module_version": "1.2.0",
            "_view_name": "StyleView",
            "description_width": ""
          }
        },
        "ef3b9fe687844a28a4638f20ee43a56a": {
          "model_module": "@jupyter-widgets/base",
          "model_name": "LayoutModel",
          "model_module_version": "1.2.0",
          "state": {
            "_model_module": "@jupyter-widgets/base",
            "_model_module_version": "1.2.0",
            "_model_name": "LayoutModel",
            "_view_count": null,
            "_view_module": "@jupyter-widgets/base",
            "_view_module_version": "1.2.0",
            "_view_name": "LayoutView",
            "align_content": null,
            "align_items": null,
            "align_self": null,
            "border": null,
            "bottom": null,
            "display": null,
            "flex": null,
            "flex_flow": null,
            "grid_area": null,
            "grid_auto_columns": null,
            "grid_auto_flow": null,
            "grid_auto_rows": null,
            "grid_column": null,
            "grid_gap": null,
            "grid_row": null,
            "grid_template_areas": null,
            "grid_template_columns": null,
            "grid_template_rows": null,
            "height": null,
            "justify_content": null,
            "justify_items": null,
            "left": null,
            "margin": null,
            "max_height": null,
            "max_width": null,
            "min_height": null,
            "min_width": null,
            "object_fit": null,
            "object_position": null,
            "order": null,
            "overflow": null,
            "overflow_x": null,
            "overflow_y": null,
            "padding": null,
            "right": null,
            "top": null,
            "visibility": null,
            "width": null
          }
        },
        "5a02f710387a4a04aa82ff6617ff6745": {
          "model_module": "@jupyter-widgets/controls",
          "model_name": "ProgressStyleModel",
          "model_module_version": "1.5.0",
          "state": {
            "_model_module": "@jupyter-widgets/controls",
            "_model_module_version": "1.5.0",
            "_model_name": "ProgressStyleModel",
            "_view_count": null,
            "_view_module": "@jupyter-widgets/base",
            "_view_module_version": "1.2.0",
            "_view_name": "StyleView",
            "bar_color": null,
            "description_width": ""
          }
        },
        "73965ba2ec204e4f946274e696fb0757": {
          "model_module": "@jupyter-widgets/base",
          "model_name": "LayoutModel",
          "model_module_version": "1.2.0",
          "state": {
            "_model_module": "@jupyter-widgets/base",
            "_model_module_version": "1.2.0",
            "_model_name": "LayoutModel",
            "_view_count": null,
            "_view_module": "@jupyter-widgets/base",
            "_view_module_version": "1.2.0",
            "_view_name": "LayoutView",
            "align_content": null,
            "align_items": null,
            "align_self": null,
            "border": null,
            "bottom": null,
            "display": null,
            "flex": null,
            "flex_flow": null,
            "grid_area": null,
            "grid_auto_columns": null,
            "grid_auto_flow": null,
            "grid_auto_rows": null,
            "grid_column": null,
            "grid_gap": null,
            "grid_row": null,
            "grid_template_areas": null,
            "grid_template_columns": null,
            "grid_template_rows": null,
            "height": null,
            "justify_content": null,
            "justify_items": null,
            "left": null,
            "margin": null,
            "max_height": null,
            "max_width": null,
            "min_height": null,
            "min_width": null,
            "object_fit": null,
            "object_position": null,
            "order": null,
            "overflow": null,
            "overflow_x": null,
            "overflow_y": null,
            "padding": null,
            "right": null,
            "top": null,
            "visibility": null,
            "width": null
          }
        },
        "393f53642f6d489489feee3fd16b776d": {
          "model_module": "@jupyter-widgets/controls",
          "model_name": "DescriptionStyleModel",
          "model_module_version": "1.5.0",
          "state": {
            "_model_module": "@jupyter-widgets/controls",
            "_model_module_version": "1.5.0",
            "_model_name": "DescriptionStyleModel",
            "_view_count": null,
            "_view_module": "@jupyter-widgets/base",
            "_view_module_version": "1.2.0",
            "_view_name": "StyleView",
            "description_width": ""
          }
        },
        "68154dc86b7c4f66944eaa1b94b06c83": {
          "model_module": "@jupyter-widgets/controls",
          "model_name": "HBoxModel",
          "model_module_version": "1.5.0",
          "state": {
            "_dom_classes": [],
            "_model_module": "@jupyter-widgets/controls",
            "_model_module_version": "1.5.0",
            "_model_name": "HBoxModel",
            "_view_count": null,
            "_view_module": "@jupyter-widgets/controls",
            "_view_module_version": "1.5.0",
            "_view_name": "HBoxView",
            "box_style": "",
            "children": [
              "IPY_MODEL_b3639ef3b3be4576860e570202964b49",
              "IPY_MODEL_451fc9527e474d8eb0beadab95491681",
              "IPY_MODEL_6f3d54dfa95240aa955e311894b26614"
            ],
            "layout": "IPY_MODEL_e4e3cc7920dc470689738e84ece691dc"
          }
        },
        "b3639ef3b3be4576860e570202964b49": {
          "model_module": "@jupyter-widgets/controls",
          "model_name": "HTMLModel",
          "model_module_version": "1.5.0",
          "state": {
            "_dom_classes": [],
            "_model_module": "@jupyter-widgets/controls",
            "_model_module_version": "1.5.0",
            "_model_name": "HTMLModel",
            "_view_count": null,
            "_view_module": "@jupyter-widgets/controls",
            "_view_module_version": "1.5.0",
            "_view_name": "HTMLView",
            "description": "",
            "description_tooltip": null,
            "layout": "IPY_MODEL_cfcbd52dba3e4d38a47c4cc062ac0a23",
            "placeholder": "​",
            "style": "IPY_MODEL_5abc23af1ed04acf8f424e1a1e1b4952",
            "value": "Running testcases... :  60%"
          }
        },
        "451fc9527e474d8eb0beadab95491681": {
          "model_module": "@jupyter-widgets/controls",
          "model_name": "FloatProgressModel",
          "model_module_version": "1.5.0",
          "state": {
            "_dom_classes": [],
            "_model_module": "@jupyter-widgets/controls",
            "_model_module_version": "1.5.0",
            "_model_name": "FloatProgressModel",
            "_view_count": null,
            "_view_module": "@jupyter-widgets/controls",
            "_view_module_version": "1.5.0",
            "_view_name": "ProgressView",
            "bar_style": "",
            "description": "",
            "description_tooltip": null,
            "layout": "IPY_MODEL_a705bad2768340cb9830fc81e15f5012",
            "max": 1994,
            "min": 0,
            "orientation": "horizontal",
            "style": "IPY_MODEL_cb329a4158fb49a7b0e57511e5847f7f",
            "value": 1197
          }
        },
        "6f3d54dfa95240aa955e311894b26614": {
          "model_module": "@jupyter-widgets/controls",
          "model_name": "HTMLModel",
          "model_module_version": "1.5.0",
          "state": {
            "_dom_classes": [],
            "_model_module": "@jupyter-widgets/controls",
            "_model_module_version": "1.5.0",
            "_model_name": "HTMLModel",
            "_view_count": null,
            "_view_module": "@jupyter-widgets/controls",
            "_view_module_version": "1.5.0",
            "_view_name": "HTMLView",
            "description": "",
            "description_tooltip": null,
            "layout": "IPY_MODEL_33f95c9b4ed84fb4b38e2cfacc7ef53d",
            "placeholder": "​",
            "style": "IPY_MODEL_0a0281fae87f48e3aef5583ffd8cee59",
            "value": " 1197/1994 [10:52&lt;05:10,  2.57it/s]"
          }
        },
        "e4e3cc7920dc470689738e84ece691dc": {
          "model_module": "@jupyter-widgets/base",
          "model_name": "LayoutModel",
          "model_module_version": "1.2.0",
          "state": {
            "_model_module": "@jupyter-widgets/base",
            "_model_module_version": "1.2.0",
            "_model_name": "LayoutModel",
            "_view_count": null,
            "_view_module": "@jupyter-widgets/base",
            "_view_module_version": "1.2.0",
            "_view_name": "LayoutView",
            "align_content": null,
            "align_items": null,
            "align_self": null,
            "border": null,
            "bottom": null,
            "display": null,
            "flex": null,
            "flex_flow": null,
            "grid_area": null,
            "grid_auto_columns": null,
            "grid_auto_flow": null,
            "grid_auto_rows": null,
            "grid_column": null,
            "grid_gap": null,
            "grid_row": null,
            "grid_template_areas": null,
            "grid_template_columns": null,
            "grid_template_rows": null,
            "height": null,
            "justify_content": null,
            "justify_items": null,
            "left": null,
            "margin": null,
            "max_height": null,
            "max_width": null,
            "min_height": null,
            "min_width": null,
            "object_fit": null,
            "object_position": null,
            "order": null,
            "overflow": null,
            "overflow_x": null,
            "overflow_y": null,
            "padding": null,
            "right": null,
            "top": null,
            "visibility": null,
            "width": null
          }
        },
        "cfcbd52dba3e4d38a47c4cc062ac0a23": {
          "model_module": "@jupyter-widgets/base",
          "model_name": "LayoutModel",
          "model_module_version": "1.2.0",
          "state": {
            "_model_module": "@jupyter-widgets/base",
            "_model_module_version": "1.2.0",
            "_model_name": "LayoutModel",
            "_view_count": null,
            "_view_module": "@jupyter-widgets/base",
            "_view_module_version": "1.2.0",
            "_view_name": "LayoutView",
            "align_content": null,
            "align_items": null,
            "align_self": null,
            "border": null,
            "bottom": null,
            "display": null,
            "flex": null,
            "flex_flow": null,
            "grid_area": null,
            "grid_auto_columns": null,
            "grid_auto_flow": null,
            "grid_auto_rows": null,
            "grid_column": null,
            "grid_gap": null,
            "grid_row": null,
            "grid_template_areas": null,
            "grid_template_columns": null,
            "grid_template_rows": null,
            "height": null,
            "justify_content": null,
            "justify_items": null,
            "left": null,
            "margin": null,
            "max_height": null,
            "max_width": null,
            "min_height": null,
            "min_width": null,
            "object_fit": null,
            "object_position": null,
            "order": null,
            "overflow": null,
            "overflow_x": null,
            "overflow_y": null,
            "padding": null,
            "right": null,
            "top": null,
            "visibility": null,
            "width": null
          }
        },
        "5abc23af1ed04acf8f424e1a1e1b4952": {
          "model_module": "@jupyter-widgets/controls",
          "model_name": "DescriptionStyleModel",
          "model_module_version": "1.5.0",
          "state": {
            "_model_module": "@jupyter-widgets/controls",
            "_model_module_version": "1.5.0",
            "_model_name": "DescriptionStyleModel",
            "_view_count": null,
            "_view_module": "@jupyter-widgets/base",
            "_view_module_version": "1.2.0",
            "_view_name": "StyleView",
            "description_width": ""
          }
        },
        "a705bad2768340cb9830fc81e15f5012": {
          "model_module": "@jupyter-widgets/base",
          "model_name": "LayoutModel",
          "model_module_version": "1.2.0",
          "state": {
            "_model_module": "@jupyter-widgets/base",
            "_model_module_version": "1.2.0",
            "_model_name": "LayoutModel",
            "_view_count": null,
            "_view_module": "@jupyter-widgets/base",
            "_view_module_version": "1.2.0",
            "_view_name": "LayoutView",
            "align_content": null,
            "align_items": null,
            "align_self": null,
            "border": null,
            "bottom": null,
            "display": null,
            "flex": null,
            "flex_flow": null,
            "grid_area": null,
            "grid_auto_columns": null,
            "grid_auto_flow": null,
            "grid_auto_rows": null,
            "grid_column": null,
            "grid_gap": null,
            "grid_row": null,
            "grid_template_areas": null,
            "grid_template_columns": null,
            "grid_template_rows": null,
            "height": null,
            "justify_content": null,
            "justify_items": null,
            "left": null,
            "margin": null,
            "max_height": null,
            "max_width": null,
            "min_height": null,
            "min_width": null,
            "object_fit": null,
            "object_position": null,
            "order": null,
            "overflow": null,
            "overflow_x": null,
            "overflow_y": null,
            "padding": null,
            "right": null,
            "top": null,
            "visibility": null,
            "width": null
          }
        },
        "cb329a4158fb49a7b0e57511e5847f7f": {
          "model_module": "@jupyter-widgets/controls",
          "model_name": "ProgressStyleModel",
          "model_module_version": "1.5.0",
          "state": {
            "_model_module": "@jupyter-widgets/controls",
            "_model_module_version": "1.5.0",
            "_model_name": "ProgressStyleModel",
            "_view_count": null,
            "_view_module": "@jupyter-widgets/base",
            "_view_module_version": "1.2.0",
            "_view_name": "StyleView",
            "bar_color": null,
            "description_width": ""
          }
        },
        "33f95c9b4ed84fb4b38e2cfacc7ef53d": {
          "model_module": "@jupyter-widgets/base",
          "model_name": "LayoutModel",
          "model_module_version": "1.2.0",
          "state": {
            "_model_module": "@jupyter-widgets/base",
            "_model_module_version": "1.2.0",
            "_model_name": "LayoutModel",
            "_view_count": null,
            "_view_module": "@jupyter-widgets/base",
            "_view_module_version": "1.2.0",
            "_view_name": "LayoutView",
            "align_content": null,
            "align_items": null,
            "align_self": null,
            "border": null,
            "bottom": null,
            "display": null,
            "flex": null,
            "flex_flow": null,
            "grid_area": null,
            "grid_auto_columns": null,
            "grid_auto_flow": null,
            "grid_auto_rows": null,
            "grid_column": null,
            "grid_gap": null,
            "grid_row": null,
            "grid_template_areas": null,
            "grid_template_columns": null,
            "grid_template_rows": null,
            "height": null,
            "justify_content": null,
            "justify_items": null,
            "left": null,
            "margin": null,
            "max_height": null,
            "max_width": null,
            "min_height": null,
            "min_width": null,
            "object_fit": null,
            "object_position": null,
            "order": null,
            "overflow": null,
            "overflow_x": null,
            "overflow_y": null,
            "padding": null,
            "right": null,
            "top": null,
            "visibility": null,
            "width": null
          }
        },
        "0a0281fae87f48e3aef5583ffd8cee59": {
          "model_module": "@jupyter-widgets/controls",
          "model_name": "DescriptionStyleModel",
          "model_module_version": "1.5.0",
          "state": {
            "_model_module": "@jupyter-widgets/controls",
            "_model_module_version": "1.5.0",
            "_model_name": "DescriptionStyleModel",
            "_view_count": null,
            "_view_module": "@jupyter-widgets/base",
            "_view_module_version": "1.2.0",
            "_view_name": "StyleView",
            "description_width": ""
          }
        }
      }
    }
  },
  "nbformat": 4,
  "nbformat_minor": 0
}